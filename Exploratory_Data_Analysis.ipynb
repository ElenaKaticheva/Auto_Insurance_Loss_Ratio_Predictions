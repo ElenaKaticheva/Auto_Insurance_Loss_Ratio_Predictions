{
 "cells": [
  {
   "cell_type": "code",
   "execution_count": 1,
   "metadata": {},
   "outputs": [],
   "source": [
    "import pandas as pd\n",
    "import numpy as np\n",
    "from pandas_profiling import ProfileReport\n",
    "import matplotlib.pyplot as plt\n",
    "%matplotlib inline\n",
    "import seaborn as sns"
   ]
  },
  {
   "cell_type": "code",
   "execution_count": 2,
   "metadata": {},
   "outputs": [
    {
     "name": "stderr",
     "output_type": "stream",
     "text": [
      "/Applications/anaconda3/lib/python3.7/site-packages/IPython/core/interactiveshell.py:3058: DtypeWarning: Columns (6,54) have mixed types.Specify dtype option on import or set low_memory=False.\n",
      "  interactivity=interactivity, compiler=compiler, result=result)\n"
     ]
    },
    {
     "data": {
      "text/html": [
       "<div>\n",
       "<style scoped>\n",
       "    .dataframe tbody tr th:only-of-type {\n",
       "        vertical-align: middle;\n",
       "    }\n",
       "\n",
       "    .dataframe tbody tr th {\n",
       "        vertical-align: top;\n",
       "    }\n",
       "\n",
       "    .dataframe thead th {\n",
       "        text-align: right;\n",
       "    }\n",
       "</style>\n",
       "<table border=\"1\" class=\"dataframe\">\n",
       "  <thead>\n",
       "    <tr style=\"text-align: right;\">\n",
       "      <th></th>\n",
       "      <th>PolicyNo</th>\n",
       "      <th>Policy_Company</th>\n",
       "      <th>Policy_Installment_Term</th>\n",
       "      <th>Policy_Billing_Code</th>\n",
       "      <th>Policy_Method_Of_Payment</th>\n",
       "      <th>Policy_Reinstatement_Fee_Indicator</th>\n",
       "      <th>Policy_Zip_Code_Garaging_Location</th>\n",
       "      <th>Vehicle_Territory</th>\n",
       "      <th>Vehicle_Make_Year</th>\n",
       "      <th>Vehicle_Make_Description</th>\n",
       "      <th>...</th>\n",
       "      <th>EEA_Prior_Bodily_Injury_Limit</th>\n",
       "      <th>EEA_PolicyYear</th>\n",
       "      <th>SYS_Renewed</th>\n",
       "      <th>SYS_New_Business</th>\n",
       "      <th>Annual_Premium</th>\n",
       "      <th>Claim_Count</th>\n",
       "      <th>Loss_Amount</th>\n",
       "      <th>Frequency</th>\n",
       "      <th>Severity</th>\n",
       "      <th>Loss_Ratio</th>\n",
       "    </tr>\n",
       "  </thead>\n",
       "  <tbody>\n",
       "    <tr>\n",
       "      <th>0</th>\n",
       "      <td>164532941</td>\n",
       "      <td>Standard</td>\n",
       "      <td>6</td>\n",
       "      <td>Direct Billed to Insured</td>\n",
       "      <td>Pre-paid</td>\n",
       "      <td>N</td>\n",
       "      <td>43046</td>\n",
       "      <td>35</td>\n",
       "      <td>2004</td>\n",
       "      <td>BUIK LESABRE LI</td>\n",
       "      <td>...</td>\n",
       "      <td>100-400</td>\n",
       "      <td>2006</td>\n",
       "      <td>Y</td>\n",
       "      <td>N</td>\n",
       "      <td>320.12</td>\n",
       "      <td>0</td>\n",
       "      <td>0.0</td>\n",
       "      <td>0.0</td>\n",
       "      <td>0.0</td>\n",
       "      <td>0.0</td>\n",
       "    </tr>\n",
       "    <tr>\n",
       "      <th>1</th>\n",
       "      <td>164533241</td>\n",
       "      <td>Standard</td>\n",
       "      <td>6</td>\n",
       "      <td>Direct Billed to Insured</td>\n",
       "      <td>Pre-paid</td>\n",
       "      <td>N</td>\n",
       "      <td>Unknown</td>\n",
       "      <td>35</td>\n",
       "      <td>1980</td>\n",
       "      <td>CADILLAC   4-DOOR</td>\n",
       "      <td>...</td>\n",
       "      <td>100-200</td>\n",
       "      <td>2006</td>\n",
       "      <td>Y</td>\n",
       "      <td>N</td>\n",
       "      <td>259.70</td>\n",
       "      <td>0</td>\n",
       "      <td>0.0</td>\n",
       "      <td>0.0</td>\n",
       "      <td>0.0</td>\n",
       "      <td>0.0</td>\n",
       "    </tr>\n",
       "    <tr>\n",
       "      <th>2</th>\n",
       "      <td>164534633</td>\n",
       "      <td>Standard</td>\n",
       "      <td>6</td>\n",
       "      <td>Direct Billed to Insured</td>\n",
       "      <td>Pre-paid</td>\n",
       "      <td>N</td>\n",
       "      <td>43555</td>\n",
       "      <td>17</td>\n",
       "      <td>2005</td>\n",
       "      <td>PONT MONTANA SV</td>\n",
       "      <td>...</td>\n",
       "      <td>100-400</td>\n",
       "      <td>2006</td>\n",
       "      <td>Y</td>\n",
       "      <td>N</td>\n",
       "      <td>613.74</td>\n",
       "      <td>0</td>\n",
       "      <td>0.0</td>\n",
       "      <td>0.0</td>\n",
       "      <td>0.0</td>\n",
       "      <td>0.0</td>\n",
       "    </tr>\n",
       "    <tr>\n",
       "      <th>3</th>\n",
       "      <td>164534839</td>\n",
       "      <td>Standard</td>\n",
       "      <td>6</td>\n",
       "      <td>Direct Billed to Insured</td>\n",
       "      <td>Pre-paid</td>\n",
       "      <td>N</td>\n",
       "      <td>43561</td>\n",
       "      <td>17</td>\n",
       "      <td>2005</td>\n",
       "      <td>MERC GRAND MARQ</td>\n",
       "      <td>...</td>\n",
       "      <td>40-100</td>\n",
       "      <td>2006</td>\n",
       "      <td>Y</td>\n",
       "      <td>N</td>\n",
       "      <td>541.66</td>\n",
       "      <td>0</td>\n",
       "      <td>0.0</td>\n",
       "      <td>0.0</td>\n",
       "      <td>0.0</td>\n",
       "      <td>0.0</td>\n",
       "    </tr>\n",
       "    <tr>\n",
       "      <th>4</th>\n",
       "      <td>164534840</td>\n",
       "      <td>Standard</td>\n",
       "      <td>6</td>\n",
       "      <td>Direct Billed to Insured</td>\n",
       "      <td>Pre-paid</td>\n",
       "      <td>N</td>\n",
       "      <td>43561</td>\n",
       "      <td>17</td>\n",
       "      <td>2005</td>\n",
       "      <td>MERC GRAND MARQ</td>\n",
       "      <td>...</td>\n",
       "      <td>40-100</td>\n",
       "      <td>2006</td>\n",
       "      <td>Y</td>\n",
       "      <td>N</td>\n",
       "      <td>541.66</td>\n",
       "      <td>0</td>\n",
       "      <td>0.0</td>\n",
       "      <td>0.0</td>\n",
       "      <td>0.0</td>\n",
       "      <td>0.0</td>\n",
       "    </tr>\n",
       "  </tbody>\n",
       "</table>\n",
       "<p>5 rows × 69 columns</p>\n",
       "</div>"
      ],
      "text/plain": [
       "    PolicyNo Policy_Company  Policy_Installment_Term  \\\n",
       "0  164532941      Standard                         6   \n",
       "1  164533241      Standard                         6   \n",
       "2  164534633      Standard                         6   \n",
       "3  164534839      Standard                         6   \n",
       "4  164534840      Standard                         6   \n",
       "\n",
       "        Policy_Billing_Code Policy_Method_Of_Payment  \\\n",
       "0  Direct Billed to Insured                 Pre-paid   \n",
       "1  Direct Billed to Insured                 Pre-paid   \n",
       "2  Direct Billed to Insured                 Pre-paid   \n",
       "3  Direct Billed to Insured                 Pre-paid   \n",
       "4  Direct Billed to Insured                 Pre-paid   \n",
       "\n",
       "  Policy_Reinstatement_Fee_Indicator Policy_Zip_Code_Garaging_Location  \\\n",
       "0                                  N                             43046   \n",
       "1                                  N                           Unknown   \n",
       "2                                  N                             43555   \n",
       "3                                  N                             43561   \n",
       "4                                  N                             43561   \n",
       "\n",
       "   Vehicle_Territory  Vehicle_Make_Year Vehicle_Make_Description  ...  \\\n",
       "0                 35               2004        BUIK LESABRE LI    ...   \n",
       "1                 35               1980        CADILLAC   4-DOOR  ...   \n",
       "2                 17               2005        PONT MONTANA SV    ...   \n",
       "3                 17               2005        MERC GRAND MARQ    ...   \n",
       "4                 17               2005        MERC GRAND MARQ    ...   \n",
       "\n",
       "  EEA_Prior_Bodily_Injury_Limit  EEA_PolicyYear  SYS_Renewed  \\\n",
       "0                       100-400            2006            Y   \n",
       "1                       100-200            2006            Y   \n",
       "2                       100-400            2006            Y   \n",
       "3                       40-100             2006            Y   \n",
       "4                       40-100             2006            Y   \n",
       "\n",
       "   SYS_New_Business Annual_Premium  Claim_Count  Loss_Amount Frequency  \\\n",
       "0                 N         320.12            0          0.0       0.0   \n",
       "1                 N         259.70            0          0.0       0.0   \n",
       "2                 N         613.74            0          0.0       0.0   \n",
       "3                 N         541.66            0          0.0       0.0   \n",
       "4                 N         541.66            0          0.0       0.0   \n",
       "\n",
       "  Severity Loss_Ratio  \n",
       "0      0.0        0.0  \n",
       "1      0.0        0.0  \n",
       "2      0.0        0.0  \n",
       "3      0.0        0.0  \n",
       "4      0.0        0.0  \n",
       "\n",
       "[5 rows x 69 columns]"
      ]
     },
     "execution_count": 2,
     "metadata": {},
     "output_type": "execute_result"
    }
   ],
   "source": [
    "df = pd.read_csv('training_data.csv')\n",
    "df.head()"
   ]
  },
  {
   "cell_type": "code",
   "execution_count": 3,
   "metadata": {},
   "outputs": [
    {
     "data": {
      "text/plain": [
       "(424431, 69)"
      ]
     },
     "execution_count": 3,
     "metadata": {},
     "output_type": "execute_result"
    }
   ],
   "source": [
    "df.shape"
   ]
  },
  {
   "cell_type": "code",
   "execution_count": 4,
   "metadata": {},
   "outputs": [
    {
     "name": "stdout",
     "output_type": "stream",
     "text": [
      "<class 'pandas.core.frame.DataFrame'>\n",
      "RangeIndex: 424431 entries, 0 to 424430\n",
      "Data columns (total 69 columns):\n",
      " #   Column                                    Non-Null Count   Dtype  \n",
      "---  ------                                    --------------   -----  \n",
      " 0   PolicyNo                                  424431 non-null  int64  \n",
      " 1   Policy_Company                            424431 non-null  object \n",
      " 2   Policy_Installment_Term                   424431 non-null  int64  \n",
      " 3   Policy_Billing_Code                       424431 non-null  object \n",
      " 4   Policy_Method_Of_Payment                  424431 non-null  object \n",
      " 5   Policy_Reinstatement_Fee_Indicator        424431 non-null  object \n",
      " 6   Policy_Zip_Code_Garaging_Location         424431 non-null  object \n",
      " 7   Vehicle_Territory                         424431 non-null  int64  \n",
      " 8   Vehicle_Make_Year                         424431 non-null  int64  \n",
      " 9   Vehicle_Make_Description                  424431 non-null  object \n",
      " 10  Vehicle_Performance                       424431 non-null  object \n",
      " 11  Vehicle_New_Cost_Amount                   424431 non-null  int64  \n",
      " 12  Vehicle_Symbol                            424431 non-null  int64  \n",
      " 13  Vehicle_Number_Of_Drivers_Assigned        424431 non-null  int64  \n",
      " 14  Vehicle_Usage                             424431 non-null  object \n",
      " 15  Vehicle_Miles_To_Work                     424431 non-null  int64  \n",
      " 16  Vehicle_Days_Per_Week_Driven              424431 non-null  int64  \n",
      " 17  Vehicle_Annual_Miles                      424431 non-null  object \n",
      " 18  Vehicle_Anti_Theft_Device                 424431 non-null  object \n",
      " 19  Vehicle_Passive_Restraint                 424431 non-null  object \n",
      " 20  Vehicle_Age_In_Years                      424431 non-null  int64  \n",
      " 21  Vehicle_Med_Pay_Limit                     424431 non-null  int64  \n",
      " 22  Vehicle_Bodily_Injury_Limit               407105 non-null  object \n",
      " 23  Vehicle_Physical_Damage_Limit             424431 non-null  int64  \n",
      " 24  Vehicle_Comprehensive_Coverage_Indicator  424431 non-null  object \n",
      " 25  Vehicle_Comprehensive_Coverage_Limit      424431 non-null  int64  \n",
      " 26  Vehicle_Collision_Coverage_Indicator      424431 non-null  object \n",
      " 27  Vehicle_Collision_Coverage_Deductible     424431 non-null  int64  \n",
      " 28  Driver_Total                              424431 non-null  int64  \n",
      " 29  Driver_Total_Male                         424431 non-null  int64  \n",
      " 30  Driver_Total_Female                       424431 non-null  int64  \n",
      " 31  Driver_Total_Single                       424431 non-null  int64  \n",
      " 32  Driver_Total_Married                      424431 non-null  int64  \n",
      " 33  Driver_Total_Related_To_Insured_Self      424431 non-null  int64  \n",
      " 34  Driver_Total_Related_To_Insured_Spouse    424431 non-null  int64  \n",
      " 35  Driver_Total_Related_To_Insured_Child     424431 non-null  int64  \n",
      " 36  Driver_Total_Licensed_In_State            424431 non-null  int64  \n",
      " 37  Driver_Minimum_Age                        424431 non-null  int64  \n",
      " 38  Driver_Maximum_Age                        424431 non-null  int64  \n",
      " 39  Driver_Total_Teenager_Age_15_19           424431 non-null  int64  \n",
      " 40  Driver_Total_College_Ages_20_23           424431 non-null  int64  \n",
      " 41  Driver_Total_Young_Adult_Ages_24_29       424431 non-null  int64  \n",
      " 42  Driver_Total_Low_Middle_Adult_Ages_30_39  424431 non-null  int64  \n",
      " 43  Driver_Total_Middle_Adult_Ages_40_49      424431 non-null  int64  \n",
      " 44  Driver_Total_Adult_Ages_50_64             424431 non-null  int64  \n",
      " 45  Driver_Total_Senior_Ages_65_69            424431 non-null  int64  \n",
      " 46  Driver_Total_Upper_Senior_Ages_70_plus    424431 non-null  int64  \n",
      " 47  Vehicle_Youthful_Driver_Indicator         424431 non-null  object \n",
      " 48  Vehicle_Youthful_Driver_Training_Code     424431 non-null  object \n",
      " 49  Vehicle_Youthful_Good_Student_Code        424431 non-null  object \n",
      " 50  Vehicle_Driver_Points                     424431 non-null  int64  \n",
      " 51  Vehicle_Safe_Driver_Discount_Indicator    424431 non-null  object \n",
      " 52  EEA_Liability_Coverage_Only_Indicator     424431 non-null  object \n",
      " 53  EEA_Multi_Auto_Policies_Indicator         424431 non-null  object \n",
      " 54  EEA_Policy_Zip_Code_3                     424431 non-null  object \n",
      " 55  EEA_Policy_Tenure                         424431 non-null  float64\n",
      " 56  EEA_Agency_Type                           424431 non-null  object \n",
      " 57  EEA_Packaged_Policy_Indicator             424431 non-null  object \n",
      " 58  EEA_Full_Coverage_Indicator               424431 non-null  object \n",
      " 59  EEA_Prior_Bodily_Injury_Limit             407105 non-null  object \n",
      " 60  EEA_PolicyYear                            424431 non-null  int64  \n",
      " 61  SYS_Renewed                               424431 non-null  object \n",
      " 62  SYS_New_Business                          424431 non-null  object \n",
      " 63  Annual_Premium                            424431 non-null  float64\n",
      " 64  Claim_Count                               424431 non-null  int64  \n",
      " 65  Loss_Amount                               424431 non-null  float64\n",
      " 66  Frequency                                 424431 non-null  float64\n",
      " 67  Severity                                  424431 non-null  float64\n",
      " 68  Loss_Ratio                                424431 non-null  float64\n",
      "dtypes: float64(6), int64(36), object(27)\n",
      "memory usage: 223.4+ MB\n"
     ]
    }
   ],
   "source": [
    "df.info()"
   ]
  },
  {
   "cell_type": "code",
   "execution_count": 5,
   "metadata": {},
   "outputs": [
    {
     "data": {
      "text/html": [
       "<div>\n",
       "<style scoped>\n",
       "    .dataframe tbody tr th:only-of-type {\n",
       "        vertical-align: middle;\n",
       "    }\n",
       "\n",
       "    .dataframe tbody tr th {\n",
       "        vertical-align: top;\n",
       "    }\n",
       "\n",
       "    .dataframe thead th {\n",
       "        text-align: right;\n",
       "    }\n",
       "</style>\n",
       "<table border=\"1\" class=\"dataframe\">\n",
       "  <thead>\n",
       "    <tr style=\"text-align: right;\">\n",
       "      <th></th>\n",
       "      <th>Policy_Company</th>\n",
       "      <th>Policy_Billing_Code</th>\n",
       "      <th>Policy_Method_Of_Payment</th>\n",
       "      <th>Policy_Reinstatement_Fee_Indicator</th>\n",
       "      <th>Policy_Zip_Code_Garaging_Location</th>\n",
       "      <th>Vehicle_Make_Description</th>\n",
       "      <th>Vehicle_Performance</th>\n",
       "      <th>Vehicle_Usage</th>\n",
       "      <th>Vehicle_Annual_Miles</th>\n",
       "      <th>Vehicle_Anti_Theft_Device</th>\n",
       "      <th>...</th>\n",
       "      <th>Vehicle_Safe_Driver_Discount_Indicator</th>\n",
       "      <th>EEA_Liability_Coverage_Only_Indicator</th>\n",
       "      <th>EEA_Multi_Auto_Policies_Indicator</th>\n",
       "      <th>EEA_Policy_Zip_Code_3</th>\n",
       "      <th>EEA_Agency_Type</th>\n",
       "      <th>EEA_Packaged_Policy_Indicator</th>\n",
       "      <th>EEA_Full_Coverage_Indicator</th>\n",
       "      <th>EEA_Prior_Bodily_Injury_Limit</th>\n",
       "      <th>SYS_Renewed</th>\n",
       "      <th>SYS_New_Business</th>\n",
       "    </tr>\n",
       "  </thead>\n",
       "  <tbody>\n",
       "    <tr>\n",
       "      <th>0</th>\n",
       "      <td>Standard</td>\n",
       "      <td>Direct Billed to Insured</td>\n",
       "      <td>Pre-paid</td>\n",
       "      <td>N</td>\n",
       "      <td>43046</td>\n",
       "      <td>BUIK LESABRE LI</td>\n",
       "      <td>Standard</td>\n",
       "      <td>Farm</td>\n",
       "      <td>Unknown</td>\n",
       "      <td>Not Applicable</td>\n",
       "      <td>...</td>\n",
       "      <td>Y</td>\n",
       "      <td>N</td>\n",
       "      <td>N</td>\n",
       "      <td>430</td>\n",
       "      <td>Standard</td>\n",
       "      <td>N</td>\n",
       "      <td>Y</td>\n",
       "      <td>100-400</td>\n",
       "      <td>Y</td>\n",
       "      <td>N</td>\n",
       "    </tr>\n",
       "    <tr>\n",
       "      <th>1</th>\n",
       "      <td>Standard</td>\n",
       "      <td>Direct Billed to Insured</td>\n",
       "      <td>Pre-paid</td>\n",
       "      <td>N</td>\n",
       "      <td>Unknown</td>\n",
       "      <td>CADILLAC   4-DOOR</td>\n",
       "      <td>Standard</td>\n",
       "      <td>Farm</td>\n",
       "      <td>Unknown</td>\n",
       "      <td>Not Applicable</td>\n",
       "      <td>...</td>\n",
       "      <td>Y</td>\n",
       "      <td>N</td>\n",
       "      <td>N</td>\n",
       "      <td>Unknown</td>\n",
       "      <td>Preferred</td>\n",
       "      <td>N</td>\n",
       "      <td>Y</td>\n",
       "      <td>100-200</td>\n",
       "      <td>Y</td>\n",
       "      <td>N</td>\n",
       "    </tr>\n",
       "    <tr>\n",
       "      <th>2</th>\n",
       "      <td>Standard</td>\n",
       "      <td>Direct Billed to Insured</td>\n",
       "      <td>Pre-paid</td>\n",
       "      <td>N</td>\n",
       "      <td>43555</td>\n",
       "      <td>PONT MONTANA SV</td>\n",
       "      <td>Standard</td>\n",
       "      <td>Pleasure</td>\n",
       "      <td>Unknown</td>\n",
       "      <td>Passive Disabling-Vehicle Recovery</td>\n",
       "      <td>...</td>\n",
       "      <td>Y</td>\n",
       "      <td>N</td>\n",
       "      <td>N</td>\n",
       "      <td>435</td>\n",
       "      <td>Non-standard</td>\n",
       "      <td>N</td>\n",
       "      <td>Y</td>\n",
       "      <td>100-400</td>\n",
       "      <td>Y</td>\n",
       "      <td>N</td>\n",
       "    </tr>\n",
       "    <tr>\n",
       "      <th>3</th>\n",
       "      <td>Standard</td>\n",
       "      <td>Direct Billed to Insured</td>\n",
       "      <td>Pre-paid</td>\n",
       "      <td>N</td>\n",
       "      <td>43561</td>\n",
       "      <td>MERC GRAND MARQ</td>\n",
       "      <td>Standard</td>\n",
       "      <td>Pleasure</td>\n",
       "      <td>Unknown</td>\n",
       "      <td>Passive Disabling-Vehicle Recovery</td>\n",
       "      <td>...</td>\n",
       "      <td>Y</td>\n",
       "      <td>N</td>\n",
       "      <td>Y</td>\n",
       "      <td>435</td>\n",
       "      <td>Non-standard</td>\n",
       "      <td>Y</td>\n",
       "      <td>Y</td>\n",
       "      <td>40-100</td>\n",
       "      <td>Y</td>\n",
       "      <td>N</td>\n",
       "    </tr>\n",
       "    <tr>\n",
       "      <th>4</th>\n",
       "      <td>Standard</td>\n",
       "      <td>Direct Billed to Insured</td>\n",
       "      <td>Pre-paid</td>\n",
       "      <td>N</td>\n",
       "      <td>43561</td>\n",
       "      <td>MERC GRAND MARQ</td>\n",
       "      <td>Standard</td>\n",
       "      <td>Pleasure</td>\n",
       "      <td>Unknown</td>\n",
       "      <td>Passive Disabling-Vehicle Recovery</td>\n",
       "      <td>...</td>\n",
       "      <td>Y</td>\n",
       "      <td>N</td>\n",
       "      <td>Y</td>\n",
       "      <td>435</td>\n",
       "      <td>Non-standard</td>\n",
       "      <td>Y</td>\n",
       "      <td>Y</td>\n",
       "      <td>40-100</td>\n",
       "      <td>Y</td>\n",
       "      <td>N</td>\n",
       "    </tr>\n",
       "    <tr>\n",
       "      <th>...</th>\n",
       "      <td>...</td>\n",
       "      <td>...</td>\n",
       "      <td>...</td>\n",
       "      <td>...</td>\n",
       "      <td>...</td>\n",
       "      <td>...</td>\n",
       "      <td>...</td>\n",
       "      <td>...</td>\n",
       "      <td>...</td>\n",
       "      <td>...</td>\n",
       "      <td>...</td>\n",
       "      <td>...</td>\n",
       "      <td>...</td>\n",
       "      <td>...</td>\n",
       "      <td>...</td>\n",
       "      <td>...</td>\n",
       "      <td>...</td>\n",
       "      <td>...</td>\n",
       "      <td>...</td>\n",
       "      <td>...</td>\n",
       "      <td>...</td>\n",
       "    </tr>\n",
       "    <tr>\n",
       "      <th>424426</th>\n",
       "      <td>Standard</td>\n",
       "      <td>Direct Billed to Insured</td>\n",
       "      <td>Pre-paid</td>\n",
       "      <td>N</td>\n",
       "      <td>42851</td>\n",
       "      <td>PONT GR PRIX GT</td>\n",
       "      <td>Standard</td>\n",
       "      <td>Pleasure</td>\n",
       "      <td>Unknown</td>\n",
       "      <td>Passive Disabling-Vehicle Recovery</td>\n",
       "      <td>...</td>\n",
       "      <td>N</td>\n",
       "      <td>N</td>\n",
       "      <td>N</td>\n",
       "      <td>428</td>\n",
       "      <td>Preferred</td>\n",
       "      <td>N</td>\n",
       "      <td>Y</td>\n",
       "      <td>NaN</td>\n",
       "      <td>Y</td>\n",
       "      <td>Y</td>\n",
       "    </tr>\n",
       "    <tr>\n",
       "      <th>424427</th>\n",
       "      <td>Standard</td>\n",
       "      <td>Direct Billed to Insured</td>\n",
       "      <td>Pre-paid</td>\n",
       "      <td>N</td>\n",
       "      <td>43669</td>\n",
       "      <td>NSSN QUEST</td>\n",
       "      <td>Standard</td>\n",
       "      <td>Pleasure</td>\n",
       "      <td>Unknown</td>\n",
       "      <td>Active Disabling</td>\n",
       "      <td>...</td>\n",
       "      <td>N</td>\n",
       "      <td>N</td>\n",
       "      <td>Y</td>\n",
       "      <td>436</td>\n",
       "      <td>Hybrid</td>\n",
       "      <td>Y</td>\n",
       "      <td>N</td>\n",
       "      <td>100-200</td>\n",
       "      <td>Y</td>\n",
       "      <td>Y</td>\n",
       "    </tr>\n",
       "    <tr>\n",
       "      <th>424428</th>\n",
       "      <td>Standard</td>\n",
       "      <td>Direct Billed to Insured</td>\n",
       "      <td>Installment</td>\n",
       "      <td>N</td>\n",
       "      <td>42487</td>\n",
       "      <td>PONT TRANSSPORT</td>\n",
       "      <td>Standard</td>\n",
       "      <td>Pleasure</td>\n",
       "      <td>Unknown</td>\n",
       "      <td>Passive Disabling-Vehicle Recovery</td>\n",
       "      <td>...</td>\n",
       "      <td>N</td>\n",
       "      <td>N</td>\n",
       "      <td>Y</td>\n",
       "      <td>424</td>\n",
       "      <td>Preferred</td>\n",
       "      <td>N</td>\n",
       "      <td>Y</td>\n",
       "      <td>100-400</td>\n",
       "      <td>N</td>\n",
       "      <td>Y</td>\n",
       "    </tr>\n",
       "    <tr>\n",
       "      <th>424429</th>\n",
       "      <td>Preferred</td>\n",
       "      <td>Direct Billed to Insured</td>\n",
       "      <td>Installment</td>\n",
       "      <td>N</td>\n",
       "      <td>43360</td>\n",
       "      <td>PONT SUNFIRE SE</td>\n",
       "      <td>Standard</td>\n",
       "      <td>Pleasure</td>\n",
       "      <td>Unknown</td>\n",
       "      <td>Not Applicable</td>\n",
       "      <td>...</td>\n",
       "      <td>N</td>\n",
       "      <td>Y</td>\n",
       "      <td>Y</td>\n",
       "      <td>433</td>\n",
       "      <td>Non-standard</td>\n",
       "      <td>N</td>\n",
       "      <td>N</td>\n",
       "      <td>40-100</td>\n",
       "      <td>N</td>\n",
       "      <td>Y</td>\n",
       "    </tr>\n",
       "    <tr>\n",
       "      <th>424430</th>\n",
       "      <td>Standard</td>\n",
       "      <td>Direct Billed to Insured</td>\n",
       "      <td>Installment</td>\n",
       "      <td>N</td>\n",
       "      <td>43905</td>\n",
       "      <td>CHEV TRAILBLAZE</td>\n",
       "      <td>Standard</td>\n",
       "      <td>Work</td>\n",
       "      <td>Unknown</td>\n",
       "      <td>Passive Disabling-Vehicle Recovery</td>\n",
       "      <td>...</td>\n",
       "      <td>N</td>\n",
       "      <td>N</td>\n",
       "      <td>Y</td>\n",
       "      <td>439</td>\n",
       "      <td>Non-standard</td>\n",
       "      <td>Y</td>\n",
       "      <td>N</td>\n",
       "      <td>NaN</td>\n",
       "      <td>Y</td>\n",
       "      <td>Y</td>\n",
       "    </tr>\n",
       "  </tbody>\n",
       "</table>\n",
       "<p>424431 rows × 27 columns</p>\n",
       "</div>"
      ],
      "text/plain": [
       "       Policy_Company       Policy_Billing_Code Policy_Method_Of_Payment  \\\n",
       "0           Standard   Direct Billed to Insured                 Pre-paid   \n",
       "1           Standard   Direct Billed to Insured                 Pre-paid   \n",
       "2           Standard   Direct Billed to Insured                 Pre-paid   \n",
       "3           Standard   Direct Billed to Insured                 Pre-paid   \n",
       "4           Standard   Direct Billed to Insured                 Pre-paid   \n",
       "...               ...                       ...                      ...   \n",
       "424426      Standard   Direct Billed to Insured                 Pre-paid   \n",
       "424427      Standard   Direct Billed to Insured                 Pre-paid   \n",
       "424428      Standard   Direct Billed to Insured              Installment   \n",
       "424429      Preferred  Direct Billed to Insured              Installment   \n",
       "424430      Standard   Direct Billed to Insured              Installment   \n",
       "\n",
       "       Policy_Reinstatement_Fee_Indicator Policy_Zip_Code_Garaging_Location  \\\n",
       "0                                       N                             43046   \n",
       "1                                       N                           Unknown   \n",
       "2                                       N                             43555   \n",
       "3                                       N                             43561   \n",
       "4                                       N                             43561   \n",
       "...                                   ...                               ...   \n",
       "424426                                  N                             42851   \n",
       "424427                                  N                             43669   \n",
       "424428                                  N                             42487   \n",
       "424429                                  N                             43360   \n",
       "424430                                  N                             43905   \n",
       "\n",
       "       Vehicle_Make_Description Vehicle_Performance Vehicle_Usage  \\\n",
       "0             BUIK LESABRE LI              Standard      Farm       \n",
       "1             CADILLAC   4-DOOR            Standard      Farm       \n",
       "2             PONT MONTANA SV              Standard      Pleasure   \n",
       "3             MERC GRAND MARQ              Standard      Pleasure   \n",
       "4             MERC GRAND MARQ              Standard      Pleasure   \n",
       "...                         ...                 ...           ...   \n",
       "424426        PONT GR PRIX GT              Standard      Pleasure   \n",
       "424427        NSSN QUEST                   Standard      Pleasure   \n",
       "424428        PONT TRANSSPORT              Standard      Pleasure   \n",
       "424429        PONT SUNFIRE SE              Standard      Pleasure   \n",
       "424430        CHEV TRAILBLAZE              Standard      Work       \n",
       "\n",
       "       Vehicle_Annual_Miles           Vehicle_Anti_Theft_Device  ...  \\\n",
       "0                   Unknown                      Not Applicable  ...   \n",
       "1                   Unknown                      Not Applicable  ...   \n",
       "2                   Unknown  Passive Disabling-Vehicle Recovery  ...   \n",
       "3                   Unknown  Passive Disabling-Vehicle Recovery  ...   \n",
       "4                   Unknown  Passive Disabling-Vehicle Recovery  ...   \n",
       "...                     ...                                 ...  ...   \n",
       "424426              Unknown  Passive Disabling-Vehicle Recovery  ...   \n",
       "424427              Unknown                    Active Disabling  ...   \n",
       "424428              Unknown  Passive Disabling-Vehicle Recovery  ...   \n",
       "424429              Unknown                      Not Applicable  ...   \n",
       "424430              Unknown  Passive Disabling-Vehicle Recovery  ...   \n",
       "\n",
       "       Vehicle_Safe_Driver_Discount_Indicator  \\\n",
       "0                                           Y   \n",
       "1                                           Y   \n",
       "2                                           Y   \n",
       "3                                           Y   \n",
       "4                                           Y   \n",
       "...                                       ...   \n",
       "424426                                      N   \n",
       "424427                                      N   \n",
       "424428                                      N   \n",
       "424429                                      N   \n",
       "424430                                      N   \n",
       "\n",
       "       EEA_Liability_Coverage_Only_Indicator  \\\n",
       "0                                          N   \n",
       "1                                          N   \n",
       "2                                          N   \n",
       "3                                          N   \n",
       "4                                          N   \n",
       "...                                      ...   \n",
       "424426                                     N   \n",
       "424427                                     N   \n",
       "424428                                     N   \n",
       "424429                                     Y   \n",
       "424430                                     N   \n",
       "\n",
       "       EEA_Multi_Auto_Policies_Indicator EEA_Policy_Zip_Code_3  \\\n",
       "0                                      N                   430   \n",
       "1                                      N               Unknown   \n",
       "2                                      N                   435   \n",
       "3                                      Y                   435   \n",
       "4                                      Y                   435   \n",
       "...                                  ...                   ...   \n",
       "424426                                 N                   428   \n",
       "424427                                 Y                   436   \n",
       "424428                                 Y                   424   \n",
       "424429                                 Y                   433   \n",
       "424430                                 Y                   439   \n",
       "\n",
       "       EEA_Agency_Type EEA_Packaged_Policy_Indicator  \\\n",
       "0             Standard                             N   \n",
       "1            Preferred                             N   \n",
       "2         Non-standard                             N   \n",
       "3         Non-standard                             Y   \n",
       "4         Non-standard                             Y   \n",
       "...                ...                           ...   \n",
       "424426       Preferred                             N   \n",
       "424427          Hybrid                             Y   \n",
       "424428       Preferred                             N   \n",
       "424429    Non-standard                             N   \n",
       "424430    Non-standard                             Y   \n",
       "\n",
       "       EEA_Full_Coverage_Indicator EEA_Prior_Bodily_Injury_Limit SYS_Renewed  \\\n",
       "0                                Y                       100-400           Y   \n",
       "1                                Y                       100-200           Y   \n",
       "2                                Y                       100-400           Y   \n",
       "3                                Y                       40-100            Y   \n",
       "4                                Y                       40-100            Y   \n",
       "...                            ...                           ...         ...   \n",
       "424426                           Y                           NaN           Y   \n",
       "424427                           N                       100-200           Y   \n",
       "424428                           Y                       100-400           N   \n",
       "424429                           N                       40-100            N   \n",
       "424430                           N                           NaN           Y   \n",
       "\n",
       "       SYS_New_Business  \n",
       "0                     N  \n",
       "1                     N  \n",
       "2                     N  \n",
       "3                     N  \n",
       "4                     N  \n",
       "...                 ...  \n",
       "424426                Y  \n",
       "424427                Y  \n",
       "424428                Y  \n",
       "424429                Y  \n",
       "424430                Y  \n",
       "\n",
       "[424431 rows x 27 columns]"
      ]
     },
     "execution_count": 5,
     "metadata": {},
     "output_type": "execute_result"
    }
   ],
   "source": [
    "obj_df = df.select_dtypes(include=['object']).copy()\n",
    "obj_df"
   ]
  },
  {
   "cell_type": "code",
   "execution_count": 6,
   "metadata": {},
   "outputs": [
    {
     "data": {
      "text/html": [
       "<div>\n",
       "<style scoped>\n",
       "    .dataframe tbody tr th:only-of-type {\n",
       "        vertical-align: middle;\n",
       "    }\n",
       "\n",
       "    .dataframe tbody tr th {\n",
       "        vertical-align: top;\n",
       "    }\n",
       "\n",
       "    .dataframe thead th {\n",
       "        text-align: right;\n",
       "    }\n",
       "</style>\n",
       "<table border=\"1\" class=\"dataframe\">\n",
       "  <thead>\n",
       "    <tr style=\"text-align: right;\">\n",
       "      <th></th>\n",
       "      <th>PolicyNo</th>\n",
       "      <th>Policy_Installment_Term</th>\n",
       "      <th>Vehicle_Territory</th>\n",
       "      <th>Vehicle_Make_Year</th>\n",
       "      <th>Vehicle_New_Cost_Amount</th>\n",
       "      <th>Vehicle_Symbol</th>\n",
       "      <th>Vehicle_Number_Of_Drivers_Assigned</th>\n",
       "      <th>Vehicle_Miles_To_Work</th>\n",
       "      <th>Vehicle_Days_Per_Week_Driven</th>\n",
       "      <th>Vehicle_Age_In_Years</th>\n",
       "      <th>...</th>\n",
       "      <th>Driver_Total_Upper_Senior_Ages_70_plus</th>\n",
       "      <th>Vehicle_Driver_Points</th>\n",
       "      <th>EEA_Policy_Tenure</th>\n",
       "      <th>EEA_PolicyYear</th>\n",
       "      <th>Annual_Premium</th>\n",
       "      <th>Claim_Count</th>\n",
       "      <th>Loss_Amount</th>\n",
       "      <th>Frequency</th>\n",
       "      <th>Severity</th>\n",
       "      <th>Loss_Ratio</th>\n",
       "    </tr>\n",
       "  </thead>\n",
       "  <tbody>\n",
       "    <tr>\n",
       "      <th>count</th>\n",
       "      <td>4.244310e+05</td>\n",
       "      <td>424431.000000</td>\n",
       "      <td>424431.000000</td>\n",
       "      <td>424431.000000</td>\n",
       "      <td>424431.000000</td>\n",
       "      <td>424431.000000</td>\n",
       "      <td>424431.000000</td>\n",
       "      <td>424431.000000</td>\n",
       "      <td>424431.000000</td>\n",
       "      <td>424431.000000</td>\n",
       "      <td>...</td>\n",
       "      <td>424431.000000</td>\n",
       "      <td>424431.000000</td>\n",
       "      <td>424431.000000</td>\n",
       "      <td>424431.0</td>\n",
       "      <td>424431.000000</td>\n",
       "      <td>424431.000000</td>\n",
       "      <td>4.244310e+05</td>\n",
       "      <td>424431.000000</td>\n",
       "      <td>4.244310e+05</td>\n",
       "      <td>424431.000000</td>\n",
       "    </tr>\n",
       "    <tr>\n",
       "      <th>mean</th>\n",
       "      <td>3.144874e+08</td>\n",
       "      <td>6.224701</td>\n",
       "      <td>31.051629</td>\n",
       "      <td>1996.753482</td>\n",
       "      <td>290.333958</td>\n",
       "      <td>11.192347</td>\n",
       "      <td>28.397318</td>\n",
       "      <td>3.302400</td>\n",
       "      <td>4.998798</td>\n",
       "      <td>7.037130</td>\n",
       "      <td>...</td>\n",
       "      <td>0.096454</td>\n",
       "      <td>0.119765</td>\n",
       "      <td>5.886341</td>\n",
       "      <td>2006.0</td>\n",
       "      <td>335.354228</td>\n",
       "      <td>0.046893</td>\n",
       "      <td>2.354292e+02</td>\n",
       "      <td>0.115018</td>\n",
       "      <td>2.267193e+02</td>\n",
       "      <td>1.154623</td>\n",
       "    </tr>\n",
       "    <tr>\n",
       "      <th>std</th>\n",
       "      <td>5.776142e+07</td>\n",
       "      <td>1.139174</td>\n",
       "      <td>4.186688</td>\n",
       "      <td>7.388605</td>\n",
       "      <td>2876.619060</td>\n",
       "      <td>4.007123</td>\n",
       "      <td>43.952581</td>\n",
       "      <td>7.698294</td>\n",
       "      <td>0.080719</td>\n",
       "      <td>2.576152</td>\n",
       "      <td>...</td>\n",
       "      <td>0.314316</td>\n",
       "      <td>0.383814</td>\n",
       "      <td>6.646432</td>\n",
       "      <td>0.0</td>\n",
       "      <td>206.291385</td>\n",
       "      <td>0.223597</td>\n",
       "      <td>3.399225e+03</td>\n",
       "      <td>1.636176</td>\n",
       "      <td>3.337804e+03</td>\n",
       "      <td>55.153868</td>\n",
       "    </tr>\n",
       "    <tr>\n",
       "      <th>min</th>\n",
       "      <td>1.645329e+08</td>\n",
       "      <td>6.000000</td>\n",
       "      <td>13.000000</td>\n",
       "      <td>1924.000000</td>\n",
       "      <td>-1.000000</td>\n",
       "      <td>-1.000000</td>\n",
       "      <td>1.000000</td>\n",
       "      <td>-1.000000</td>\n",
       "      <td>-1.000000</td>\n",
       "      <td>1.000000</td>\n",
       "      <td>...</td>\n",
       "      <td>0.000000</td>\n",
       "      <td>0.000000</td>\n",
       "      <td>-1.000000</td>\n",
       "      <td>2006.0</td>\n",
       "      <td>0.540000</td>\n",
       "      <td>0.000000</td>\n",
       "      <td>0.000000e+00</td>\n",
       "      <td>0.000000</td>\n",
       "      <td>0.000000e+00</td>\n",
       "      <td>0.000000</td>\n",
       "    </tr>\n",
       "    <tr>\n",
       "      <th>25%</th>\n",
       "      <td>2.832442e+08</td>\n",
       "      <td>6.000000</td>\n",
       "      <td>30.000000</td>\n",
       "      <td>1993.000000</td>\n",
       "      <td>-1.000000</td>\n",
       "      <td>8.000000</td>\n",
       "      <td>1.000000</td>\n",
       "      <td>-1.000000</td>\n",
       "      <td>5.000000</td>\n",
       "      <td>5.000000</td>\n",
       "      <td>...</td>\n",
       "      <td>0.000000</td>\n",
       "      <td>0.000000</td>\n",
       "      <td>1.200000</td>\n",
       "      <td>2006.0</td>\n",
       "      <td>157.940000</td>\n",
       "      <td>0.000000</td>\n",
       "      <td>0.000000e+00</td>\n",
       "      <td>0.000000</td>\n",
       "      <td>0.000000e+00</td>\n",
       "      <td>0.000000</td>\n",
       "    </tr>\n",
       "    <tr>\n",
       "      <th>50%</th>\n",
       "      <td>3.326177e+08</td>\n",
       "      <td>6.000000</td>\n",
       "      <td>31.000000</td>\n",
       "      <td>1998.000000</td>\n",
       "      <td>-1.000000</td>\n",
       "      <td>11.000000</td>\n",
       "      <td>1.000000</td>\n",
       "      <td>-1.000000</td>\n",
       "      <td>5.000000</td>\n",
       "      <td>9.000000</td>\n",
       "      <td>...</td>\n",
       "      <td>0.000000</td>\n",
       "      <td>0.000000</td>\n",
       "      <td>3.500000</td>\n",
       "      <td>2006.0</td>\n",
       "      <td>328.580000</td>\n",
       "      <td>0.000000</td>\n",
       "      <td>0.000000e+00</td>\n",
       "      <td>0.000000</td>\n",
       "      <td>0.000000e+00</td>\n",
       "      <td>0.000000</td>\n",
       "    </tr>\n",
       "    <tr>\n",
       "      <th>75%</th>\n",
       "      <td>3.612798e+08</td>\n",
       "      <td>6.000000</td>\n",
       "      <td>35.000000</td>\n",
       "      <td>2002.000000</td>\n",
       "      <td>-1.000000</td>\n",
       "      <td>14.000000</td>\n",
       "      <td>99.000000</td>\n",
       "      <td>6.000000</td>\n",
       "      <td>5.000000</td>\n",
       "      <td>9.000000</td>\n",
       "      <td>...</td>\n",
       "      <td>0.000000</td>\n",
       "      <td>0.000000</td>\n",
       "      <td>8.300000</td>\n",
       "      <td>2006.0</td>\n",
       "      <td>445.200000</td>\n",
       "      <td>0.000000</td>\n",
       "      <td>0.000000e+00</td>\n",
       "      <td>0.000000</td>\n",
       "      <td>0.000000e+00</td>\n",
       "      <td>0.000000</td>\n",
       "    </tr>\n",
       "    <tr>\n",
       "      <th>max</th>\n",
       "      <td>3.823488e+08</td>\n",
       "      <td>12.000000</td>\n",
       "      <td>37.000000</td>\n",
       "      <td>2008.000000</td>\n",
       "      <td>99999.000000</td>\n",
       "      <td>27.000000</td>\n",
       "      <td>99.000000</td>\n",
       "      <td>99.000000</td>\n",
       "      <td>9.000000</td>\n",
       "      <td>9.000000</td>\n",
       "      <td>...</td>\n",
       "      <td>2.000000</td>\n",
       "      <td>7.000000</td>\n",
       "      <td>54.000000</td>\n",
       "      <td>2006.0</td>\n",
       "      <td>3941.080000</td>\n",
       "      <td>5.000000</td>\n",
       "      <td>1.072292e+06</td>\n",
       "      <td>370.370370</td>\n",
       "      <td>1.072292e+06</td>\n",
       "      <td>24787.140000</td>\n",
       "    </tr>\n",
       "  </tbody>\n",
       "</table>\n",
       "<p>8 rows × 42 columns</p>\n",
       "</div>"
      ],
      "text/plain": [
       "           PolicyNo  Policy_Installment_Term  Vehicle_Territory  \\\n",
       "count  4.244310e+05            424431.000000      424431.000000   \n",
       "mean   3.144874e+08                 6.224701          31.051629   \n",
       "std    5.776142e+07                 1.139174           4.186688   \n",
       "min    1.645329e+08                 6.000000          13.000000   \n",
       "25%    2.832442e+08                 6.000000          30.000000   \n",
       "50%    3.326177e+08                 6.000000          31.000000   \n",
       "75%    3.612798e+08                 6.000000          35.000000   \n",
       "max    3.823488e+08                12.000000          37.000000   \n",
       "\n",
       "       Vehicle_Make_Year  Vehicle_New_Cost_Amount  Vehicle_Symbol  \\\n",
       "count      424431.000000            424431.000000   424431.000000   \n",
       "mean         1996.753482               290.333958       11.192347   \n",
       "std             7.388605              2876.619060        4.007123   \n",
       "min          1924.000000                -1.000000       -1.000000   \n",
       "25%          1993.000000                -1.000000        8.000000   \n",
       "50%          1998.000000                -1.000000       11.000000   \n",
       "75%          2002.000000                -1.000000       14.000000   \n",
       "max          2008.000000             99999.000000       27.000000   \n",
       "\n",
       "       Vehicle_Number_Of_Drivers_Assigned  Vehicle_Miles_To_Work  \\\n",
       "count                       424431.000000          424431.000000   \n",
       "mean                            28.397318               3.302400   \n",
       "std                             43.952581               7.698294   \n",
       "min                              1.000000              -1.000000   \n",
       "25%                              1.000000              -1.000000   \n",
       "50%                              1.000000              -1.000000   \n",
       "75%                             99.000000               6.000000   \n",
       "max                             99.000000              99.000000   \n",
       "\n",
       "       Vehicle_Days_Per_Week_Driven  Vehicle_Age_In_Years  ...  \\\n",
       "count                 424431.000000         424431.000000  ...   \n",
       "mean                       4.998798              7.037130  ...   \n",
       "std                        0.080719              2.576152  ...   \n",
       "min                       -1.000000              1.000000  ...   \n",
       "25%                        5.000000              5.000000  ...   \n",
       "50%                        5.000000              9.000000  ...   \n",
       "75%                        5.000000              9.000000  ...   \n",
       "max                        9.000000              9.000000  ...   \n",
       "\n",
       "       Driver_Total_Upper_Senior_Ages_70_plus  Vehicle_Driver_Points  \\\n",
       "count                           424431.000000          424431.000000   \n",
       "mean                                 0.096454               0.119765   \n",
       "std                                  0.314316               0.383814   \n",
       "min                                  0.000000               0.000000   \n",
       "25%                                  0.000000               0.000000   \n",
       "50%                                  0.000000               0.000000   \n",
       "75%                                  0.000000               0.000000   \n",
       "max                                  2.000000               7.000000   \n",
       "\n",
       "       EEA_Policy_Tenure  EEA_PolicyYear  Annual_Premium    Claim_Count  \\\n",
       "count      424431.000000        424431.0   424431.000000  424431.000000   \n",
       "mean            5.886341          2006.0      335.354228       0.046893   \n",
       "std             6.646432             0.0      206.291385       0.223597   \n",
       "min            -1.000000          2006.0        0.540000       0.000000   \n",
       "25%             1.200000          2006.0      157.940000       0.000000   \n",
       "50%             3.500000          2006.0      328.580000       0.000000   \n",
       "75%             8.300000          2006.0      445.200000       0.000000   \n",
       "max            54.000000          2006.0     3941.080000       5.000000   \n",
       "\n",
       "        Loss_Amount      Frequency      Severity     Loss_Ratio  \n",
       "count  4.244310e+05  424431.000000  4.244310e+05  424431.000000  \n",
       "mean   2.354292e+02       0.115018  2.267193e+02       1.154623  \n",
       "std    3.399225e+03       1.636176  3.337804e+03      55.153868  \n",
       "min    0.000000e+00       0.000000  0.000000e+00       0.000000  \n",
       "25%    0.000000e+00       0.000000  0.000000e+00       0.000000  \n",
       "50%    0.000000e+00       0.000000  0.000000e+00       0.000000  \n",
       "75%    0.000000e+00       0.000000  0.000000e+00       0.000000  \n",
       "max    1.072292e+06     370.370370  1.072292e+06   24787.140000  \n",
       "\n",
       "[8 rows x 42 columns]"
      ]
     },
     "execution_count": 6,
     "metadata": {},
     "output_type": "execute_result"
    }
   ],
   "source": [
    "# Display a statistical overview of the DataFrame\n",
    "df.describe()"
   ]
  },
  {
   "cell_type": "code",
   "execution_count": 7,
   "metadata": {},
   "outputs": [],
   "source": [
    "# check the data if there is any missing data points per column\n",
    "missing_values_count = df.isnull().sum()"
   ]
  },
  {
   "cell_type": "code",
   "execution_count": 8,
   "metadata": {},
   "outputs": [
    {
     "data": {
      "text/plain": [
       "PolicyNo                                        0\n",
       "Policy_Company                                  0\n",
       "Policy_Installment_Term                         0\n",
       "Policy_Billing_Code                             0\n",
       "Policy_Method_Of_Payment                        0\n",
       "Policy_Reinstatement_Fee_Indicator              0\n",
       "Policy_Zip_Code_Garaging_Location               0\n",
       "Vehicle_Territory                               0\n",
       "Vehicle_Make_Year                               0\n",
       "Vehicle_Make_Description                        0\n",
       "Vehicle_Performance                             0\n",
       "Vehicle_New_Cost_Amount                         0\n",
       "Vehicle_Symbol                                  0\n",
       "Vehicle_Number_Of_Drivers_Assigned              0\n",
       "Vehicle_Usage                                   0\n",
       "Vehicle_Miles_To_Work                           0\n",
       "Vehicle_Days_Per_Week_Driven                    0\n",
       "Vehicle_Annual_Miles                            0\n",
       "Vehicle_Anti_Theft_Device                       0\n",
       "Vehicle_Passive_Restraint                       0\n",
       "Vehicle_Age_In_Years                            0\n",
       "Vehicle_Med_Pay_Limit                           0\n",
       "Vehicle_Bodily_Injury_Limit                 17326\n",
       "Vehicle_Physical_Damage_Limit                   0\n",
       "Vehicle_Comprehensive_Coverage_Indicator        0\n",
       "Vehicle_Comprehensive_Coverage_Limit            0\n",
       "Vehicle_Collision_Coverage_Indicator            0\n",
       "Vehicle_Collision_Coverage_Deductible           0\n",
       "Driver_Total                                    0\n",
       "Driver_Total_Male                               0\n",
       "Driver_Total_Female                             0\n",
       "Driver_Total_Single                             0\n",
       "Driver_Total_Married                            0\n",
       "Driver_Total_Related_To_Insured_Self            0\n",
       "Driver_Total_Related_To_Insured_Spouse          0\n",
       "Driver_Total_Related_To_Insured_Child           0\n",
       "Driver_Total_Licensed_In_State                  0\n",
       "Driver_Minimum_Age                              0\n",
       "Driver_Maximum_Age                              0\n",
       "Driver_Total_Teenager_Age_15_19                 0\n",
       "Driver_Total_College_Ages_20_23                 0\n",
       "Driver_Total_Young_Adult_Ages_24_29             0\n",
       "Driver_Total_Low_Middle_Adult_Ages_30_39        0\n",
       "Driver_Total_Middle_Adult_Ages_40_49            0\n",
       "Driver_Total_Adult_Ages_50_64                   0\n",
       "Driver_Total_Senior_Ages_65_69                  0\n",
       "Driver_Total_Upper_Senior_Ages_70_plus          0\n",
       "Vehicle_Youthful_Driver_Indicator               0\n",
       "Vehicle_Youthful_Driver_Training_Code           0\n",
       "Vehicle_Youthful_Good_Student_Code              0\n",
       "Vehicle_Driver_Points                           0\n",
       "Vehicle_Safe_Driver_Discount_Indicator          0\n",
       "EEA_Liability_Coverage_Only_Indicator           0\n",
       "EEA_Multi_Auto_Policies_Indicator               0\n",
       "EEA_Policy_Zip_Code_3                           0\n",
       "EEA_Policy_Tenure                               0\n",
       "EEA_Agency_Type                                 0\n",
       "EEA_Packaged_Policy_Indicator                   0\n",
       "EEA_Full_Coverage_Indicator                     0\n",
       "EEA_Prior_Bodily_Injury_Limit               17326\n",
       "dtype: int64"
      ]
     },
     "execution_count": 8,
     "metadata": {},
     "output_type": "execute_result"
    }
   ],
   "source": [
    "# look at the # of missing points in the columns\n",
    "missing_values_count[0:60]\n",
    "#missing_values_count[0:69]"
   ]
  },
  {
   "cell_type": "code",
   "execution_count": 9,
   "metadata": {},
   "outputs": [],
   "source": [
    "# create a pandas-profiling report for better understanding of the dataset\n",
    "#profile_elect = ProfileReport(df, title='Portfolio Report')\n",
    "#profile_elect.to_file(\"portfolio_report.html\")"
   ]
  },
  {
   "cell_type": "code",
   "execution_count": 10,
   "metadata": {},
   "outputs": [
    {
     "data": {
      "text/html": [
       "<div>\n",
       "<style scoped>\n",
       "    .dataframe tbody tr th:only-of-type {\n",
       "        vertical-align: middle;\n",
       "    }\n",
       "\n",
       "    .dataframe tbody tr th {\n",
       "        vertical-align: top;\n",
       "    }\n",
       "\n",
       "    .dataframe thead th {\n",
       "        text-align: right;\n",
       "    }\n",
       "</style>\n",
       "<table border=\"1\" class=\"dataframe\">\n",
       "  <thead>\n",
       "    <tr style=\"text-align: right;\">\n",
       "      <th></th>\n",
       "      <th>PolicyNo</th>\n",
       "      <th>Policy_Installment_Term</th>\n",
       "      <th>Vehicle_Territory</th>\n",
       "      <th>Vehicle_Make_Year</th>\n",
       "      <th>Vehicle_New_Cost_Amount</th>\n",
       "      <th>Vehicle_Symbol</th>\n",
       "      <th>Vehicle_Number_Of_Drivers_Assigned</th>\n",
       "      <th>Vehicle_Miles_To_Work</th>\n",
       "      <th>Vehicle_Days_Per_Week_Driven</th>\n",
       "      <th>Vehicle_Age_In_Years</th>\n",
       "      <th>...</th>\n",
       "      <th>Driver_Total_Upper_Senior_Ages_70_plus</th>\n",
       "      <th>Vehicle_Driver_Points</th>\n",
       "      <th>EEA_Policy_Tenure</th>\n",
       "      <th>EEA_PolicyYear</th>\n",
       "      <th>Annual_Premium</th>\n",
       "      <th>Claim_Count</th>\n",
       "      <th>Loss_Amount</th>\n",
       "      <th>Frequency</th>\n",
       "      <th>Severity</th>\n",
       "      <th>Loss_Ratio</th>\n",
       "    </tr>\n",
       "  </thead>\n",
       "  <tbody>\n",
       "    <tr>\n",
       "      <th>PolicyNo</th>\n",
       "      <td>1.000000</td>\n",
       "      <td>0.074224</td>\n",
       "      <td>-0.020730</td>\n",
       "      <td>0.027827</td>\n",
       "      <td>0.015798</td>\n",
       "      <td>0.079465</td>\n",
       "      <td>0.126597</td>\n",
       "      <td>0.011696</td>\n",
       "      <td>0.007795</td>\n",
       "      <td>-0.030603</td>\n",
       "      <td>...</td>\n",
       "      <td>-0.218888</td>\n",
       "      <td>0.072866</td>\n",
       "      <td>-0.879130</td>\n",
       "      <td>NaN</td>\n",
       "      <td>0.034532</td>\n",
       "      <td>0.027508</td>\n",
       "      <td>0.014785</td>\n",
       "      <td>0.011559</td>\n",
       "      <td>0.014270</td>\n",
       "      <td>0.003051</td>\n",
       "    </tr>\n",
       "    <tr>\n",
       "      <th>Policy_Installment_Term</th>\n",
       "      <td>0.074224</td>\n",
       "      <td>1.000000</td>\n",
       "      <td>0.001015</td>\n",
       "      <td>0.026642</td>\n",
       "      <td>0.005615</td>\n",
       "      <td>0.023674</td>\n",
       "      <td>-0.000886</td>\n",
       "      <td>0.006645</td>\n",
       "      <td>0.001091</td>\n",
       "      <td>-0.030859</td>\n",
       "      <td>...</td>\n",
       "      <td>0.009865</td>\n",
       "      <td>0.017890</td>\n",
       "      <td>-0.061027</td>\n",
       "      <td>NaN</td>\n",
       "      <td>0.325114</td>\n",
       "      <td>0.045434</td>\n",
       "      <td>0.015728</td>\n",
       "      <td>0.003594</td>\n",
       "      <td>0.014125</td>\n",
       "      <td>0.000054</td>\n",
       "    </tr>\n",
       "    <tr>\n",
       "      <th>Vehicle_Territory</th>\n",
       "      <td>-0.020730</td>\n",
       "      <td>0.001015</td>\n",
       "      <td>1.000000</td>\n",
       "      <td>-0.009061</td>\n",
       "      <td>-0.007689</td>\n",
       "      <td>-0.005891</td>\n",
       "      <td>0.002479</td>\n",
       "      <td>-0.018704</td>\n",
       "      <td>0.003195</td>\n",
       "      <td>-0.006025</td>\n",
       "      <td>...</td>\n",
       "      <td>0.006235</td>\n",
       "      <td>-0.010607</td>\n",
       "      <td>0.021064</td>\n",
       "      <td>NaN</td>\n",
       "      <td>-0.034599</td>\n",
       "      <td>-0.013097</td>\n",
       "      <td>-0.005857</td>\n",
       "      <td>-0.005910</td>\n",
       "      <td>-0.005771</td>\n",
       "      <td>-0.003306</td>\n",
       "    </tr>\n",
       "    <tr>\n",
       "      <th>Vehicle_Make_Year</th>\n",
       "      <td>0.027827</td>\n",
       "      <td>0.026642</td>\n",
       "      <td>-0.009061</td>\n",
       "      <td>1.000000</td>\n",
       "      <td>0.035136</td>\n",
       "      <td>0.498726</td>\n",
       "      <td>0.003662</td>\n",
       "      <td>0.075274</td>\n",
       "      <td>0.000372</td>\n",
       "      <td>-0.704518</td>\n",
       "      <td>...</td>\n",
       "      <td>-0.079790</td>\n",
       "      <td>0.059103</td>\n",
       "      <td>-0.045147</td>\n",
       "      <td>NaN</td>\n",
       "      <td>0.541244</td>\n",
       "      <td>0.075605</td>\n",
       "      <td>0.027465</td>\n",
       "      <td>0.020062</td>\n",
       "      <td>0.026553</td>\n",
       "      <td>0.002206</td>\n",
       "    </tr>\n",
       "    <tr>\n",
       "      <th>Vehicle_New_Cost_Amount</th>\n",
       "      <td>0.015798</td>\n",
       "      <td>0.005615</td>\n",
       "      <td>-0.007689</td>\n",
       "      <td>0.035136</td>\n",
       "      <td>1.000000</td>\n",
       "      <td>0.061648</td>\n",
       "      <td>0.003942</td>\n",
       "      <td>-0.000727</td>\n",
       "      <td>-0.000258</td>\n",
       "      <td>-0.041822</td>\n",
       "      <td>...</td>\n",
       "      <td>-0.011410</td>\n",
       "      <td>0.001182</td>\n",
       "      <td>-0.017089</td>\n",
       "      <td>NaN</td>\n",
       "      <td>0.049957</td>\n",
       "      <td>0.004213</td>\n",
       "      <td>0.000749</td>\n",
       "      <td>0.001361</td>\n",
       "      <td>0.000732</td>\n",
       "      <td>-0.000493</td>\n",
       "    </tr>\n",
       "    <tr>\n",
       "      <th>Vehicle_Symbol</th>\n",
       "      <td>0.079465</td>\n",
       "      <td>0.023674</td>\n",
       "      <td>-0.005891</td>\n",
       "      <td>0.498726</td>\n",
       "      <td>0.061648</td>\n",
       "      <td>1.000000</td>\n",
       "      <td>0.047245</td>\n",
       "      <td>0.026139</td>\n",
       "      <td>0.001297</td>\n",
       "      <td>-0.416821</td>\n",
       "      <td>...</td>\n",
       "      <td>-0.125559</td>\n",
       "      <td>0.049263</td>\n",
       "      <td>-0.087711</td>\n",
       "      <td>NaN</td>\n",
       "      <td>0.453452</td>\n",
       "      <td>0.051319</td>\n",
       "      <td>0.021756</td>\n",
       "      <td>0.014877</td>\n",
       "      <td>0.020999</td>\n",
       "      <td>0.001186</td>\n",
       "    </tr>\n",
       "    <tr>\n",
       "      <th>Vehicle_Number_Of_Drivers_Assigned</th>\n",
       "      <td>0.126597</td>\n",
       "      <td>-0.000886</td>\n",
       "      <td>0.002479</td>\n",
       "      <td>0.003662</td>\n",
       "      <td>0.003942</td>\n",
       "      <td>0.047245</td>\n",
       "      <td>1.000000</td>\n",
       "      <td>0.134837</td>\n",
       "      <td>0.000014</td>\n",
       "      <td>-0.015179</td>\n",
       "      <td>...</td>\n",
       "      <td>-0.187266</td>\n",
       "      <td>0.031278</td>\n",
       "      <td>-0.135735</td>\n",
       "      <td>NaN</td>\n",
       "      <td>-0.017216</td>\n",
       "      <td>-0.006816</td>\n",
       "      <td>-0.003428</td>\n",
       "      <td>-0.003227</td>\n",
       "      <td>-0.003409</td>\n",
       "      <td>-0.002467</td>\n",
       "    </tr>\n",
       "    <tr>\n",
       "      <th>Vehicle_Miles_To_Work</th>\n",
       "      <td>0.011696</td>\n",
       "      <td>0.006645</td>\n",
       "      <td>-0.018704</td>\n",
       "      <td>0.075274</td>\n",
       "      <td>-0.000727</td>\n",
       "      <td>0.026139</td>\n",
       "      <td>0.134837</td>\n",
       "      <td>1.000000</td>\n",
       "      <td>-0.000579</td>\n",
       "      <td>-0.034013</td>\n",
       "      <td>...</td>\n",
       "      <td>-0.147663</td>\n",
       "      <td>0.039102</td>\n",
       "      <td>-0.024156</td>\n",
       "      <td>NaN</td>\n",
       "      <td>0.121913</td>\n",
       "      <td>0.014275</td>\n",
       "      <td>0.003734</td>\n",
       "      <td>0.005965</td>\n",
       "      <td>0.003602</td>\n",
       "      <td>-0.001067</td>\n",
       "    </tr>\n",
       "    <tr>\n",
       "      <th>Vehicle_Days_Per_Week_Driven</th>\n",
       "      <td>0.007795</td>\n",
       "      <td>0.001091</td>\n",
       "      <td>0.003195</td>\n",
       "      <td>0.000372</td>\n",
       "      <td>-0.000258</td>\n",
       "      <td>0.001297</td>\n",
       "      <td>0.000014</td>\n",
       "      <td>-0.000579</td>\n",
       "      <td>1.000000</td>\n",
       "      <td>-0.000715</td>\n",
       "      <td>...</td>\n",
       "      <td>0.001225</td>\n",
       "      <td>-0.000983</td>\n",
       "      <td>-0.005339</td>\n",
       "      <td>NaN</td>\n",
       "      <td>-0.000522</td>\n",
       "      <td>-0.003405</td>\n",
       "      <td>-0.001793</td>\n",
       "      <td>-0.000742</td>\n",
       "      <td>-0.001865</td>\n",
       "      <td>0.000005</td>\n",
       "    </tr>\n",
       "    <tr>\n",
       "      <th>Vehicle_Age_In_Years</th>\n",
       "      <td>-0.030603</td>\n",
       "      <td>-0.030859</td>\n",
       "      <td>-0.006025</td>\n",
       "      <td>-0.704518</td>\n",
       "      <td>-0.041822</td>\n",
       "      <td>-0.416821</td>\n",
       "      <td>-0.015179</td>\n",
       "      <td>-0.034013</td>\n",
       "      <td>-0.000715</td>\n",
       "      <td>1.000000</td>\n",
       "      <td>...</td>\n",
       "      <td>0.066002</td>\n",
       "      <td>-0.041415</td>\n",
       "      <td>0.031906</td>\n",
       "      <td>NaN</td>\n",
       "      <td>-0.547855</td>\n",
       "      <td>-0.062753</td>\n",
       "      <td>-0.028379</td>\n",
       "      <td>-0.012532</td>\n",
       "      <td>-0.027334</td>\n",
       "      <td>-0.001998</td>\n",
       "    </tr>\n",
       "    <tr>\n",
       "      <th>Vehicle_Med_Pay_Limit</th>\n",
       "      <td>-0.032959</td>\n",
       "      <td>0.006150</td>\n",
       "      <td>0.032296</td>\n",
       "      <td>0.053732</td>\n",
       "      <td>0.007091</td>\n",
       "      <td>0.033643</td>\n",
       "      <td>-0.036316</td>\n",
       "      <td>-0.020900</td>\n",
       "      <td>-0.000403</td>\n",
       "      <td>-0.046682</td>\n",
       "      <td>...</td>\n",
       "      <td>0.024579</td>\n",
       "      <td>-0.002568</td>\n",
       "      <td>0.032669</td>\n",
       "      <td>NaN</td>\n",
       "      <td>0.090252</td>\n",
       "      <td>0.010465</td>\n",
       "      <td>0.006681</td>\n",
       "      <td>0.001169</td>\n",
       "      <td>0.006341</td>\n",
       "      <td>-0.000623</td>\n",
       "    </tr>\n",
       "    <tr>\n",
       "      <th>Vehicle_Physical_Damage_Limit</th>\n",
       "      <td>0.029595</td>\n",
       "      <td>0.020948</td>\n",
       "      <td>0.042062</td>\n",
       "      <td>0.103662</td>\n",
       "      <td>0.015781</td>\n",
       "      <td>0.103887</td>\n",
       "      <td>-0.021110</td>\n",
       "      <td>-0.021929</td>\n",
       "      <td>-0.000259</td>\n",
       "      <td>-0.114661</td>\n",
       "      <td>...</td>\n",
       "      <td>-0.006131</td>\n",
       "      <td>0.005165</td>\n",
       "      <td>-0.020851</td>\n",
       "      <td>NaN</td>\n",
       "      <td>0.123807</td>\n",
       "      <td>0.002649</td>\n",
       "      <td>0.006070</td>\n",
       "      <td>-0.001031</td>\n",
       "      <td>0.005954</td>\n",
       "      <td>0.000646</td>\n",
       "    </tr>\n",
       "    <tr>\n",
       "      <th>Vehicle_Comprehensive_Coverage_Limit</th>\n",
       "      <td>0.011163</td>\n",
       "      <td>0.023998</td>\n",
       "      <td>0.014752</td>\n",
       "      <td>0.035629</td>\n",
       "      <td>0.013299</td>\n",
       "      <td>0.041036</td>\n",
       "      <td>-0.018244</td>\n",
       "      <td>-0.017332</td>\n",
       "      <td>-0.000679</td>\n",
       "      <td>-0.042734</td>\n",
       "      <td>...</td>\n",
       "      <td>0.003265</td>\n",
       "      <td>-0.000635</td>\n",
       "      <td>-0.011333</td>\n",
       "      <td>NaN</td>\n",
       "      <td>0.057530</td>\n",
       "      <td>0.000857</td>\n",
       "      <td>0.003187</td>\n",
       "      <td>-0.001419</td>\n",
       "      <td>0.003372</td>\n",
       "      <td>-0.000928</td>\n",
       "    </tr>\n",
       "    <tr>\n",
       "      <th>Vehicle_Collision_Coverage_Deductible</th>\n",
       "      <td>0.012482</td>\n",
       "      <td>0.030860</td>\n",
       "      <td>-0.004085</td>\n",
       "      <td>0.577186</td>\n",
       "      <td>0.041049</td>\n",
       "      <td>0.394539</td>\n",
       "      <td>0.028528</td>\n",
       "      <td>0.049390</td>\n",
       "      <td>0.000267</td>\n",
       "      <td>-0.530614</td>\n",
       "      <td>...</td>\n",
       "      <td>-0.085134</td>\n",
       "      <td>0.041880</td>\n",
       "      <td>-0.028900</td>\n",
       "      <td>NaN</td>\n",
       "      <td>0.571499</td>\n",
       "      <td>0.069329</td>\n",
       "      <td>0.020509</td>\n",
       "      <td>0.017820</td>\n",
       "      <td>0.019806</td>\n",
       "      <td>-0.000816</td>\n",
       "    </tr>\n",
       "    <tr>\n",
       "      <th>Driver_Total</th>\n",
       "      <td>-0.013289</td>\n",
       "      <td>-0.008834</td>\n",
       "      <td>-0.015400</td>\n",
       "      <td>0.024954</td>\n",
       "      <td>0.001393</td>\n",
       "      <td>0.001875</td>\n",
       "      <td>0.144769</td>\n",
       "      <td>0.009663</td>\n",
       "      <td>-0.004699</td>\n",
       "      <td>-0.010195</td>\n",
       "      <td>...</td>\n",
       "      <td>0.062575</td>\n",
       "      <td>0.023961</td>\n",
       "      <td>-0.000414</td>\n",
       "      <td>NaN</td>\n",
       "      <td>0.031479</td>\n",
       "      <td>0.003474</td>\n",
       "      <td>0.004486</td>\n",
       "      <td>0.000603</td>\n",
       "      <td>0.003963</td>\n",
       "      <td>0.005764</td>\n",
       "    </tr>\n",
       "    <tr>\n",
       "      <th>Driver_Total_Male</th>\n",
       "      <td>0.008453</td>\n",
       "      <td>-0.007059</td>\n",
       "      <td>0.013842</td>\n",
       "      <td>-0.191793</td>\n",
       "      <td>-0.007056</td>\n",
       "      <td>-0.089788</td>\n",
       "      <td>0.369968</td>\n",
       "      <td>-0.002929</td>\n",
       "      <td>0.000059</td>\n",
       "      <td>0.128029</td>\n",
       "      <td>...</td>\n",
       "      <td>0.045638</td>\n",
       "      <td>-0.000927</td>\n",
       "      <td>-0.005000</td>\n",
       "      <td>NaN</td>\n",
       "      <td>-0.092607</td>\n",
       "      <td>-0.032653</td>\n",
       "      <td>-0.006112</td>\n",
       "      <td>-0.010897</td>\n",
       "      <td>-0.006102</td>\n",
       "      <td>-0.000209</td>\n",
       "    </tr>\n",
       "    <tr>\n",
       "      <th>Driver_Total_Female</th>\n",
       "      <td>-0.016818</td>\n",
       "      <td>0.001473</td>\n",
       "      <td>-0.023527</td>\n",
       "      <td>0.207139</td>\n",
       "      <td>0.007920</td>\n",
       "      <td>0.090787</td>\n",
       "      <td>-0.277894</td>\n",
       "      <td>0.009018</td>\n",
       "      <td>-0.003023</td>\n",
       "      <td>-0.134197</td>\n",
       "      <td>...</td>\n",
       "      <td>-0.006075</td>\n",
       "      <td>0.016038</td>\n",
       "      <td>0.004729</td>\n",
       "      <td>NaN</td>\n",
       "      <td>0.112273</td>\n",
       "      <td>0.034777</td>\n",
       "      <td>0.008930</td>\n",
       "      <td>0.011256</td>\n",
       "      <td>0.008590</td>\n",
       "      <td>0.003845</td>\n",
       "    </tr>\n",
       "    <tr>\n",
       "      <th>Driver_Total_Single</th>\n",
       "      <td>0.123388</td>\n",
       "      <td>0.018949</td>\n",
       "      <td>-0.056523</td>\n",
       "      <td>-0.043643</td>\n",
       "      <td>-0.003216</td>\n",
       "      <td>0.003659</td>\n",
       "      <td>-0.008822</td>\n",
       "      <td>0.040788</td>\n",
       "      <td>-0.004823</td>\n",
       "      <td>0.074234</td>\n",
       "      <td>...</td>\n",
       "      <td>-0.129415</td>\n",
       "      <td>0.062129</td>\n",
       "      <td>-0.116886</td>\n",
       "      <td>NaN</td>\n",
       "      <td>0.123985</td>\n",
       "      <td>0.032017</td>\n",
       "      <td>0.014020</td>\n",
       "      <td>0.016342</td>\n",
       "      <td>0.013479</td>\n",
       "      <td>0.002346</td>\n",
       "    </tr>\n",
       "    <tr>\n",
       "      <th>Driver_Total_Married</th>\n",
       "      <td>-0.104679</td>\n",
       "      <td>-0.014374</td>\n",
       "      <td>0.037365</td>\n",
       "      <td>0.064919</td>\n",
       "      <td>0.005928</td>\n",
       "      <td>0.028122</td>\n",
       "      <td>0.145866</td>\n",
       "      <td>-0.016212</td>\n",
       "      <td>0.001487</td>\n",
       "      <td>-0.090148</td>\n",
       "      <td>...</td>\n",
       "      <td>0.047364</td>\n",
       "      <td>-0.031645</td>\n",
       "      <td>0.088800</td>\n",
       "      <td>NaN</td>\n",
       "      <td>-0.032093</td>\n",
       "      <td>-0.025563</td>\n",
       "      <td>-0.009092</td>\n",
       "      <td>-0.011842</td>\n",
       "      <td>-0.008761</td>\n",
       "      <td>0.000652</td>\n",
       "    </tr>\n",
       "    <tr>\n",
       "      <th>Driver_Total_Related_To_Insured_Self</th>\n",
       "      <td>0.032036</td>\n",
       "      <td>-0.010351</td>\n",
       "      <td>-0.024450</td>\n",
       "      <td>-0.081493</td>\n",
       "      <td>-0.005680</td>\n",
       "      <td>-0.050766</td>\n",
       "      <td>0.163134</td>\n",
       "      <td>0.053802</td>\n",
       "      <td>0.001215</td>\n",
       "      <td>0.058866</td>\n",
       "      <td>...</td>\n",
       "      <td>0.096654</td>\n",
       "      <td>0.001528</td>\n",
       "      <td>-0.016703</td>\n",
       "      <td>NaN</td>\n",
       "      <td>-0.106928</td>\n",
       "      <td>-0.008072</td>\n",
       "      <td>-0.004917</td>\n",
       "      <td>-0.004927</td>\n",
       "      <td>-0.005237</td>\n",
       "      <td>-0.000445</td>\n",
       "    </tr>\n",
       "    <tr>\n",
       "      <th>Driver_Total_Related_To_Insured_Spouse</th>\n",
       "      <td>-0.063714</td>\n",
       "      <td>-0.004707</td>\n",
       "      <td>0.016366</td>\n",
       "      <td>0.112765</td>\n",
       "      <td>0.009656</td>\n",
       "      <td>0.052779</td>\n",
       "      <td>0.002031</td>\n",
       "      <td>-0.018466</td>\n",
       "      <td>-0.001574</td>\n",
       "      <td>-0.100820</td>\n",
       "      <td>...</td>\n",
       "      <td>-0.003888</td>\n",
       "      <td>-0.012800</td>\n",
       "      <td>0.038927</td>\n",
       "      <td>NaN</td>\n",
       "      <td>0.024937</td>\n",
       "      <td>-0.006325</td>\n",
       "      <td>-0.002404</td>\n",
       "      <td>-0.003633</td>\n",
       "      <td>-0.002051</td>\n",
       "      <td>0.002180</td>\n",
       "    </tr>\n",
       "    <tr>\n",
       "      <th>Driver_Total_Related_To_Insured_Child</th>\n",
       "      <td>0.022143</td>\n",
       "      <td>0.008259</td>\n",
       "      <td>0.000179</td>\n",
       "      <td>-0.031108</td>\n",
       "      <td>-0.005301</td>\n",
       "      <td>-0.006732</td>\n",
       "      <td>-0.101068</td>\n",
       "      <td>-0.056705</td>\n",
       "      <td>-0.004936</td>\n",
       "      <td>0.059990</td>\n",
       "      <td>...</td>\n",
       "      <td>-0.074401</td>\n",
       "      <td>0.038685</td>\n",
       "      <td>-0.023337</td>\n",
       "      <td>NaN</td>\n",
       "      <td>0.150359</td>\n",
       "      <td>0.020408</td>\n",
       "      <td>0.014927</td>\n",
       "      <td>0.011372</td>\n",
       "      <td>0.014514</td>\n",
       "      <td>0.003962</td>\n",
       "    </tr>\n",
       "    <tr>\n",
       "      <th>Driver_Total_Licensed_In_State</th>\n",
       "      <td>-0.014458</td>\n",
       "      <td>-0.010712</td>\n",
       "      <td>-0.014316</td>\n",
       "      <td>0.021860</td>\n",
       "      <td>0.001598</td>\n",
       "      <td>0.000704</td>\n",
       "      <td>0.140913</td>\n",
       "      <td>0.007519</td>\n",
       "      <td>-0.004015</td>\n",
       "      <td>-0.008167</td>\n",
       "      <td>...</td>\n",
       "      <td>0.061246</td>\n",
       "      <td>0.022428</td>\n",
       "      <td>0.001664</td>\n",
       "      <td>NaN</td>\n",
       "      <td>0.029056</td>\n",
       "      <td>0.003371</td>\n",
       "      <td>0.004652</td>\n",
       "      <td>0.000591</td>\n",
       "      <td>0.004124</td>\n",
       "      <td>0.005730</td>\n",
       "    </tr>\n",
       "    <tr>\n",
       "      <th>Driver_Minimum_Age</th>\n",
       "      <td>-0.282778</td>\n",
       "      <td>-0.022615</td>\n",
       "      <td>0.008936</td>\n",
       "      <td>-0.108026</td>\n",
       "      <td>-0.007428</td>\n",
       "      <td>-0.148002</td>\n",
       "      <td>-0.369848</td>\n",
       "      <td>-0.165790</td>\n",
       "      <td>0.002826</td>\n",
       "      <td>0.068571</td>\n",
       "      <td>...</td>\n",
       "      <td>0.555144</td>\n",
       "      <td>-0.094738</td>\n",
       "      <td>0.310206</td>\n",
       "      <td>NaN</td>\n",
       "      <td>-0.219639</td>\n",
       "      <td>-0.036914</td>\n",
       "      <td>-0.017122</td>\n",
       "      <td>-0.016698</td>\n",
       "      <td>-0.016478</td>\n",
       "      <td>-0.001432</td>\n",
       "    </tr>\n",
       "    <tr>\n",
       "      <th>Driver_Maximum_Age</th>\n",
       "      <td>-0.287613</td>\n",
       "      <td>-0.023397</td>\n",
       "      <td>0.005455</td>\n",
       "      <td>-0.109649</td>\n",
       "      <td>-0.008081</td>\n",
       "      <td>-0.152854</td>\n",
       "      <td>-0.375463</td>\n",
       "      <td>-0.169962</td>\n",
       "      <td>0.001136</td>\n",
       "      <td>0.075022</td>\n",
       "      <td>...</td>\n",
       "      <td>0.574252</td>\n",
       "      <td>-0.088352</td>\n",
       "      <td>0.314235</td>\n",
       "      <td>NaN</td>\n",
       "      <td>-0.204030</td>\n",
       "      <td>-0.033280</td>\n",
       "      <td>-0.015290</td>\n",
       "      <td>-0.015784</td>\n",
       "      <td>-0.014943</td>\n",
       "      <td>-0.000804</td>\n",
       "    </tr>\n",
       "    <tr>\n",
       "      <th>Driver_Total_Teenager_Age_15_19</th>\n",
       "      <td>0.086911</td>\n",
       "      <td>0.020666</td>\n",
       "      <td>0.009271</td>\n",
       "      <td>-0.038000</td>\n",
       "      <td>-0.005720</td>\n",
       "      <td>-0.007892</td>\n",
       "      <td>-0.116664</td>\n",
       "      <td>-0.061630</td>\n",
       "      <td>-0.004449</td>\n",
       "      <td>0.063258</td>\n",
       "      <td>...</td>\n",
       "      <td>-0.060572</td>\n",
       "      <td>0.033519</td>\n",
       "      <td>-0.076642</td>\n",
       "      <td>NaN</td>\n",
       "      <td>0.145618</td>\n",
       "      <td>0.027637</td>\n",
       "      <td>0.019951</td>\n",
       "      <td>0.016517</td>\n",
       "      <td>0.019405</td>\n",
       "      <td>0.005323</td>\n",
       "    </tr>\n",
       "    <tr>\n",
       "      <th>Driver_Total_College_Ages_20_23</th>\n",
       "      <td>0.068839</td>\n",
       "      <td>0.029553</td>\n",
       "      <td>0.003366</td>\n",
       "      <td>0.012142</td>\n",
       "      <td>-0.001148</td>\n",
       "      <td>0.023000</td>\n",
       "      <td>-0.060712</td>\n",
       "      <td>0.003921</td>\n",
       "      <td>-0.000781</td>\n",
       "      <td>0.001072</td>\n",
       "      <td>...</td>\n",
       "      <td>-0.063658</td>\n",
       "      <td>0.067357</td>\n",
       "      <td>-0.064015</td>\n",
       "      <td>NaN</td>\n",
       "      <td>0.145844</td>\n",
       "      <td>0.015403</td>\n",
       "      <td>0.010002</td>\n",
       "      <td>0.006838</td>\n",
       "      <td>0.009617</td>\n",
       "      <td>0.001619</td>\n",
       "    </tr>\n",
       "    <tr>\n",
       "      <th>Driver_Total_Young_Adult_Ages_24_29</th>\n",
       "      <td>0.087843</td>\n",
       "      <td>0.014709</td>\n",
       "      <td>-0.005721</td>\n",
       "      <td>0.061453</td>\n",
       "      <td>0.001163</td>\n",
       "      <td>0.050625</td>\n",
       "      <td>0.304852</td>\n",
       "      <td>0.077450</td>\n",
       "      <td>0.001912</td>\n",
       "      <td>-0.053306</td>\n",
       "      <td>...</td>\n",
       "      <td>-0.088755</td>\n",
       "      <td>0.051274</td>\n",
       "      <td>-0.090580</td>\n",
       "      <td>NaN</td>\n",
       "      <td>0.063308</td>\n",
       "      <td>0.009625</td>\n",
       "      <td>0.001322</td>\n",
       "      <td>0.003315</td>\n",
       "      <td>0.001144</td>\n",
       "      <td>-0.001427</td>\n",
       "    </tr>\n",
       "    <tr>\n",
       "      <th>Driver_Total_Low_Middle_Adult_Ages_30_39</th>\n",
       "      <td>0.083901</td>\n",
       "      <td>-0.001170</td>\n",
       "      <td>-0.012131</td>\n",
       "      <td>0.075403</td>\n",
       "      <td>0.006907</td>\n",
       "      <td>0.072838</td>\n",
       "      <td>0.283650</td>\n",
       "      <td>0.107520</td>\n",
       "      <td>-0.003179</td>\n",
       "      <td>-0.061757</td>\n",
       "      <td>...</td>\n",
       "      <td>-0.145179</td>\n",
       "      <td>0.026992</td>\n",
       "      <td>-0.102716</td>\n",
       "      <td>NaN</td>\n",
       "      <td>0.025446</td>\n",
       "      <td>0.007569</td>\n",
       "      <td>0.002144</td>\n",
       "      <td>0.001765</td>\n",
       "      <td>0.001935</td>\n",
       "      <td>-0.001474</td>\n",
       "    </tr>\n",
       "    <tr>\n",
       "      <th>Driver_Total_Middle_Adult_Ages_40_49</th>\n",
       "      <td>0.056662</td>\n",
       "      <td>-0.012377</td>\n",
       "      <td>-0.003760</td>\n",
       "      <td>0.026130</td>\n",
       "      <td>0.004324</td>\n",
       "      <td>0.041247</td>\n",
       "      <td>0.300236</td>\n",
       "      <td>0.076335</td>\n",
       "      <td>-0.000640</td>\n",
       "      <td>-0.016869</td>\n",
       "      <td>...</td>\n",
       "      <td>-0.168864</td>\n",
       "      <td>-0.000779</td>\n",
       "      <td>-0.064877</td>\n",
       "      <td>NaN</td>\n",
       "      <td>-0.001385</td>\n",
       "      <td>0.002385</td>\n",
       "      <td>0.000041</td>\n",
       "      <td>0.002105</td>\n",
       "      <td>-0.000047</td>\n",
       "      <td>0.000721</td>\n",
       "    </tr>\n",
       "    <tr>\n",
       "      <th>Driver_Total_Adult_Ages_50_64</th>\n",
       "      <td>-0.080305</td>\n",
       "      <td>-0.027004</td>\n",
       "      <td>-0.003339</td>\n",
       "      <td>-0.034699</td>\n",
       "      <td>0.002307</td>\n",
       "      <td>-0.032197</td>\n",
       "      <td>-0.355419</td>\n",
       "      <td>-0.045908</td>\n",
       "      <td>0.000824</td>\n",
       "      <td>0.018446</td>\n",
       "      <td>...</td>\n",
       "      <td>-0.175817</td>\n",
       "      <td>-0.050868</td>\n",
       "      <td>0.066986</td>\n",
       "      <td>NaN</td>\n",
       "      <td>-0.076715</td>\n",
       "      <td>-0.017070</td>\n",
       "      <td>-0.011358</td>\n",
       "      <td>-0.009920</td>\n",
       "      <td>-0.011191</td>\n",
       "      <td>-0.002350</td>\n",
       "    </tr>\n",
       "    <tr>\n",
       "      <th>Driver_Total_Senior_Ages_65_69</th>\n",
       "      <td>-0.068252</td>\n",
       "      <td>-0.003620</td>\n",
       "      <td>0.003969</td>\n",
       "      <td>-0.033317</td>\n",
       "      <td>-0.004635</td>\n",
       "      <td>-0.054881</td>\n",
       "      <td>-0.148318</td>\n",
       "      <td>-0.089633</td>\n",
       "      <td>-0.000546</td>\n",
       "      <td>0.019695</td>\n",
       "      <td>...</td>\n",
       "      <td>-0.042297</td>\n",
       "      <td>-0.025591</td>\n",
       "      <td>0.069433</td>\n",
       "      <td>NaN</td>\n",
       "      <td>-0.057419</td>\n",
       "      <td>-0.011462</td>\n",
       "      <td>0.000627</td>\n",
       "      <td>-0.003603</td>\n",
       "      <td>0.000984</td>\n",
       "      <td>0.008471</td>\n",
       "    </tr>\n",
       "    <tr>\n",
       "      <th>Driver_Total_Upper_Senior_Ages_70_plus</th>\n",
       "      <td>-0.218888</td>\n",
       "      <td>0.009865</td>\n",
       "      <td>0.006235</td>\n",
       "      <td>-0.079790</td>\n",
       "      <td>-0.011410</td>\n",
       "      <td>-0.125559</td>\n",
       "      <td>-0.187266</td>\n",
       "      <td>-0.147663</td>\n",
       "      <td>0.001225</td>\n",
       "      <td>0.066002</td>\n",
       "      <td>...</td>\n",
       "      <td>1.000000</td>\n",
       "      <td>-0.026345</td>\n",
       "      <td>0.256557</td>\n",
       "      <td>NaN</td>\n",
       "      <td>-0.084906</td>\n",
       "      <td>-0.011389</td>\n",
       "      <td>-0.001517</td>\n",
       "      <td>-0.004572</td>\n",
       "      <td>-0.001404</td>\n",
       "      <td>0.000822</td>\n",
       "    </tr>\n",
       "    <tr>\n",
       "      <th>Vehicle_Driver_Points</th>\n",
       "      <td>0.072866</td>\n",
       "      <td>0.017890</td>\n",
       "      <td>-0.010607</td>\n",
       "      <td>0.059103</td>\n",
       "      <td>0.001182</td>\n",
       "      <td>0.049263</td>\n",
       "      <td>0.031278</td>\n",
       "      <td>0.039102</td>\n",
       "      <td>-0.000983</td>\n",
       "      <td>-0.041415</td>\n",
       "      <td>...</td>\n",
       "      <td>-0.026345</td>\n",
       "      <td>1.000000</td>\n",
       "      <td>-0.065833</td>\n",
       "      <td>NaN</td>\n",
       "      <td>0.174142</td>\n",
       "      <td>0.033036</td>\n",
       "      <td>0.012576</td>\n",
       "      <td>0.011832</td>\n",
       "      <td>0.012087</td>\n",
       "      <td>0.001852</td>\n",
       "    </tr>\n",
       "    <tr>\n",
       "      <th>EEA_Policy_Tenure</th>\n",
       "      <td>-0.879130</td>\n",
       "      <td>-0.061027</td>\n",
       "      <td>0.021064</td>\n",
       "      <td>-0.045147</td>\n",
       "      <td>-0.017089</td>\n",
       "      <td>-0.087711</td>\n",
       "      <td>-0.135735</td>\n",
       "      <td>-0.024156</td>\n",
       "      <td>-0.005339</td>\n",
       "      <td>0.031906</td>\n",
       "      <td>...</td>\n",
       "      <td>0.256557</td>\n",
       "      <td>-0.065833</td>\n",
       "      <td>1.000000</td>\n",
       "      <td>NaN</td>\n",
       "      <td>-0.038026</td>\n",
       "      <td>-0.025390</td>\n",
       "      <td>-0.012197</td>\n",
       "      <td>-0.011172</td>\n",
       "      <td>-0.011654</td>\n",
       "      <td>-0.002588</td>\n",
       "    </tr>\n",
       "    <tr>\n",
       "      <th>EEA_PolicyYear</th>\n",
       "      <td>NaN</td>\n",
       "      <td>NaN</td>\n",
       "      <td>NaN</td>\n",
       "      <td>NaN</td>\n",
       "      <td>NaN</td>\n",
       "      <td>NaN</td>\n",
       "      <td>NaN</td>\n",
       "      <td>NaN</td>\n",
       "      <td>NaN</td>\n",
       "      <td>NaN</td>\n",
       "      <td>...</td>\n",
       "      <td>NaN</td>\n",
       "      <td>NaN</td>\n",
       "      <td>NaN</td>\n",
       "      <td>NaN</td>\n",
       "      <td>NaN</td>\n",
       "      <td>NaN</td>\n",
       "      <td>NaN</td>\n",
       "      <td>NaN</td>\n",
       "      <td>NaN</td>\n",
       "      <td>NaN</td>\n",
       "    </tr>\n",
       "    <tr>\n",
       "      <th>Annual_Premium</th>\n",
       "      <td>0.034532</td>\n",
       "      <td>0.325114</td>\n",
       "      <td>-0.034599</td>\n",
       "      <td>0.541244</td>\n",
       "      <td>0.049957</td>\n",
       "      <td>0.453452</td>\n",
       "      <td>-0.017216</td>\n",
       "      <td>0.121913</td>\n",
       "      <td>-0.000522</td>\n",
       "      <td>-0.547855</td>\n",
       "      <td>...</td>\n",
       "      <td>-0.084906</td>\n",
       "      <td>0.174142</td>\n",
       "      <td>-0.038026</td>\n",
       "      <td>NaN</td>\n",
       "      <td>1.000000</td>\n",
       "      <td>0.112574</td>\n",
       "      <td>0.032097</td>\n",
       "      <td>0.005338</td>\n",
       "      <td>0.029758</td>\n",
       "      <td>-0.013340</td>\n",
       "    </tr>\n",
       "    <tr>\n",
       "      <th>Claim_Count</th>\n",
       "      <td>0.027508</td>\n",
       "      <td>0.045434</td>\n",
       "      <td>-0.013097</td>\n",
       "      <td>0.075605</td>\n",
       "      <td>0.004213</td>\n",
       "      <td>0.051319</td>\n",
       "      <td>-0.006816</td>\n",
       "      <td>0.014275</td>\n",
       "      <td>-0.003405</td>\n",
       "      <td>-0.062753</td>\n",
       "      <td>...</td>\n",
       "      <td>-0.011389</td>\n",
       "      <td>0.033036</td>\n",
       "      <td>-0.025390</td>\n",
       "      <td>NaN</td>\n",
       "      <td>0.112574</td>\n",
       "      <td>1.000000</td>\n",
       "      <td>0.319414</td>\n",
       "      <td>0.328445</td>\n",
       "      <td>0.301207</td>\n",
       "      <td>0.092929</td>\n",
       "    </tr>\n",
       "    <tr>\n",
       "      <th>Loss_Amount</th>\n",
       "      <td>0.014785</td>\n",
       "      <td>0.015728</td>\n",
       "      <td>-0.005857</td>\n",
       "      <td>0.027465</td>\n",
       "      <td>0.000749</td>\n",
       "      <td>0.021756</td>\n",
       "      <td>-0.003428</td>\n",
       "      <td>0.003734</td>\n",
       "      <td>-0.001793</td>\n",
       "      <td>-0.028379</td>\n",
       "      <td>...</td>\n",
       "      <td>-0.001517</td>\n",
       "      <td>0.012576</td>\n",
       "      <td>-0.012197</td>\n",
       "      <td>NaN</td>\n",
       "      <td>0.032097</td>\n",
       "      <td>0.319414</td>\n",
       "      <td>1.000000</td>\n",
       "      <td>0.146085</td>\n",
       "      <td>0.993720</td>\n",
       "      <td>0.578532</td>\n",
       "    </tr>\n",
       "    <tr>\n",
       "      <th>Frequency</th>\n",
       "      <td>0.011559</td>\n",
       "      <td>0.003594</td>\n",
       "      <td>-0.005910</td>\n",
       "      <td>0.020062</td>\n",
       "      <td>0.001361</td>\n",
       "      <td>0.014877</td>\n",
       "      <td>-0.003227</td>\n",
       "      <td>0.005965</td>\n",
       "      <td>-0.000742</td>\n",
       "      <td>-0.012532</td>\n",
       "      <td>...</td>\n",
       "      <td>-0.004572</td>\n",
       "      <td>0.011832</td>\n",
       "      <td>-0.011172</td>\n",
       "      <td>NaN</td>\n",
       "      <td>0.005338</td>\n",
       "      <td>0.328445</td>\n",
       "      <td>0.146085</td>\n",
       "      <td>1.000000</td>\n",
       "      <td>0.142099</td>\n",
       "      <td>0.371274</td>\n",
       "    </tr>\n",
       "    <tr>\n",
       "      <th>Severity</th>\n",
       "      <td>0.014270</td>\n",
       "      <td>0.014125</td>\n",
       "      <td>-0.005771</td>\n",
       "      <td>0.026553</td>\n",
       "      <td>0.000732</td>\n",
       "      <td>0.020999</td>\n",
       "      <td>-0.003409</td>\n",
       "      <td>0.003602</td>\n",
       "      <td>-0.001865</td>\n",
       "      <td>-0.027334</td>\n",
       "      <td>...</td>\n",
       "      <td>-0.001404</td>\n",
       "      <td>0.012087</td>\n",
       "      <td>-0.011654</td>\n",
       "      <td>NaN</td>\n",
       "      <td>0.029758</td>\n",
       "      <td>0.301207</td>\n",
       "      <td>0.993720</td>\n",
       "      <td>0.142099</td>\n",
       "      <td>1.000000</td>\n",
       "      <td>0.585348</td>\n",
       "    </tr>\n",
       "    <tr>\n",
       "      <th>Loss_Ratio</th>\n",
       "      <td>0.003051</td>\n",
       "      <td>0.000054</td>\n",
       "      <td>-0.003306</td>\n",
       "      <td>0.002206</td>\n",
       "      <td>-0.000493</td>\n",
       "      <td>0.001186</td>\n",
       "      <td>-0.002467</td>\n",
       "      <td>-0.001067</td>\n",
       "      <td>0.000005</td>\n",
       "      <td>-0.001998</td>\n",
       "      <td>...</td>\n",
       "      <td>0.000822</td>\n",
       "      <td>0.001852</td>\n",
       "      <td>-0.002588</td>\n",
       "      <td>NaN</td>\n",
       "      <td>-0.013340</td>\n",
       "      <td>0.092929</td>\n",
       "      <td>0.578532</td>\n",
       "      <td>0.371274</td>\n",
       "      <td>0.585348</td>\n",
       "      <td>1.000000</td>\n",
       "    </tr>\n",
       "  </tbody>\n",
       "</table>\n",
       "<p>42 rows × 42 columns</p>\n",
       "</div>"
      ],
      "text/plain": [
       "                                          PolicyNo  Policy_Installment_Term  \\\n",
       "PolicyNo                                  1.000000                 0.074224   \n",
       "Policy_Installment_Term                   0.074224                 1.000000   \n",
       "Vehicle_Territory                        -0.020730                 0.001015   \n",
       "Vehicle_Make_Year                         0.027827                 0.026642   \n",
       "Vehicle_New_Cost_Amount                   0.015798                 0.005615   \n",
       "Vehicle_Symbol                            0.079465                 0.023674   \n",
       "Vehicle_Number_Of_Drivers_Assigned        0.126597                -0.000886   \n",
       "Vehicle_Miles_To_Work                     0.011696                 0.006645   \n",
       "Vehicle_Days_Per_Week_Driven              0.007795                 0.001091   \n",
       "Vehicle_Age_In_Years                     -0.030603                -0.030859   \n",
       "Vehicle_Med_Pay_Limit                    -0.032959                 0.006150   \n",
       "Vehicle_Physical_Damage_Limit             0.029595                 0.020948   \n",
       "Vehicle_Comprehensive_Coverage_Limit      0.011163                 0.023998   \n",
       "Vehicle_Collision_Coverage_Deductible     0.012482                 0.030860   \n",
       "Driver_Total                             -0.013289                -0.008834   \n",
       "Driver_Total_Male                         0.008453                -0.007059   \n",
       "Driver_Total_Female                      -0.016818                 0.001473   \n",
       "Driver_Total_Single                       0.123388                 0.018949   \n",
       "Driver_Total_Married                     -0.104679                -0.014374   \n",
       "Driver_Total_Related_To_Insured_Self      0.032036                -0.010351   \n",
       "Driver_Total_Related_To_Insured_Spouse   -0.063714                -0.004707   \n",
       "Driver_Total_Related_To_Insured_Child     0.022143                 0.008259   \n",
       "Driver_Total_Licensed_In_State           -0.014458                -0.010712   \n",
       "Driver_Minimum_Age                       -0.282778                -0.022615   \n",
       "Driver_Maximum_Age                       -0.287613                -0.023397   \n",
       "Driver_Total_Teenager_Age_15_19           0.086911                 0.020666   \n",
       "Driver_Total_College_Ages_20_23           0.068839                 0.029553   \n",
       "Driver_Total_Young_Adult_Ages_24_29       0.087843                 0.014709   \n",
       "Driver_Total_Low_Middle_Adult_Ages_30_39  0.083901                -0.001170   \n",
       "Driver_Total_Middle_Adult_Ages_40_49      0.056662                -0.012377   \n",
       "Driver_Total_Adult_Ages_50_64            -0.080305                -0.027004   \n",
       "Driver_Total_Senior_Ages_65_69           -0.068252                -0.003620   \n",
       "Driver_Total_Upper_Senior_Ages_70_plus   -0.218888                 0.009865   \n",
       "Vehicle_Driver_Points                     0.072866                 0.017890   \n",
       "EEA_Policy_Tenure                        -0.879130                -0.061027   \n",
       "EEA_PolicyYear                                 NaN                      NaN   \n",
       "Annual_Premium                            0.034532                 0.325114   \n",
       "Claim_Count                               0.027508                 0.045434   \n",
       "Loss_Amount                               0.014785                 0.015728   \n",
       "Frequency                                 0.011559                 0.003594   \n",
       "Severity                                  0.014270                 0.014125   \n",
       "Loss_Ratio                                0.003051                 0.000054   \n",
       "\n",
       "                                          Vehicle_Territory  \\\n",
       "PolicyNo                                          -0.020730   \n",
       "Policy_Installment_Term                            0.001015   \n",
       "Vehicle_Territory                                  1.000000   \n",
       "Vehicle_Make_Year                                 -0.009061   \n",
       "Vehicle_New_Cost_Amount                           -0.007689   \n",
       "Vehicle_Symbol                                    -0.005891   \n",
       "Vehicle_Number_Of_Drivers_Assigned                 0.002479   \n",
       "Vehicle_Miles_To_Work                             -0.018704   \n",
       "Vehicle_Days_Per_Week_Driven                       0.003195   \n",
       "Vehicle_Age_In_Years                              -0.006025   \n",
       "Vehicle_Med_Pay_Limit                              0.032296   \n",
       "Vehicle_Physical_Damage_Limit                      0.042062   \n",
       "Vehicle_Comprehensive_Coverage_Limit               0.014752   \n",
       "Vehicle_Collision_Coverage_Deductible             -0.004085   \n",
       "Driver_Total                                      -0.015400   \n",
       "Driver_Total_Male                                  0.013842   \n",
       "Driver_Total_Female                               -0.023527   \n",
       "Driver_Total_Single                               -0.056523   \n",
       "Driver_Total_Married                               0.037365   \n",
       "Driver_Total_Related_To_Insured_Self              -0.024450   \n",
       "Driver_Total_Related_To_Insured_Spouse             0.016366   \n",
       "Driver_Total_Related_To_Insured_Child              0.000179   \n",
       "Driver_Total_Licensed_In_State                    -0.014316   \n",
       "Driver_Minimum_Age                                 0.008936   \n",
       "Driver_Maximum_Age                                 0.005455   \n",
       "Driver_Total_Teenager_Age_15_19                    0.009271   \n",
       "Driver_Total_College_Ages_20_23                    0.003366   \n",
       "Driver_Total_Young_Adult_Ages_24_29               -0.005721   \n",
       "Driver_Total_Low_Middle_Adult_Ages_30_39          -0.012131   \n",
       "Driver_Total_Middle_Adult_Ages_40_49              -0.003760   \n",
       "Driver_Total_Adult_Ages_50_64                     -0.003339   \n",
       "Driver_Total_Senior_Ages_65_69                     0.003969   \n",
       "Driver_Total_Upper_Senior_Ages_70_plus             0.006235   \n",
       "Vehicle_Driver_Points                             -0.010607   \n",
       "EEA_Policy_Tenure                                  0.021064   \n",
       "EEA_PolicyYear                                          NaN   \n",
       "Annual_Premium                                    -0.034599   \n",
       "Claim_Count                                       -0.013097   \n",
       "Loss_Amount                                       -0.005857   \n",
       "Frequency                                         -0.005910   \n",
       "Severity                                          -0.005771   \n",
       "Loss_Ratio                                        -0.003306   \n",
       "\n",
       "                                          Vehicle_Make_Year  \\\n",
       "PolicyNo                                           0.027827   \n",
       "Policy_Installment_Term                            0.026642   \n",
       "Vehicle_Territory                                 -0.009061   \n",
       "Vehicle_Make_Year                                  1.000000   \n",
       "Vehicle_New_Cost_Amount                            0.035136   \n",
       "Vehicle_Symbol                                     0.498726   \n",
       "Vehicle_Number_Of_Drivers_Assigned                 0.003662   \n",
       "Vehicle_Miles_To_Work                              0.075274   \n",
       "Vehicle_Days_Per_Week_Driven                       0.000372   \n",
       "Vehicle_Age_In_Years                              -0.704518   \n",
       "Vehicle_Med_Pay_Limit                              0.053732   \n",
       "Vehicle_Physical_Damage_Limit                      0.103662   \n",
       "Vehicle_Comprehensive_Coverage_Limit               0.035629   \n",
       "Vehicle_Collision_Coverage_Deductible              0.577186   \n",
       "Driver_Total                                       0.024954   \n",
       "Driver_Total_Male                                 -0.191793   \n",
       "Driver_Total_Female                                0.207139   \n",
       "Driver_Total_Single                               -0.043643   \n",
       "Driver_Total_Married                               0.064919   \n",
       "Driver_Total_Related_To_Insured_Self              -0.081493   \n",
       "Driver_Total_Related_To_Insured_Spouse             0.112765   \n",
       "Driver_Total_Related_To_Insured_Child             -0.031108   \n",
       "Driver_Total_Licensed_In_State                     0.021860   \n",
       "Driver_Minimum_Age                                -0.108026   \n",
       "Driver_Maximum_Age                                -0.109649   \n",
       "Driver_Total_Teenager_Age_15_19                   -0.038000   \n",
       "Driver_Total_College_Ages_20_23                    0.012142   \n",
       "Driver_Total_Young_Adult_Ages_24_29                0.061453   \n",
       "Driver_Total_Low_Middle_Adult_Ages_30_39           0.075403   \n",
       "Driver_Total_Middle_Adult_Ages_40_49               0.026130   \n",
       "Driver_Total_Adult_Ages_50_64                     -0.034699   \n",
       "Driver_Total_Senior_Ages_65_69                    -0.033317   \n",
       "Driver_Total_Upper_Senior_Ages_70_plus            -0.079790   \n",
       "Vehicle_Driver_Points                              0.059103   \n",
       "EEA_Policy_Tenure                                 -0.045147   \n",
       "EEA_PolicyYear                                          NaN   \n",
       "Annual_Premium                                     0.541244   \n",
       "Claim_Count                                        0.075605   \n",
       "Loss_Amount                                        0.027465   \n",
       "Frequency                                          0.020062   \n",
       "Severity                                           0.026553   \n",
       "Loss_Ratio                                         0.002206   \n",
       "\n",
       "                                          Vehicle_New_Cost_Amount  \\\n",
       "PolicyNo                                                 0.015798   \n",
       "Policy_Installment_Term                                  0.005615   \n",
       "Vehicle_Territory                                       -0.007689   \n",
       "Vehicle_Make_Year                                        0.035136   \n",
       "Vehicle_New_Cost_Amount                                  1.000000   \n",
       "Vehicle_Symbol                                           0.061648   \n",
       "Vehicle_Number_Of_Drivers_Assigned                       0.003942   \n",
       "Vehicle_Miles_To_Work                                   -0.000727   \n",
       "Vehicle_Days_Per_Week_Driven                            -0.000258   \n",
       "Vehicle_Age_In_Years                                    -0.041822   \n",
       "Vehicle_Med_Pay_Limit                                    0.007091   \n",
       "Vehicle_Physical_Damage_Limit                            0.015781   \n",
       "Vehicle_Comprehensive_Coverage_Limit                     0.013299   \n",
       "Vehicle_Collision_Coverage_Deductible                    0.041049   \n",
       "Driver_Total                                             0.001393   \n",
       "Driver_Total_Male                                       -0.007056   \n",
       "Driver_Total_Female                                      0.007920   \n",
       "Driver_Total_Single                                     -0.003216   \n",
       "Driver_Total_Married                                     0.005928   \n",
       "Driver_Total_Related_To_Insured_Self                    -0.005680   \n",
       "Driver_Total_Related_To_Insured_Spouse                   0.009656   \n",
       "Driver_Total_Related_To_Insured_Child                   -0.005301   \n",
       "Driver_Total_Licensed_In_State                           0.001598   \n",
       "Driver_Minimum_Age                                      -0.007428   \n",
       "Driver_Maximum_Age                                      -0.008081   \n",
       "Driver_Total_Teenager_Age_15_19                         -0.005720   \n",
       "Driver_Total_College_Ages_20_23                         -0.001148   \n",
       "Driver_Total_Young_Adult_Ages_24_29                      0.001163   \n",
       "Driver_Total_Low_Middle_Adult_Ages_30_39                 0.006907   \n",
       "Driver_Total_Middle_Adult_Ages_40_49                     0.004324   \n",
       "Driver_Total_Adult_Ages_50_64                            0.002307   \n",
       "Driver_Total_Senior_Ages_65_69                          -0.004635   \n",
       "Driver_Total_Upper_Senior_Ages_70_plus                  -0.011410   \n",
       "Vehicle_Driver_Points                                    0.001182   \n",
       "EEA_Policy_Tenure                                       -0.017089   \n",
       "EEA_PolicyYear                                                NaN   \n",
       "Annual_Premium                                           0.049957   \n",
       "Claim_Count                                              0.004213   \n",
       "Loss_Amount                                              0.000749   \n",
       "Frequency                                                0.001361   \n",
       "Severity                                                 0.000732   \n",
       "Loss_Ratio                                              -0.000493   \n",
       "\n",
       "                                          Vehicle_Symbol  \\\n",
       "PolicyNo                                        0.079465   \n",
       "Policy_Installment_Term                         0.023674   \n",
       "Vehicle_Territory                              -0.005891   \n",
       "Vehicle_Make_Year                               0.498726   \n",
       "Vehicle_New_Cost_Amount                         0.061648   \n",
       "Vehicle_Symbol                                  1.000000   \n",
       "Vehicle_Number_Of_Drivers_Assigned              0.047245   \n",
       "Vehicle_Miles_To_Work                           0.026139   \n",
       "Vehicle_Days_Per_Week_Driven                    0.001297   \n",
       "Vehicle_Age_In_Years                           -0.416821   \n",
       "Vehicle_Med_Pay_Limit                           0.033643   \n",
       "Vehicle_Physical_Damage_Limit                   0.103887   \n",
       "Vehicle_Comprehensive_Coverage_Limit            0.041036   \n",
       "Vehicle_Collision_Coverage_Deductible           0.394539   \n",
       "Driver_Total                                    0.001875   \n",
       "Driver_Total_Male                              -0.089788   \n",
       "Driver_Total_Female                             0.090787   \n",
       "Driver_Total_Single                             0.003659   \n",
       "Driver_Total_Married                            0.028122   \n",
       "Driver_Total_Related_To_Insured_Self           -0.050766   \n",
       "Driver_Total_Related_To_Insured_Spouse          0.052779   \n",
       "Driver_Total_Related_To_Insured_Child          -0.006732   \n",
       "Driver_Total_Licensed_In_State                  0.000704   \n",
       "Driver_Minimum_Age                             -0.148002   \n",
       "Driver_Maximum_Age                             -0.152854   \n",
       "Driver_Total_Teenager_Age_15_19                -0.007892   \n",
       "Driver_Total_College_Ages_20_23                 0.023000   \n",
       "Driver_Total_Young_Adult_Ages_24_29             0.050625   \n",
       "Driver_Total_Low_Middle_Adult_Ages_30_39        0.072838   \n",
       "Driver_Total_Middle_Adult_Ages_40_49            0.041247   \n",
       "Driver_Total_Adult_Ages_50_64                  -0.032197   \n",
       "Driver_Total_Senior_Ages_65_69                 -0.054881   \n",
       "Driver_Total_Upper_Senior_Ages_70_plus         -0.125559   \n",
       "Vehicle_Driver_Points                           0.049263   \n",
       "EEA_Policy_Tenure                              -0.087711   \n",
       "EEA_PolicyYear                                       NaN   \n",
       "Annual_Premium                                  0.453452   \n",
       "Claim_Count                                     0.051319   \n",
       "Loss_Amount                                     0.021756   \n",
       "Frequency                                       0.014877   \n",
       "Severity                                        0.020999   \n",
       "Loss_Ratio                                      0.001186   \n",
       "\n",
       "                                          Vehicle_Number_Of_Drivers_Assigned  \\\n",
       "PolicyNo                                                            0.126597   \n",
       "Policy_Installment_Term                                            -0.000886   \n",
       "Vehicle_Territory                                                   0.002479   \n",
       "Vehicle_Make_Year                                                   0.003662   \n",
       "Vehicle_New_Cost_Amount                                             0.003942   \n",
       "Vehicle_Symbol                                                      0.047245   \n",
       "Vehicle_Number_Of_Drivers_Assigned                                  1.000000   \n",
       "Vehicle_Miles_To_Work                                               0.134837   \n",
       "Vehicle_Days_Per_Week_Driven                                        0.000014   \n",
       "Vehicle_Age_In_Years                                               -0.015179   \n",
       "Vehicle_Med_Pay_Limit                                              -0.036316   \n",
       "Vehicle_Physical_Damage_Limit                                      -0.021110   \n",
       "Vehicle_Comprehensive_Coverage_Limit                               -0.018244   \n",
       "Vehicle_Collision_Coverage_Deductible                               0.028528   \n",
       "Driver_Total                                                        0.144769   \n",
       "Driver_Total_Male                                                   0.369968   \n",
       "Driver_Total_Female                                                -0.277894   \n",
       "Driver_Total_Single                                                -0.008822   \n",
       "Driver_Total_Married                                                0.145866   \n",
       "Driver_Total_Related_To_Insured_Self                                0.163134   \n",
       "Driver_Total_Related_To_Insured_Spouse                              0.002031   \n",
       "Driver_Total_Related_To_Insured_Child                              -0.101068   \n",
       "Driver_Total_Licensed_In_State                                      0.140913   \n",
       "Driver_Minimum_Age                                                 -0.369848   \n",
       "Driver_Maximum_Age                                                 -0.375463   \n",
       "Driver_Total_Teenager_Age_15_19                                    -0.116664   \n",
       "Driver_Total_College_Ages_20_23                                    -0.060712   \n",
       "Driver_Total_Young_Adult_Ages_24_29                                 0.304852   \n",
       "Driver_Total_Low_Middle_Adult_Ages_30_39                            0.283650   \n",
       "Driver_Total_Middle_Adult_Ages_40_49                                0.300236   \n",
       "Driver_Total_Adult_Ages_50_64                                      -0.355419   \n",
       "Driver_Total_Senior_Ages_65_69                                     -0.148318   \n",
       "Driver_Total_Upper_Senior_Ages_70_plus                             -0.187266   \n",
       "Vehicle_Driver_Points                                               0.031278   \n",
       "EEA_Policy_Tenure                                                  -0.135735   \n",
       "EEA_PolicyYear                                                           NaN   \n",
       "Annual_Premium                                                     -0.017216   \n",
       "Claim_Count                                                        -0.006816   \n",
       "Loss_Amount                                                        -0.003428   \n",
       "Frequency                                                          -0.003227   \n",
       "Severity                                                           -0.003409   \n",
       "Loss_Ratio                                                         -0.002467   \n",
       "\n",
       "                                          Vehicle_Miles_To_Work  \\\n",
       "PolicyNo                                               0.011696   \n",
       "Policy_Installment_Term                                0.006645   \n",
       "Vehicle_Territory                                     -0.018704   \n",
       "Vehicle_Make_Year                                      0.075274   \n",
       "Vehicle_New_Cost_Amount                               -0.000727   \n",
       "Vehicle_Symbol                                         0.026139   \n",
       "Vehicle_Number_Of_Drivers_Assigned                     0.134837   \n",
       "Vehicle_Miles_To_Work                                  1.000000   \n",
       "Vehicle_Days_Per_Week_Driven                          -0.000579   \n",
       "Vehicle_Age_In_Years                                  -0.034013   \n",
       "Vehicle_Med_Pay_Limit                                 -0.020900   \n",
       "Vehicle_Physical_Damage_Limit                         -0.021929   \n",
       "Vehicle_Comprehensive_Coverage_Limit                  -0.017332   \n",
       "Vehicle_Collision_Coverage_Deductible                  0.049390   \n",
       "Driver_Total                                           0.009663   \n",
       "Driver_Total_Male                                     -0.002929   \n",
       "Driver_Total_Female                                    0.009018   \n",
       "Driver_Total_Single                                    0.040788   \n",
       "Driver_Total_Married                                  -0.016212   \n",
       "Driver_Total_Related_To_Insured_Self                   0.053802   \n",
       "Driver_Total_Related_To_Insured_Spouse                -0.018466   \n",
       "Driver_Total_Related_To_Insured_Child                 -0.056705   \n",
       "Driver_Total_Licensed_In_State                         0.007519   \n",
       "Driver_Minimum_Age                                    -0.165790   \n",
       "Driver_Maximum_Age                                    -0.169962   \n",
       "Driver_Total_Teenager_Age_15_19                       -0.061630   \n",
       "Driver_Total_College_Ages_20_23                        0.003921   \n",
       "Driver_Total_Young_Adult_Ages_24_29                    0.077450   \n",
       "Driver_Total_Low_Middle_Adult_Ages_30_39               0.107520   \n",
       "Driver_Total_Middle_Adult_Ages_40_49                   0.076335   \n",
       "Driver_Total_Adult_Ages_50_64                         -0.045908   \n",
       "Driver_Total_Senior_Ages_65_69                        -0.089633   \n",
       "Driver_Total_Upper_Senior_Ages_70_plus                -0.147663   \n",
       "Vehicle_Driver_Points                                  0.039102   \n",
       "EEA_Policy_Tenure                                     -0.024156   \n",
       "EEA_PolicyYear                                              NaN   \n",
       "Annual_Premium                                         0.121913   \n",
       "Claim_Count                                            0.014275   \n",
       "Loss_Amount                                            0.003734   \n",
       "Frequency                                              0.005965   \n",
       "Severity                                               0.003602   \n",
       "Loss_Ratio                                            -0.001067   \n",
       "\n",
       "                                          Vehicle_Days_Per_Week_Driven  \\\n",
       "PolicyNo                                                      0.007795   \n",
       "Policy_Installment_Term                                       0.001091   \n",
       "Vehicle_Territory                                             0.003195   \n",
       "Vehicle_Make_Year                                             0.000372   \n",
       "Vehicle_New_Cost_Amount                                      -0.000258   \n",
       "Vehicle_Symbol                                                0.001297   \n",
       "Vehicle_Number_Of_Drivers_Assigned                            0.000014   \n",
       "Vehicle_Miles_To_Work                                        -0.000579   \n",
       "Vehicle_Days_Per_Week_Driven                                  1.000000   \n",
       "Vehicle_Age_In_Years                                         -0.000715   \n",
       "Vehicle_Med_Pay_Limit                                        -0.000403   \n",
       "Vehicle_Physical_Damage_Limit                                -0.000259   \n",
       "Vehicle_Comprehensive_Coverage_Limit                         -0.000679   \n",
       "Vehicle_Collision_Coverage_Deductible                         0.000267   \n",
       "Driver_Total                                                 -0.004699   \n",
       "Driver_Total_Male                                             0.000059   \n",
       "Driver_Total_Female                                          -0.003023   \n",
       "Driver_Total_Single                                          -0.004823   \n",
       "Driver_Total_Married                                          0.001487   \n",
       "Driver_Total_Related_To_Insured_Self                          0.001215   \n",
       "Driver_Total_Related_To_Insured_Spouse                       -0.001574   \n",
       "Driver_Total_Related_To_Insured_Child                        -0.004936   \n",
       "Driver_Total_Licensed_In_State                               -0.004015   \n",
       "Driver_Minimum_Age                                            0.002826   \n",
       "Driver_Maximum_Age                                            0.001136   \n",
       "Driver_Total_Teenager_Age_15_19                              -0.004449   \n",
       "Driver_Total_College_Ages_20_23                              -0.000781   \n",
       "Driver_Total_Young_Adult_Ages_24_29                           0.001912   \n",
       "Driver_Total_Low_Middle_Adult_Ages_30_39                     -0.003179   \n",
       "Driver_Total_Middle_Adult_Ages_40_49                         -0.000640   \n",
       "Driver_Total_Adult_Ages_50_64                                 0.000824   \n",
       "Driver_Total_Senior_Ages_65_69                               -0.000546   \n",
       "Driver_Total_Upper_Senior_Ages_70_plus                        0.001225   \n",
       "Vehicle_Driver_Points                                        -0.000983   \n",
       "EEA_Policy_Tenure                                            -0.005339   \n",
       "EEA_PolicyYear                                                     NaN   \n",
       "Annual_Premium                                               -0.000522   \n",
       "Claim_Count                                                  -0.003405   \n",
       "Loss_Amount                                                  -0.001793   \n",
       "Frequency                                                    -0.000742   \n",
       "Severity                                                     -0.001865   \n",
       "Loss_Ratio                                                    0.000005   \n",
       "\n",
       "                                          Vehicle_Age_In_Years  ...  \\\n",
       "PolicyNo                                             -0.030603  ...   \n",
       "Policy_Installment_Term                              -0.030859  ...   \n",
       "Vehicle_Territory                                    -0.006025  ...   \n",
       "Vehicle_Make_Year                                    -0.704518  ...   \n",
       "Vehicle_New_Cost_Amount                              -0.041822  ...   \n",
       "Vehicle_Symbol                                       -0.416821  ...   \n",
       "Vehicle_Number_Of_Drivers_Assigned                   -0.015179  ...   \n",
       "Vehicle_Miles_To_Work                                -0.034013  ...   \n",
       "Vehicle_Days_Per_Week_Driven                         -0.000715  ...   \n",
       "Vehicle_Age_In_Years                                  1.000000  ...   \n",
       "Vehicle_Med_Pay_Limit                                -0.046682  ...   \n",
       "Vehicle_Physical_Damage_Limit                        -0.114661  ...   \n",
       "Vehicle_Comprehensive_Coverage_Limit                 -0.042734  ...   \n",
       "Vehicle_Collision_Coverage_Deductible                -0.530614  ...   \n",
       "Driver_Total                                         -0.010195  ...   \n",
       "Driver_Total_Male                                     0.128029  ...   \n",
       "Driver_Total_Female                                  -0.134197  ...   \n",
       "Driver_Total_Single                                   0.074234  ...   \n",
       "Driver_Total_Married                                 -0.090148  ...   \n",
       "Driver_Total_Related_To_Insured_Self                  0.058866  ...   \n",
       "Driver_Total_Related_To_Insured_Spouse               -0.100820  ...   \n",
       "Driver_Total_Related_To_Insured_Child                 0.059990  ...   \n",
       "Driver_Total_Licensed_In_State                       -0.008167  ...   \n",
       "Driver_Minimum_Age                                    0.068571  ...   \n",
       "Driver_Maximum_Age                                    0.075022  ...   \n",
       "Driver_Total_Teenager_Age_15_19                       0.063258  ...   \n",
       "Driver_Total_College_Ages_20_23                       0.001072  ...   \n",
       "Driver_Total_Young_Adult_Ages_24_29                  -0.053306  ...   \n",
       "Driver_Total_Low_Middle_Adult_Ages_30_39             -0.061757  ...   \n",
       "Driver_Total_Middle_Adult_Ages_40_49                 -0.016869  ...   \n",
       "Driver_Total_Adult_Ages_50_64                         0.018446  ...   \n",
       "Driver_Total_Senior_Ages_65_69                        0.019695  ...   \n",
       "Driver_Total_Upper_Senior_Ages_70_plus                0.066002  ...   \n",
       "Vehicle_Driver_Points                                -0.041415  ...   \n",
       "EEA_Policy_Tenure                                     0.031906  ...   \n",
       "EEA_PolicyYear                                             NaN  ...   \n",
       "Annual_Premium                                       -0.547855  ...   \n",
       "Claim_Count                                          -0.062753  ...   \n",
       "Loss_Amount                                          -0.028379  ...   \n",
       "Frequency                                            -0.012532  ...   \n",
       "Severity                                             -0.027334  ...   \n",
       "Loss_Ratio                                           -0.001998  ...   \n",
       "\n",
       "                                          Driver_Total_Upper_Senior_Ages_70_plus  \\\n",
       "PolicyNo                                                               -0.218888   \n",
       "Policy_Installment_Term                                                 0.009865   \n",
       "Vehicle_Territory                                                       0.006235   \n",
       "Vehicle_Make_Year                                                      -0.079790   \n",
       "Vehicle_New_Cost_Amount                                                -0.011410   \n",
       "Vehicle_Symbol                                                         -0.125559   \n",
       "Vehicle_Number_Of_Drivers_Assigned                                     -0.187266   \n",
       "Vehicle_Miles_To_Work                                                  -0.147663   \n",
       "Vehicle_Days_Per_Week_Driven                                            0.001225   \n",
       "Vehicle_Age_In_Years                                                    0.066002   \n",
       "Vehicle_Med_Pay_Limit                                                   0.024579   \n",
       "Vehicle_Physical_Damage_Limit                                          -0.006131   \n",
       "Vehicle_Comprehensive_Coverage_Limit                                    0.003265   \n",
       "Vehicle_Collision_Coverage_Deductible                                  -0.085134   \n",
       "Driver_Total                                                            0.062575   \n",
       "Driver_Total_Male                                                       0.045638   \n",
       "Driver_Total_Female                                                    -0.006075   \n",
       "Driver_Total_Single                                                    -0.129415   \n",
       "Driver_Total_Married                                                    0.047364   \n",
       "Driver_Total_Related_To_Insured_Self                                    0.096654   \n",
       "Driver_Total_Related_To_Insured_Spouse                                 -0.003888   \n",
       "Driver_Total_Related_To_Insured_Child                                  -0.074401   \n",
       "Driver_Total_Licensed_In_State                                          0.061246   \n",
       "Driver_Minimum_Age                                                      0.555144   \n",
       "Driver_Maximum_Age                                                      0.574252   \n",
       "Driver_Total_Teenager_Age_15_19                                        -0.060572   \n",
       "Driver_Total_College_Ages_20_23                                        -0.063658   \n",
       "Driver_Total_Young_Adult_Ages_24_29                                    -0.088755   \n",
       "Driver_Total_Low_Middle_Adult_Ages_30_39                               -0.145179   \n",
       "Driver_Total_Middle_Adult_Ages_40_49                                   -0.168864   \n",
       "Driver_Total_Adult_Ages_50_64                                          -0.175817   \n",
       "Driver_Total_Senior_Ages_65_69                                         -0.042297   \n",
       "Driver_Total_Upper_Senior_Ages_70_plus                                  1.000000   \n",
       "Vehicle_Driver_Points                                                  -0.026345   \n",
       "EEA_Policy_Tenure                                                       0.256557   \n",
       "EEA_PolicyYear                                                               NaN   \n",
       "Annual_Premium                                                         -0.084906   \n",
       "Claim_Count                                                            -0.011389   \n",
       "Loss_Amount                                                            -0.001517   \n",
       "Frequency                                                              -0.004572   \n",
       "Severity                                                               -0.001404   \n",
       "Loss_Ratio                                                              0.000822   \n",
       "\n",
       "                                          Vehicle_Driver_Points  \\\n",
       "PolicyNo                                               0.072866   \n",
       "Policy_Installment_Term                                0.017890   \n",
       "Vehicle_Territory                                     -0.010607   \n",
       "Vehicle_Make_Year                                      0.059103   \n",
       "Vehicle_New_Cost_Amount                                0.001182   \n",
       "Vehicle_Symbol                                         0.049263   \n",
       "Vehicle_Number_Of_Drivers_Assigned                     0.031278   \n",
       "Vehicle_Miles_To_Work                                  0.039102   \n",
       "Vehicle_Days_Per_Week_Driven                          -0.000983   \n",
       "Vehicle_Age_In_Years                                  -0.041415   \n",
       "Vehicle_Med_Pay_Limit                                 -0.002568   \n",
       "Vehicle_Physical_Damage_Limit                          0.005165   \n",
       "Vehicle_Comprehensive_Coverage_Limit                  -0.000635   \n",
       "Vehicle_Collision_Coverage_Deductible                  0.041880   \n",
       "Driver_Total                                           0.023961   \n",
       "Driver_Total_Male                                     -0.000927   \n",
       "Driver_Total_Female                                    0.016038   \n",
       "Driver_Total_Single                                    0.062129   \n",
       "Driver_Total_Married                                  -0.031645   \n",
       "Driver_Total_Related_To_Insured_Self                   0.001528   \n",
       "Driver_Total_Related_To_Insured_Spouse                -0.012800   \n",
       "Driver_Total_Related_To_Insured_Child                  0.038685   \n",
       "Driver_Total_Licensed_In_State                         0.022428   \n",
       "Driver_Minimum_Age                                    -0.094738   \n",
       "Driver_Maximum_Age                                    -0.088352   \n",
       "Driver_Total_Teenager_Age_15_19                        0.033519   \n",
       "Driver_Total_College_Ages_20_23                        0.067357   \n",
       "Driver_Total_Young_Adult_Ages_24_29                    0.051274   \n",
       "Driver_Total_Low_Middle_Adult_Ages_30_39               0.026992   \n",
       "Driver_Total_Middle_Adult_Ages_40_49                  -0.000779   \n",
       "Driver_Total_Adult_Ages_50_64                         -0.050868   \n",
       "Driver_Total_Senior_Ages_65_69                        -0.025591   \n",
       "Driver_Total_Upper_Senior_Ages_70_plus                -0.026345   \n",
       "Vehicle_Driver_Points                                  1.000000   \n",
       "EEA_Policy_Tenure                                     -0.065833   \n",
       "EEA_PolicyYear                                              NaN   \n",
       "Annual_Premium                                         0.174142   \n",
       "Claim_Count                                            0.033036   \n",
       "Loss_Amount                                            0.012576   \n",
       "Frequency                                              0.011832   \n",
       "Severity                                               0.012087   \n",
       "Loss_Ratio                                             0.001852   \n",
       "\n",
       "                                          EEA_Policy_Tenure  EEA_PolicyYear  \\\n",
       "PolicyNo                                          -0.879130             NaN   \n",
       "Policy_Installment_Term                           -0.061027             NaN   \n",
       "Vehicle_Territory                                  0.021064             NaN   \n",
       "Vehicle_Make_Year                                 -0.045147             NaN   \n",
       "Vehicle_New_Cost_Amount                           -0.017089             NaN   \n",
       "Vehicle_Symbol                                    -0.087711             NaN   \n",
       "Vehicle_Number_Of_Drivers_Assigned                -0.135735             NaN   \n",
       "Vehicle_Miles_To_Work                             -0.024156             NaN   \n",
       "Vehicle_Days_Per_Week_Driven                      -0.005339             NaN   \n",
       "Vehicle_Age_In_Years                               0.031906             NaN   \n",
       "Vehicle_Med_Pay_Limit                              0.032669             NaN   \n",
       "Vehicle_Physical_Damage_Limit                     -0.020851             NaN   \n",
       "Vehicle_Comprehensive_Coverage_Limit              -0.011333             NaN   \n",
       "Vehicle_Collision_Coverage_Deductible             -0.028900             NaN   \n",
       "Driver_Total                                      -0.000414             NaN   \n",
       "Driver_Total_Male                                 -0.005000             NaN   \n",
       "Driver_Total_Female                                0.004729             NaN   \n",
       "Driver_Total_Single                               -0.116886             NaN   \n",
       "Driver_Total_Married                               0.088800             NaN   \n",
       "Driver_Total_Related_To_Insured_Self              -0.016703             NaN   \n",
       "Driver_Total_Related_To_Insured_Spouse             0.038927             NaN   \n",
       "Driver_Total_Related_To_Insured_Child             -0.023337             NaN   \n",
       "Driver_Total_Licensed_In_State                     0.001664             NaN   \n",
       "Driver_Minimum_Age                                 0.310206             NaN   \n",
       "Driver_Maximum_Age                                 0.314235             NaN   \n",
       "Driver_Total_Teenager_Age_15_19                   -0.076642             NaN   \n",
       "Driver_Total_College_Ages_20_23                   -0.064015             NaN   \n",
       "Driver_Total_Young_Adult_Ages_24_29               -0.090580             NaN   \n",
       "Driver_Total_Low_Middle_Adult_Ages_30_39          -0.102716             NaN   \n",
       "Driver_Total_Middle_Adult_Ages_40_49              -0.064877             NaN   \n",
       "Driver_Total_Adult_Ages_50_64                      0.066986             NaN   \n",
       "Driver_Total_Senior_Ages_65_69                     0.069433             NaN   \n",
       "Driver_Total_Upper_Senior_Ages_70_plus             0.256557             NaN   \n",
       "Vehicle_Driver_Points                             -0.065833             NaN   \n",
       "EEA_Policy_Tenure                                  1.000000             NaN   \n",
       "EEA_PolicyYear                                          NaN             NaN   \n",
       "Annual_Premium                                    -0.038026             NaN   \n",
       "Claim_Count                                       -0.025390             NaN   \n",
       "Loss_Amount                                       -0.012197             NaN   \n",
       "Frequency                                         -0.011172             NaN   \n",
       "Severity                                          -0.011654             NaN   \n",
       "Loss_Ratio                                        -0.002588             NaN   \n",
       "\n",
       "                                          Annual_Premium  Claim_Count  \\\n",
       "PolicyNo                                        0.034532     0.027508   \n",
       "Policy_Installment_Term                         0.325114     0.045434   \n",
       "Vehicle_Territory                              -0.034599    -0.013097   \n",
       "Vehicle_Make_Year                               0.541244     0.075605   \n",
       "Vehicle_New_Cost_Amount                         0.049957     0.004213   \n",
       "Vehicle_Symbol                                  0.453452     0.051319   \n",
       "Vehicle_Number_Of_Drivers_Assigned             -0.017216    -0.006816   \n",
       "Vehicle_Miles_To_Work                           0.121913     0.014275   \n",
       "Vehicle_Days_Per_Week_Driven                   -0.000522    -0.003405   \n",
       "Vehicle_Age_In_Years                           -0.547855    -0.062753   \n",
       "Vehicle_Med_Pay_Limit                           0.090252     0.010465   \n",
       "Vehicle_Physical_Damage_Limit                   0.123807     0.002649   \n",
       "Vehicle_Comprehensive_Coverage_Limit            0.057530     0.000857   \n",
       "Vehicle_Collision_Coverage_Deductible           0.571499     0.069329   \n",
       "Driver_Total                                    0.031479     0.003474   \n",
       "Driver_Total_Male                              -0.092607    -0.032653   \n",
       "Driver_Total_Female                             0.112273     0.034777   \n",
       "Driver_Total_Single                             0.123985     0.032017   \n",
       "Driver_Total_Married                           -0.032093    -0.025563   \n",
       "Driver_Total_Related_To_Insured_Self           -0.106928    -0.008072   \n",
       "Driver_Total_Related_To_Insured_Spouse          0.024937    -0.006325   \n",
       "Driver_Total_Related_To_Insured_Child           0.150359     0.020408   \n",
       "Driver_Total_Licensed_In_State                  0.029056     0.003371   \n",
       "Driver_Minimum_Age                             -0.219639    -0.036914   \n",
       "Driver_Maximum_Age                             -0.204030    -0.033280   \n",
       "Driver_Total_Teenager_Age_15_19                 0.145618     0.027637   \n",
       "Driver_Total_College_Ages_20_23                 0.145844     0.015403   \n",
       "Driver_Total_Young_Adult_Ages_24_29             0.063308     0.009625   \n",
       "Driver_Total_Low_Middle_Adult_Ages_30_39        0.025446     0.007569   \n",
       "Driver_Total_Middle_Adult_Ages_40_49           -0.001385     0.002385   \n",
       "Driver_Total_Adult_Ages_50_64                  -0.076715    -0.017070   \n",
       "Driver_Total_Senior_Ages_65_69                 -0.057419    -0.011462   \n",
       "Driver_Total_Upper_Senior_Ages_70_plus         -0.084906    -0.011389   \n",
       "Vehicle_Driver_Points                           0.174142     0.033036   \n",
       "EEA_Policy_Tenure                              -0.038026    -0.025390   \n",
       "EEA_PolicyYear                                       NaN          NaN   \n",
       "Annual_Premium                                  1.000000     0.112574   \n",
       "Claim_Count                                     0.112574     1.000000   \n",
       "Loss_Amount                                     0.032097     0.319414   \n",
       "Frequency                                       0.005338     0.328445   \n",
       "Severity                                        0.029758     0.301207   \n",
       "Loss_Ratio                                     -0.013340     0.092929   \n",
       "\n",
       "                                          Loss_Amount  Frequency  Severity  \\\n",
       "PolicyNo                                     0.014785   0.011559  0.014270   \n",
       "Policy_Installment_Term                      0.015728   0.003594  0.014125   \n",
       "Vehicle_Territory                           -0.005857  -0.005910 -0.005771   \n",
       "Vehicle_Make_Year                            0.027465   0.020062  0.026553   \n",
       "Vehicle_New_Cost_Amount                      0.000749   0.001361  0.000732   \n",
       "Vehicle_Symbol                               0.021756   0.014877  0.020999   \n",
       "Vehicle_Number_Of_Drivers_Assigned          -0.003428  -0.003227 -0.003409   \n",
       "Vehicle_Miles_To_Work                        0.003734   0.005965  0.003602   \n",
       "Vehicle_Days_Per_Week_Driven                -0.001793  -0.000742 -0.001865   \n",
       "Vehicle_Age_In_Years                        -0.028379  -0.012532 -0.027334   \n",
       "Vehicle_Med_Pay_Limit                        0.006681   0.001169  0.006341   \n",
       "Vehicle_Physical_Damage_Limit                0.006070  -0.001031  0.005954   \n",
       "Vehicle_Comprehensive_Coverage_Limit         0.003187  -0.001419  0.003372   \n",
       "Vehicle_Collision_Coverage_Deductible        0.020509   0.017820  0.019806   \n",
       "Driver_Total                                 0.004486   0.000603  0.003963   \n",
       "Driver_Total_Male                           -0.006112  -0.010897 -0.006102   \n",
       "Driver_Total_Female                          0.008930   0.011256  0.008590   \n",
       "Driver_Total_Single                          0.014020   0.016342  0.013479   \n",
       "Driver_Total_Married                        -0.009092  -0.011842 -0.008761   \n",
       "Driver_Total_Related_To_Insured_Self        -0.004917  -0.004927 -0.005237   \n",
       "Driver_Total_Related_To_Insured_Spouse      -0.002404  -0.003633 -0.002051   \n",
       "Driver_Total_Related_To_Insured_Child        0.014927   0.011372  0.014514   \n",
       "Driver_Total_Licensed_In_State               0.004652   0.000591  0.004124   \n",
       "Driver_Minimum_Age                          -0.017122  -0.016698 -0.016478   \n",
       "Driver_Maximum_Age                          -0.015290  -0.015784 -0.014943   \n",
       "Driver_Total_Teenager_Age_15_19              0.019951   0.016517  0.019405   \n",
       "Driver_Total_College_Ages_20_23              0.010002   0.006838  0.009617   \n",
       "Driver_Total_Young_Adult_Ages_24_29          0.001322   0.003315  0.001144   \n",
       "Driver_Total_Low_Middle_Adult_Ages_30_39     0.002144   0.001765  0.001935   \n",
       "Driver_Total_Middle_Adult_Ages_40_49         0.000041   0.002105 -0.000047   \n",
       "Driver_Total_Adult_Ages_50_64               -0.011358  -0.009920 -0.011191   \n",
       "Driver_Total_Senior_Ages_65_69               0.000627  -0.003603  0.000984   \n",
       "Driver_Total_Upper_Senior_Ages_70_plus      -0.001517  -0.004572 -0.001404   \n",
       "Vehicle_Driver_Points                        0.012576   0.011832  0.012087   \n",
       "EEA_Policy_Tenure                           -0.012197  -0.011172 -0.011654   \n",
       "EEA_PolicyYear                                    NaN        NaN       NaN   \n",
       "Annual_Premium                               0.032097   0.005338  0.029758   \n",
       "Claim_Count                                  0.319414   0.328445  0.301207   \n",
       "Loss_Amount                                  1.000000   0.146085  0.993720   \n",
       "Frequency                                    0.146085   1.000000  0.142099   \n",
       "Severity                                     0.993720   0.142099  1.000000   \n",
       "Loss_Ratio                                   0.578532   0.371274  0.585348   \n",
       "\n",
       "                                          Loss_Ratio  \n",
       "PolicyNo                                    0.003051  \n",
       "Policy_Installment_Term                     0.000054  \n",
       "Vehicle_Territory                          -0.003306  \n",
       "Vehicle_Make_Year                           0.002206  \n",
       "Vehicle_New_Cost_Amount                    -0.000493  \n",
       "Vehicle_Symbol                              0.001186  \n",
       "Vehicle_Number_Of_Drivers_Assigned         -0.002467  \n",
       "Vehicle_Miles_To_Work                      -0.001067  \n",
       "Vehicle_Days_Per_Week_Driven                0.000005  \n",
       "Vehicle_Age_In_Years                       -0.001998  \n",
       "Vehicle_Med_Pay_Limit                      -0.000623  \n",
       "Vehicle_Physical_Damage_Limit               0.000646  \n",
       "Vehicle_Comprehensive_Coverage_Limit       -0.000928  \n",
       "Vehicle_Collision_Coverage_Deductible      -0.000816  \n",
       "Driver_Total                                0.005764  \n",
       "Driver_Total_Male                          -0.000209  \n",
       "Driver_Total_Female                         0.003845  \n",
       "Driver_Total_Single                         0.002346  \n",
       "Driver_Total_Married                        0.000652  \n",
       "Driver_Total_Related_To_Insured_Self       -0.000445  \n",
       "Driver_Total_Related_To_Insured_Spouse      0.002180  \n",
       "Driver_Total_Related_To_Insured_Child       0.003962  \n",
       "Driver_Total_Licensed_In_State              0.005730  \n",
       "Driver_Minimum_Age                         -0.001432  \n",
       "Driver_Maximum_Age                         -0.000804  \n",
       "Driver_Total_Teenager_Age_15_19             0.005323  \n",
       "Driver_Total_College_Ages_20_23             0.001619  \n",
       "Driver_Total_Young_Adult_Ages_24_29        -0.001427  \n",
       "Driver_Total_Low_Middle_Adult_Ages_30_39   -0.001474  \n",
       "Driver_Total_Middle_Adult_Ages_40_49        0.000721  \n",
       "Driver_Total_Adult_Ages_50_64              -0.002350  \n",
       "Driver_Total_Senior_Ages_65_69              0.008471  \n",
       "Driver_Total_Upper_Senior_Ages_70_plus      0.000822  \n",
       "Vehicle_Driver_Points                       0.001852  \n",
       "EEA_Policy_Tenure                          -0.002588  \n",
       "EEA_PolicyYear                                   NaN  \n",
       "Annual_Premium                             -0.013340  \n",
       "Claim_Count                                 0.092929  \n",
       "Loss_Amount                                 0.578532  \n",
       "Frequency                                   0.371274  \n",
       "Severity                                    0.585348  \n",
       "Loss_Ratio                                  1.000000  \n",
       "\n",
       "[42 rows x 42 columns]"
      ]
     },
     "execution_count": 10,
     "metadata": {},
     "output_type": "execute_result"
    }
   ],
   "source": [
    "df.corr()"
   ]
  },
  {
   "cell_type": "code",
   "execution_count": 11,
   "metadata": {},
   "outputs": [
    {
     "data": {
      "text/plain": [
       "PolicyNo                                    0.014785\n",
       "Policy_Installment_Term                     0.015728\n",
       "Vehicle_Territory                          -0.005857\n",
       "Vehicle_Make_Year                           0.027465\n",
       "Vehicle_New_Cost_Amount                     0.000749\n",
       "Vehicle_Symbol                              0.021756\n",
       "Vehicle_Number_Of_Drivers_Assigned         -0.003428\n",
       "Vehicle_Miles_To_Work                       0.003734\n",
       "Vehicle_Days_Per_Week_Driven               -0.001793\n",
       "Vehicle_Age_In_Years                       -0.028379\n",
       "Vehicle_Med_Pay_Limit                       0.006681\n",
       "Vehicle_Physical_Damage_Limit               0.006070\n",
       "Vehicle_Comprehensive_Coverage_Limit        0.003187\n",
       "Vehicle_Collision_Coverage_Deductible       0.020509\n",
       "Driver_Total                                0.004486\n",
       "Driver_Total_Male                          -0.006112\n",
       "Driver_Total_Female                         0.008930\n",
       "Driver_Total_Single                         0.014020\n",
       "Driver_Total_Married                       -0.009092\n",
       "Driver_Total_Related_To_Insured_Self       -0.004917\n",
       "Driver_Total_Related_To_Insured_Spouse     -0.002404\n",
       "Driver_Total_Related_To_Insured_Child       0.014927\n",
       "Driver_Total_Licensed_In_State              0.004652\n",
       "Driver_Minimum_Age                         -0.017122\n",
       "Driver_Maximum_Age                         -0.015290\n",
       "Driver_Total_Teenager_Age_15_19             0.019951\n",
       "Driver_Total_College_Ages_20_23             0.010002\n",
       "Driver_Total_Young_Adult_Ages_24_29         0.001322\n",
       "Driver_Total_Low_Middle_Adult_Ages_30_39    0.002144\n",
       "Driver_Total_Middle_Adult_Ages_40_49        0.000041\n",
       "Driver_Total_Adult_Ages_50_64              -0.011358\n",
       "Driver_Total_Senior_Ages_65_69              0.000627\n",
       "Driver_Total_Upper_Senior_Ages_70_plus     -0.001517\n",
       "Vehicle_Driver_Points                       0.012576\n",
       "EEA_Policy_Tenure                          -0.012197\n",
       "EEA_PolicyYear                                   NaN\n",
       "Annual_Premium                              0.032097\n",
       "Claim_Count                                 0.319414\n",
       "Loss_Amount                                 1.000000\n",
       "Frequency                                   0.146085\n",
       "Severity                                    0.993720\n",
       "Loss_Ratio                                  0.578532\n",
       "Name: Loss_Amount, dtype: float64"
      ]
     },
     "execution_count": 11,
     "metadata": {},
     "output_type": "execute_result"
    }
   ],
   "source": [
    "df.corr()['Loss_Amount']"
   ]
  },
  {
   "cell_type": "code",
   "execution_count": 12,
   "metadata": {},
   "outputs": [
    {
     "data": {
      "text/plain": [
       "<AxesSubplot:>"
      ]
     },
     "execution_count": 12,
     "metadata": {},
     "output_type": "execute_result"
    },
    {
     "data": {
      "image/png": "[encoded data removed]",
      "text/plain": [
       "<Figure size 1080x936 with 2 Axes>"
      ]
     },
     "metadata": {
      "needs_background": "light"
     },
     "output_type": "display_data"
    }
   ],
   "source": [
    "f, ax = plt.subplots(figsize =(15, 13)) \n",
    "sns.heatmap(df.corr(), ax = ax, cmap ='Blues', linewidths = 0.5)"
   ]
  },
  {
   "cell_type": "code",
   "execution_count": 13,
   "metadata": {},
   "outputs": [
    {
     "data": {
      "text/html": [
       "        <script type=\"text/javascript\">\n",
       "        window.PlotlyConfig = {MathJaxConfig: 'local'};\n",
       "        if (window.MathJax) {MathJax.Hub.Config({SVG: {font: \"STIX-Web\"}});}\n",
       "        if (typeof require !== 'undefined') {\n",
       "        require.undef(\"plotly\");\n",
       "        requirejs.config({\n",
       "            paths: {\n",
       "                'plotly': ['https://cdn.plot.ly/plotly-latest.min']\n",
       "            }\n",
       "        });\n",
       "        require(['plotly'], function(Plotly) {\n",
       "            window._Plotly = Plotly;\n",
       "        });\n",
       "        }\n",
       "        </script>\n",
       "        "
      ]
     },
     "metadata": {},
     "output_type": "display_data"
    },
    {
     "data": {
      "application/vnd.plotly.v1+json": {
       "config": {
        "linkText": "Export to plot.ly",
        "plotlyServerURL": "https://plot.ly",
        "showLink": false
       },
       "data": [
        {
         "domain": {
          "x": [
           0,
           1
          ]
         },
         "hole": 0.6,
         "labels": [
          0,
          1,
          2,
          3,
          4,
          5
         ],
         "type": "pie",
         "values": [
          405562,
          17912,
          893,
          52,
          11,
          1
         ]
        }
       ],
       "layout": {
        "annotations": [
         {
          "font": {
           "size": 17
          },
          "showarrow": false,
          "text": "Claim",
          "x": 0.5,
          "y": 0.5
         }
        ],
        "template": {
         "data": {
          "bar": [
           {
            "error_x": {
             "color": "#2a3f5f"
            },
            "error_y": {
             "color": "#2a3f5f"
            },
            "marker": {
             "line": {
              "color": "#E5ECF6",
              "width": 0.5
             }
            },
            "type": "bar"
           }
          ],
          "barpolar": [
           {
            "marker": {
             "line": {
              "color": "#E5ECF6",
              "width": 0.5
             }
            },
            "type": "barpolar"
           }
          ],
          "carpet": [
           {
            "aaxis": {
             "endlinecolor": "#2a3f5f",
             "gridcolor": "white",
             "linecolor": "white",
             "minorgridcolor": "white",
             "startlinecolor": "#2a3f5f"
            },
            "baxis": {
             "endlinecolor": "#2a3f5f",
             "gridcolor": "white",
             "linecolor": "white",
             "minorgridcolor": "white",
             "startlinecolor": "#2a3f5f"
            },
            "type": "carpet"
           }
          ],
          "choropleth": [
           {
            "colorbar": {
             "outlinewidth": 0,
             "ticks": ""
            },
            "type": "choropleth"
           }
          ],
          "contour": [
           {
            "colorbar": {
             "outlinewidth": 0,
             "ticks": ""
            },
            "colorscale": [
             [
              0,
              "#0d0887"
             ],
             [
              0.1111111111111111,
              "#46039f"
             ],
             [
              0.2222222222222222,
              "#7201a8"
             ],
             [
              0.3333333333333333,
              "#9c179e"
             ],
             [
              0.4444444444444444,
              "#bd3786"
             ],
             [
              0.5555555555555556,
              "#d8576b"
             ],
             [
              0.6666666666666666,
              "#ed7953"
             ],
             [
              0.7777777777777778,
              "#fb9f3a"
             ],
             [
              0.8888888888888888,
              "#fdca26"
             ],
             [
              1,
              "#f0f921"
             ]
            ],
            "type": "contour"
           }
          ],
          "contourcarpet": [
           {
            "colorbar": {
             "outlinewidth": 0,
             "ticks": ""
            },
            "type": "contourcarpet"
           }
          ],
          "heatmap": [
           {
            "colorbar": {
             "outlinewidth": 0,
             "ticks": ""
            },
            "colorscale": [
             [
              0,
              "#0d0887"
             ],
             [
              0.1111111111111111,
              "#46039f"
             ],
             [
              0.2222222222222222,
              "#7201a8"
             ],
             [
              0.3333333333333333,
              "#9c179e"
             ],
             [
              0.4444444444444444,
              "#bd3786"
             ],
             [
              0.5555555555555556,
              "#d8576b"
             ],
             [
              0.6666666666666666,
              "#ed7953"
             ],
             [
              0.7777777777777778,
              "#fb9f3a"
             ],
             [
              0.8888888888888888,
              "#fdca26"
             ],
             [
              1,
              "#f0f921"
             ]
            ],
            "type": "heatmap"
           }
          ],
          "heatmapgl": [
           {
            "colorbar": {
             "outlinewidth": 0,
             "ticks": ""
            },
            "colorscale": [
             [
              0,
              "#0d0887"
             ],
             [
              0.1111111111111111,
              "#46039f"
             ],
             [
              0.2222222222222222,
              "#7201a8"
             ],
             [
              0.3333333333333333,
              "#9c179e"
             ],
             [
              0.4444444444444444,
              "#bd3786"
             ],
             [
              0.5555555555555556,
              "#d8576b"
             ],
             [
              0.6666666666666666,
              "#ed7953"
             ],
             [
              0.7777777777777778,
              "#fb9f3a"
             ],
             [
              0.8888888888888888,
              "#fdca26"
             ],
             [
              1,
              "#f0f921"
             ]
            ],
            "type": "heatmapgl"
           }
          ],
          "histogram": [
           {
            "marker": {
             "colorbar": {
              "outlinewidth": 0,
              "ticks": ""
             }
            },
            "type": "histogram"
           }
          ],
          "histogram2d": [
           {
            "colorbar": {
             "outlinewidth": 0,
             "ticks": ""
            },
            "colorscale": [
             [
              0,
              "#0d0887"
             ],
             [
              0.1111111111111111,
              "#46039f"
             ],
             [
              0.2222222222222222,
              "#7201a8"
             ],
             [
              0.3333333333333333,
              "#9c179e"
             ],
             [
              0.4444444444444444,
              "#bd3786"
             ],
             [
              0.5555555555555556,
              "#d8576b"
             ],
             [
              0.6666666666666666,
              "#ed7953"
             ],
             [
              0.7777777777777778,
              "#fb9f3a"
             ],
             [
              0.8888888888888888,
              "#fdca26"
             ],
             [
              1,
              "#f0f921"
             ]
            ],
            "type": "histogram2d"
           }
          ],
          "histogram2dcontour": [
           {
            "colorbar": {
             "outlinewidth": 0,
             "ticks": ""
            },
            "colorscale": [
             [
              0,
              "#0d0887"
             ],
             [
              0.1111111111111111,
              "#46039f"
             ],
             [
              0.2222222222222222,
              "#7201a8"
             ],
             [
              0.3333333333333333,
              "#9c179e"
             ],
             [
              0.4444444444444444,
              "#bd3786"
             ],
             [
              0.5555555555555556,
              "#d8576b"
             ],
             [
              0.6666666666666666,
              "#ed7953"
             ],
             [
              0.7777777777777778,
              "#fb9f3a"
             ],
             [
              0.8888888888888888,
              "#fdca26"
             ],
             [
              1,
              "#f0f921"
             ]
            ],
            "type": "histogram2dcontour"
           }
          ],
          "mesh3d": [
           {
            "colorbar": {
             "outlinewidth": 0,
             "ticks": ""
            },
            "type": "mesh3d"
           }
          ],
          "parcoords": [
           {
            "line": {
             "colorbar": {
              "outlinewidth": 0,
              "ticks": ""
             }
            },
            "type": "parcoords"
           }
          ],
          "pie": [
           {
            "automargin": true,
            "type": "pie"
           }
          ],
          "scatter": [
           {
            "marker": {
             "colorbar": {
              "outlinewidth": 0,
              "ticks": ""
             }
            },
            "type": "scatter"
           }
          ],
          "scatter3d": [
           {
            "line": {
             "colorbar": {
              "outlinewidth": 0,
              "ticks": ""
             }
            },
            "marker": {
             "colorbar": {
              "outlinewidth": 0,
              "ticks": ""
             }
            },
            "type": "scatter3d"
           }
          ],
          "scattercarpet": [
           {
            "marker": {
             "colorbar": {
              "outlinewidth": 0,
              "ticks": ""
             }
            },
            "type": "scattercarpet"
           }
          ],
          "scattergeo": [
           {
            "marker": {
             "colorbar": {
              "outlinewidth": 0,
              "ticks": ""
             }
            },
            "type": "scattergeo"
           }
          ],
          "scattergl": [
           {
            "marker": {
             "colorbar": {
              "outlinewidth": 0,
              "ticks": ""
             }
            },
            "type": "scattergl"
           }
          ],
          "scattermapbox": [
           {
            "marker": {
             "colorbar": {
              "outlinewidth": 0,
              "ticks": ""
             }
            },
            "type": "scattermapbox"
           }
          ],
          "scatterpolar": [
           {
            "marker": {
             "colorbar": {
              "outlinewidth": 0,
              "ticks": ""
             }
            },
            "type": "scatterpolar"
           }
          ],
          "scatterpolargl": [
           {
            "marker": {
             "colorbar": {
              "outlinewidth": 0,
              "ticks": ""
             }
            },
            "type": "scatterpolargl"
           }
          ],
          "scatterternary": [
           {
            "marker": {
             "colorbar": {
              "outlinewidth": 0,
              "ticks": ""
             }
            },
            "type": "scatterternary"
           }
          ],
          "surface": [
           {
            "colorbar": {
             "outlinewidth": 0,
             "ticks": ""
            },
            "colorscale": [
             [
              0,
              "#0d0887"
             ],
             [
              0.1111111111111111,
              "#46039f"
             ],
             [
              0.2222222222222222,
              "#7201a8"
             ],
             [
              0.3333333333333333,
              "#9c179e"
             ],
             [
              0.4444444444444444,
              "#bd3786"
             ],
             [
              0.5555555555555556,
              "#d8576b"
             ],
             [
              0.6666666666666666,
              "#ed7953"
             ],
             [
              0.7777777777777778,
              "#fb9f3a"
             ],
             [
              0.8888888888888888,
              "#fdca26"
             ],
             [
              1,
              "#f0f921"
             ]
            ],
            "type": "surface"
           }
          ],
          "table": [
           {
            "cells": {
             "fill": {
              "color": "#EBF0F8"
             },
             "line": {
              "color": "white"
             }
            },
            "header": {
             "fill": {
              "color": "#C8D4E3"
             },
             "line": {
              "color": "white"
             }
            },
            "type": "table"
           }
          ]
         },
         "layout": {
          "annotationdefaults": {
           "arrowcolor": "#2a3f5f",
           "arrowhead": 0,
           "arrowwidth": 1
          },
          "coloraxis": {
           "colorbar": {
            "outlinewidth": 0,
            "ticks": ""
           }
          },
          "colorscale": {
           "diverging": [
            [
             0,
             "#8e0152"
            ],
            [
             0.1,
             "#c51b7d"
            ],
            [
             0.2,
             "#de77ae"
            ],
            [
             0.3,
             "#f1b6da"
            ],
            [
             0.4,
             "#fde0ef"
            ],
            [
             0.5,
             "#f7f7f7"
            ],
            [
             0.6,
             "#e6f5d0"
            ],
            [
             0.7,
             "#b8e186"
            ],
            [
             0.8,
             "#7fbc41"
            ],
            [
             0.9,
             "#4d9221"
            ],
            [
             1,
             "#276419"
            ]
           ],
           "sequential": [
            [
             0,
             "#0d0887"
            ],
            [
             0.1111111111111111,
             "#46039f"
            ],
            [
             0.2222222222222222,
             "#7201a8"
            ],
            [
             0.3333333333333333,
             "#9c179e"
            ],
            [
             0.4444444444444444,
             "#bd3786"
            ],
            [
             0.5555555555555556,
             "#d8576b"
            ],
            [
             0.6666666666666666,
             "#ed7953"
            ],
            [
             0.7777777777777778,
             "#fb9f3a"
            ],
            [
             0.8888888888888888,
             "#fdca26"
            ],
            [
             1,
             "#f0f921"
            ]
           ],
           "sequentialminus": [
            [
             0,
             "#0d0887"
            ],
            [
             0.1111111111111111,
             "#46039f"
            ],
            [
             0.2222222222222222,
             "#7201a8"
            ],
            [
             0.3333333333333333,
             "#9c179e"
            ],
            [
             0.4444444444444444,
             "#bd3786"
            ],
            [
             0.5555555555555556,
             "#d8576b"
            ],
            [
             0.6666666666666666,
             "#ed7953"
            ],
            [
             0.7777777777777778,
             "#fb9f3a"
            ],
            [
             0.8888888888888888,
             "#fdca26"
            ],
            [
             1,
             "#f0f921"
            ]
           ]
          },
          "colorway": [
           "#636efa",
           "#EF553B",
           "#00cc96",
           "#ab63fa",
           "#FFA15A",
           "#19d3f3",
           "#FF6692",
           "#B6E880",
           "#FF97FF",
           "#FECB52"
          ],
          "font": {
           "color": "#2a3f5f"
          },
          "geo": {
           "bgcolor": "white",
           "lakecolor": "white",
           "landcolor": "#E5ECF6",
           "showlakes": true,
           "showland": true,
           "subunitcolor": "white"
          },
          "hoverlabel": {
           "align": "left"
          },
          "hovermode": "closest",
          "mapbox": {
           "style": "light"
          },
          "paper_bgcolor": "white",
          "plot_bgcolor": "#E5ECF6",
          "polar": {
           "angularaxis": {
            "gridcolor": "white",
            "linecolor": "white",
            "ticks": ""
           },
           "bgcolor": "#E5ECF6",
           "radialaxis": {
            "gridcolor": "white",
            "linecolor": "white",
            "ticks": ""
           }
          },
          "scene": {
           "xaxis": {
            "backgroundcolor": "#E5ECF6",
            "gridcolor": "white",
            "gridwidth": 2,
            "linecolor": "white",
            "showbackground": true,
            "ticks": "",
            "zerolinecolor": "white"
           },
           "yaxis": {
            "backgroundcolor": "#E5ECF6",
            "gridcolor": "white",
            "gridwidth": 2,
            "linecolor": "white",
            "showbackground": true,
            "ticks": "",
            "zerolinecolor": "white"
           },
           "zaxis": {
            "backgroundcolor": "#E5ECF6",
            "gridcolor": "white",
            "gridwidth": 2,
            "linecolor": "white",
            "showbackground": true,
            "ticks": "",
            "zerolinecolor": "white"
           }
          },
          "shapedefaults": {
           "line": {
            "color": "#2a3f5f"
           }
          },
          "ternary": {
           "aaxis": {
            "gridcolor": "white",
            "linecolor": "white",
            "ticks": ""
           },
           "baxis": {
            "gridcolor": "white",
            "linecolor": "white",
            "ticks": ""
           },
           "bgcolor": "#E5ECF6",
           "caxis": {
            "gridcolor": "white",
            "linecolor": "white",
            "ticks": ""
           }
          },
          "title": {
           "x": 0.05
          },
          "xaxis": {
           "automargin": true,
           "gridcolor": "white",
           "linecolor": "white",
           "ticks": "",
           "title": {
            "standoff": 15
           },
           "zerolinecolor": "white",
           "zerolinewidth": 2
          },
          "yaxis": {
           "automargin": true,
           "gridcolor": "white",
           "linecolor": "white",
           "ticks": "",
           "title": {
            "standoff": 15
           },
           "zerolinecolor": "white",
           "zerolinewidth": 2
          }
         }
        },
        "title": {
         "text": "Claim Count"
        }
       }
      },
      "text/html": [
       "<div>\n",
       "        \n",
       "        \n",
       "            <div id=\"23161761-7616-44d0-a269-47003a0942d4\" class=\"plotly-graph-div\" style=\"height:525px; width:100%;\"></div>\n",
       "            <script type=\"text/javascript\">\n",
       "                require([\"plotly\"], function(Plotly) {\n",
       "                    window.PLOTLYENV=window.PLOTLYENV || {};\n",
       "                    \n",
       "                if (document.getElementById(\"23161761-7616-44d0-a269-47003a0942d4\")) {\n",
       "                    Plotly.newPlot(\n",
       "                        '23161761-7616-44d0-a269-47003a0942d4',\n",
       "                        [{\"domain\": {\"x\": [0, 1]}, \"hole\": 0.6, \"labels\": [0, 1, 2, 3, 4, 5], \"type\": \"pie\", \"values\": [405562, 17912, 893, 52, 11, 1]}],\n",
       "                        {\"annotations\": [{\"font\": {\"size\": 17}, \"showarrow\": false, \"text\": \"Claim\", \"x\": 0.5, \"y\": 0.5}], \"template\": {\"data\": {\"bar\": [{\"error_x\": {\"color\": \"#2a3f5f\"}, \"error_y\": {\"color\": \"#2a3f5f\"}, \"marker\": {\"line\": {\"color\": \"#E5ECF6\", \"width\": 0.5}}, \"type\": \"bar\"}], \"barpolar\": [{\"marker\": {\"line\": {\"color\": \"#E5ECF6\", \"width\": 0.5}}, \"type\": \"barpolar\"}], \"carpet\": [{\"aaxis\": {\"endlinecolor\": \"#2a3f5f\", \"gridcolor\": \"white\", \"linecolor\": \"white\", \"minorgridcolor\": \"white\", \"startlinecolor\": \"#2a3f5f\"}, \"baxis\": {\"endlinecolor\": \"#2a3f5f\", \"gridcolor\": \"white\", \"linecolor\": \"white\", \"minorgridcolor\": \"white\", \"startlinecolor\": \"#2a3f5f\"}, \"type\": \"carpet\"}], \"choropleth\": [{\"colorbar\": {\"outlinewidth\": 0, \"ticks\": \"\"}, \"type\": \"choropleth\"}], \"contour\": [{\"colorbar\": {\"outlinewidth\": 0, \"ticks\": \"\"}, \"colorscale\": [[0.0, \"#0d0887\"], [0.1111111111111111, \"#46039f\"], [0.2222222222222222, \"#7201a8\"], [0.3333333333333333, \"#9c179e\"], [0.4444444444444444, \"#bd3786\"], [0.5555555555555556, \"#d8576b\"], [0.6666666666666666, \"#ed7953\"], [0.7777777777777778, \"#fb9f3a\"], [0.8888888888888888, \"#fdca26\"], [1.0, \"#f0f921\"]], \"type\": \"contour\"}], \"contourcarpet\": [{\"colorbar\": {\"outlinewidth\": 0, \"ticks\": \"\"}, \"type\": \"contourcarpet\"}], \"heatmap\": [{\"colorbar\": {\"outlinewidth\": 0, \"ticks\": \"\"}, \"colorscale\": [[0.0, \"#0d0887\"], [0.1111111111111111, \"#46039f\"], [0.2222222222222222, \"#7201a8\"], [0.3333333333333333, \"#9c179e\"], [0.4444444444444444, \"#bd3786\"], [0.5555555555555556, \"#d8576b\"], [0.6666666666666666, \"#ed7953\"], [0.7777777777777778, \"#fb9f3a\"], [0.8888888888888888, \"#fdca26\"], [1.0, \"#f0f921\"]], \"type\": \"heatmap\"}], \"heatmapgl\": [{\"colorbar\": {\"outlinewidth\": 0, \"ticks\": \"\"}, \"colorscale\": [[0.0, \"#0d0887\"], [0.1111111111111111, \"#46039f\"], [0.2222222222222222, \"#7201a8\"], [0.3333333333333333, \"#9c179e\"], [0.4444444444444444, \"#bd3786\"], [0.5555555555555556, \"#d8576b\"], [0.6666666666666666, \"#ed7953\"], [0.7777777777777778, \"#fb9f3a\"], [0.8888888888888888, \"#fdca26\"], [1.0, \"#f0f921\"]], \"type\": \"heatmapgl\"}], \"histogram\": [{\"marker\": {\"colorbar\": {\"outlinewidth\": 0, \"ticks\": \"\"}}, \"type\": \"histogram\"}], \"histogram2d\": [{\"colorbar\": {\"outlinewidth\": 0, \"ticks\": \"\"}, \"colorscale\": [[0.0, \"#0d0887\"], [0.1111111111111111, \"#46039f\"], [0.2222222222222222, \"#7201a8\"], [0.3333333333333333, \"#9c179e\"], [0.4444444444444444, \"#bd3786\"], [0.5555555555555556, \"#d8576b\"], [0.6666666666666666, \"#ed7953\"], [0.7777777777777778, \"#fb9f3a\"], [0.8888888888888888, \"#fdca26\"], [1.0, \"#f0f921\"]], \"type\": \"histogram2d\"}], \"histogram2dcontour\": [{\"colorbar\": {\"outlinewidth\": 0, \"ticks\": \"\"}, \"colorscale\": [[0.0, \"#0d0887\"], [0.1111111111111111, \"#46039f\"], [0.2222222222222222, \"#7201a8\"], [0.3333333333333333, \"#9c179e\"], [0.4444444444444444, \"#bd3786\"], [0.5555555555555556, \"#d8576b\"], [0.6666666666666666, \"#ed7953\"], [0.7777777777777778, \"#fb9f3a\"], [0.8888888888888888, \"#fdca26\"], [1.0, \"#f0f921\"]], \"type\": \"histogram2dcontour\"}], \"mesh3d\": [{\"colorbar\": {\"outlinewidth\": 0, \"ticks\": \"\"}, \"type\": \"mesh3d\"}], \"parcoords\": [{\"line\": {\"colorbar\": {\"outlinewidth\": 0, \"ticks\": \"\"}}, \"type\": \"parcoords\"}], \"pie\": [{\"automargin\": true, \"type\": \"pie\"}], \"scatter\": [{\"marker\": {\"colorbar\": {\"outlinewidth\": 0, \"ticks\": \"\"}}, \"type\": \"scatter\"}], \"scatter3d\": [{\"line\": {\"colorbar\": {\"outlinewidth\": 0, \"ticks\": \"\"}}, \"marker\": {\"colorbar\": {\"outlinewidth\": 0, \"ticks\": \"\"}}, \"type\": \"scatter3d\"}], \"scattercarpet\": [{\"marker\": {\"colorbar\": {\"outlinewidth\": 0, \"ticks\": \"\"}}, \"type\": \"scattercarpet\"}], \"scattergeo\": [{\"marker\": {\"colorbar\": {\"outlinewidth\": 0, \"ticks\": \"\"}}, \"type\": \"scattergeo\"}], \"scattergl\": [{\"marker\": {\"colorbar\": {\"outlinewidth\": 0, \"ticks\": \"\"}}, \"type\": \"scattergl\"}], \"scattermapbox\": [{\"marker\": {\"colorbar\": {\"outlinewidth\": 0, \"ticks\": \"\"}}, \"type\": \"scattermapbox\"}], \"scatterpolar\": [{\"marker\": {\"colorbar\": {\"outlinewidth\": 0, \"ticks\": \"\"}}, \"type\": \"scatterpolar\"}], \"scatterpolargl\": [{\"marker\": {\"colorbar\": {\"outlinewidth\": 0, \"ticks\": \"\"}}, \"type\": \"scatterpolargl\"}], \"scatterternary\": [{\"marker\": {\"colorbar\": {\"outlinewidth\": 0, \"ticks\": \"\"}}, \"type\": \"scatterternary\"}], \"surface\": [{\"colorbar\": {\"outlinewidth\": 0, \"ticks\": \"\"}, \"colorscale\": [[0.0, \"#0d0887\"], [0.1111111111111111, \"#46039f\"], [0.2222222222222222, \"#7201a8\"], [0.3333333333333333, \"#9c179e\"], [0.4444444444444444, \"#bd3786\"], [0.5555555555555556, \"#d8576b\"], [0.6666666666666666, \"#ed7953\"], [0.7777777777777778, \"#fb9f3a\"], [0.8888888888888888, \"#fdca26\"], [1.0, \"#f0f921\"]], \"type\": \"surface\"}], \"table\": [{\"cells\": {\"fill\": {\"color\": \"#EBF0F8\"}, \"line\": {\"color\": \"white\"}}, \"header\": {\"fill\": {\"color\": \"#C8D4E3\"}, \"line\": {\"color\": \"white\"}}, \"type\": \"table\"}]}, \"layout\": {\"annotationdefaults\": {\"arrowcolor\": \"#2a3f5f\", \"arrowhead\": 0, \"arrowwidth\": 1}, \"coloraxis\": {\"colorbar\": {\"outlinewidth\": 0, \"ticks\": \"\"}}, \"colorscale\": {\"diverging\": [[0, \"#8e0152\"], [0.1, \"#c51b7d\"], [0.2, \"#de77ae\"], [0.3, \"#f1b6da\"], [0.4, \"#fde0ef\"], [0.5, \"#f7f7f7\"], [0.6, \"#e6f5d0\"], [0.7, \"#b8e186\"], [0.8, \"#7fbc41\"], [0.9, \"#4d9221\"], [1, \"#276419\"]], \"sequential\": [[0.0, \"#0d0887\"], [0.1111111111111111, \"#46039f\"], [0.2222222222222222, \"#7201a8\"], [0.3333333333333333, \"#9c179e\"], [0.4444444444444444, \"#bd3786\"], [0.5555555555555556, \"#d8576b\"], [0.6666666666666666, \"#ed7953\"], [0.7777777777777778, \"#fb9f3a\"], [0.8888888888888888, \"#fdca26\"], [1.0, \"#f0f921\"]], \"sequentialminus\": [[0.0, \"#0d0887\"], [0.1111111111111111, \"#46039f\"], [0.2222222222222222, \"#7201a8\"], [0.3333333333333333, \"#9c179e\"], [0.4444444444444444, \"#bd3786\"], [0.5555555555555556, \"#d8576b\"], [0.6666666666666666, \"#ed7953\"], [0.7777777777777778, \"#fb9f3a\"], [0.8888888888888888, \"#fdca26\"], [1.0, \"#f0f921\"]]}, \"colorway\": [\"#636efa\", \"#EF553B\", \"#00cc96\", \"#ab63fa\", \"#FFA15A\", \"#19d3f3\", \"#FF6692\", \"#B6E880\", \"#FF97FF\", \"#FECB52\"], \"font\": {\"color\": \"#2a3f5f\"}, \"geo\": {\"bgcolor\": \"white\", \"lakecolor\": \"white\", \"landcolor\": \"#E5ECF6\", \"showlakes\": true, \"showland\": true, \"subunitcolor\": \"white\"}, \"hoverlabel\": {\"align\": \"left\"}, \"hovermode\": \"closest\", \"mapbox\": {\"style\": \"light\"}, \"paper_bgcolor\": \"white\", \"plot_bgcolor\": \"#E5ECF6\", \"polar\": {\"angularaxis\": {\"gridcolor\": \"white\", \"linecolor\": \"white\", \"ticks\": \"\"}, \"bgcolor\": \"#E5ECF6\", \"radialaxis\": {\"gridcolor\": \"white\", \"linecolor\": \"white\", \"ticks\": \"\"}}, \"scene\": {\"xaxis\": {\"backgroundcolor\": \"#E5ECF6\", \"gridcolor\": \"white\", \"gridwidth\": 2, \"linecolor\": \"white\", \"showbackground\": true, \"ticks\": \"\", \"zerolinecolor\": \"white\"}, \"yaxis\": {\"backgroundcolor\": \"#E5ECF6\", \"gridcolor\": \"white\", \"gridwidth\": 2, \"linecolor\": \"white\", \"showbackground\": true, \"ticks\": \"\", \"zerolinecolor\": \"white\"}, \"zaxis\": {\"backgroundcolor\": \"#E5ECF6\", \"gridcolor\": \"white\", \"gridwidth\": 2, \"linecolor\": \"white\", \"showbackground\": true, \"ticks\": \"\", \"zerolinecolor\": \"white\"}}, \"shapedefaults\": {\"line\": {\"color\": \"#2a3f5f\"}}, \"ternary\": {\"aaxis\": {\"gridcolor\": \"white\", \"linecolor\": \"white\", \"ticks\": \"\"}, \"baxis\": {\"gridcolor\": \"white\", \"linecolor\": \"white\", \"ticks\": \"\"}, \"bgcolor\": \"#E5ECF6\", \"caxis\": {\"gridcolor\": \"white\", \"linecolor\": \"white\", \"ticks\": \"\"}}, \"title\": {\"x\": 0.05}, \"xaxis\": {\"automargin\": true, \"gridcolor\": \"white\", \"linecolor\": \"white\", \"ticks\": \"\", \"title\": {\"standoff\": 15}, \"zerolinecolor\": \"white\", \"zerolinewidth\": 2}, \"yaxis\": {\"automargin\": true, \"gridcolor\": \"white\", \"linecolor\": \"white\", \"ticks\": \"\", \"title\": {\"standoff\": 15}, \"zerolinecolor\": \"white\", \"zerolinewidth\": 2}}}, \"title\": {\"text\": \"Claim Count\"}},\n",
       "                        {\"responsive\": true}\n",
       "                    ).then(function(){\n",
       "                            \n",
       "var gd = document.getElementById('23161761-7616-44d0-a269-47003a0942d4');\n",
       "var x = new MutationObserver(function (mutations, observer) {{\n",
       "        var display = window.getComputedStyle(gd).display;\n",
       "        if (!display || display === 'none') {{\n",
       "            console.log([gd, 'removed!']);\n",
       "            Plotly.purge(gd);\n",
       "            observer.disconnect();\n",
       "        }}\n",
       "}});\n",
       "\n",
       "// Listen for the removal of the full notebook cells\n",
       "var notebookContainer = gd.closest('#notebook-container');\n",
       "if (notebookContainer) {{\n",
       "    x.observe(notebookContainer, {childList: true});\n",
       "}}\n",
       "\n",
       "// Listen for the clearing of the current output cell\n",
       "var outputEl = gd.closest('.output');\n",
       "if (outputEl) {{\n",
       "    x.observe(outputEl, {childList: true});\n",
       "}}\n",
       "\n",
       "                        })\n",
       "                };\n",
       "                });\n",
       "            </script>\n",
       "        </div>"
      ]
     },
     "metadata": {},
     "output_type": "display_data"
    }
   ],
   "source": [
    "from plotly.offline  import download_plotlyjs,init_notebook_mode,plot, iplot\n",
    "from plotly.offline import init_notebook_mode, iplot\n",
    "init_notebook_mode(connected=True)\n",
    "temp = df.Claim_Count.value_counts()\n",
    "#temp = df.Claim_Count.apply(lambda i:1 if i>0 else 0).value_counts()\n",
    "fig = {\n",
    "  \"data\": [\n",
    "    {\n",
    "      \"values\": temp.values,\n",
    "      \"labels\": temp.index,\n",
    "      \"domain\": {\"x\": [0, 1]},\n",
    "      \"hole\": .6,\n",
    "      \"type\": \"pie\"\n",
    "    },\n",
    "    \n",
    "    ],\n",
    "  \"layout\": {\n",
    "        \"title\":\"Claim Count\",\n",
    "        \"annotations\": [\n",
    "            {\n",
    "                \"font\": {\n",
    "                    \"size\": 17\n",
    "                },\n",
    "                \"showarrow\": False,\n",
    "                \"text\": \"Claim\",\n",
    "                \"x\": 0.5,\n",
    "                \"y\": 0.5\n",
    "            }\n",
    "            \n",
    "        ]\n",
    "    }\n",
    "}\n",
    "iplot(fig, filename='donut')"
   ]
  },
  {
   "cell_type": "code",
   "execution_count": 14,
   "metadata": {},
   "outputs": [
    {
     "data": {
      "text/html": [
       "        <script type=\"text/javascript\">\n",
       "        window.PlotlyConfig = {MathJaxConfig: 'local'};\n",
       "        if (window.MathJax) {MathJax.Hub.Config({SVG: {font: \"STIX-Web\"}});}\n",
       "        if (typeof require !== 'undefined') {\n",
       "        require.undef(\"plotly\");\n",
       "        requirejs.config({\n",
       "            paths: {\n",
       "                'plotly': ['https://cdn.plot.ly/plotly-latest.min']\n",
       "            }\n",
       "        });\n",
       "        require(['plotly'], function(Plotly) {\n",
       "            window._Plotly = Plotly;\n",
       "        });\n",
       "        }\n",
       "        </script>\n",
       "        "
      ]
     },
     "metadata": {},
     "output_type": "display_data"
    },
    {
     "data": {
      "application/vnd.plotly.v1+json": {
       "config": {
        "linkText": "Export to plot.ly",
        "plotlyServerURL": "https://plot.ly",
        "showLink": false
       },
       "data": [
        {
         "domain": {
          "x": [
           0,
           1
          ]
         },
         "hole": 0.6,
         "labels": [
          "Not Applicable",
          "Passive Disabling-Vehicle Recovery",
          "Alarm Only",
          "Active Disabling",
          "Unknown"
         ],
         "type": "pie",
         "values": [
          248634,
          133362,
          31852,
          10578,
          5
         ]
        }
       ],
       "layout": {
        "annotations": [
         {
          "font": {
           "size": 17
          },
          "showarrow": false,
          "text": "VATD",
          "x": 0.5,
          "y": 0.5
         }
        ],
        "template": {
         "data": {
          "bar": [
           {
            "error_x": {
             "color": "#2a3f5f"
            },
            "error_y": {
             "color": "#2a3f5f"
            },
            "marker": {
             "line": {
              "color": "#E5ECF6",
              "width": 0.5
             }
            },
            "type": "bar"
           }
          ],
          "barpolar": [
           {
            "marker": {
             "line": {
              "color": "#E5ECF6",
              "width": 0.5
             }
            },
            "type": "barpolar"
           }
          ],
          "carpet": [
           {
            "aaxis": {
             "endlinecolor": "#2a3f5f",
             "gridcolor": "white",
             "linecolor": "white",
             "minorgridcolor": "white",
             "startlinecolor": "#2a3f5f"
            },
            "baxis": {
             "endlinecolor": "#2a3f5f",
             "gridcolor": "white",
             "linecolor": "white",
             "minorgridcolor": "white",
             "startlinecolor": "#2a3f5f"
            },
            "type": "carpet"
           }
          ],
          "choropleth": [
           {
            "colorbar": {
             "outlinewidth": 0,
             "ticks": ""
            },
            "type": "choropleth"
           }
          ],
          "contour": [
           {
            "colorbar": {
             "outlinewidth": 0,
             "ticks": ""
            },
            "colorscale": [
             [
              0,
              "#0d0887"
             ],
             [
              0.1111111111111111,
              "#46039f"
             ],
             [
              0.2222222222222222,
              "#7201a8"
             ],
             [
              0.3333333333333333,
              "#9c179e"
             ],
             [
              0.4444444444444444,
              "#bd3786"
             ],
             [
              0.5555555555555556,
              "#d8576b"
             ],
             [
              0.6666666666666666,
              "#ed7953"
             ],
             [
              0.7777777777777778,
              "#fb9f3a"
             ],
             [
              0.8888888888888888,
              "#fdca26"
             ],
             [
              1,
              "#f0f921"
             ]
            ],
            "type": "contour"
           }
          ],
          "contourcarpet": [
           {
            "colorbar": {
             "outlinewidth": 0,
             "ticks": ""
            },
            "type": "contourcarpet"
           }
          ],
          "heatmap": [
           {
            "colorbar": {
             "outlinewidth": 0,
             "ticks": ""
            },
            "colorscale": [
             [
              0,
              "#0d0887"
             ],
             [
              0.1111111111111111,
              "#46039f"
             ],
             [
              0.2222222222222222,
              "#7201a8"
             ],
             [
              0.3333333333333333,
              "#9c179e"
             ],
             [
              0.4444444444444444,
              "#bd3786"
             ],
             [
              0.5555555555555556,
              "#d8576b"
             ],
             [
              0.6666666666666666,
              "#ed7953"
             ],
             [
              0.7777777777777778,
              "#fb9f3a"
             ],
             [
              0.8888888888888888,
              "#fdca26"
             ],
             [
              1,
              "#f0f921"
             ]
            ],
            "type": "heatmap"
           }
          ],
          "heatmapgl": [
           {
            "colorbar": {
             "outlinewidth": 0,
             "ticks": ""
            },
            "colorscale": [
             [
              0,
              "#0d0887"
             ],
             [
              0.1111111111111111,
              "#46039f"
             ],
             [
              0.2222222222222222,
              "#7201a8"
             ],
             [
              0.3333333333333333,
              "#9c179e"
             ],
             [
              0.4444444444444444,
              "#bd3786"
             ],
             [
              0.5555555555555556,
              "#d8576b"
             ],
             [
              0.6666666666666666,
              "#ed7953"
             ],
             [
              0.7777777777777778,
              "#fb9f3a"
             ],
             [
              0.8888888888888888,
              "#fdca26"
             ],
             [
              1,
              "#f0f921"
             ]
            ],
            "type": "heatmapgl"
           }
          ],
          "histogram": [
           {
            "marker": {
             "colorbar": {
              "outlinewidth": 0,
              "ticks": ""
             }
            },
            "type": "histogram"
           }
          ],
          "histogram2d": [
           {
            "colorbar": {
             "outlinewidth": 0,
             "ticks": ""
            },
            "colorscale": [
             [
              0,
              "#0d0887"
             ],
             [
              0.1111111111111111,
              "#46039f"
             ],
             [
              0.2222222222222222,
              "#7201a8"
             ],
             [
              0.3333333333333333,
              "#9c179e"
             ],
             [
              0.4444444444444444,
              "#bd3786"
             ],
             [
              0.5555555555555556,
              "#d8576b"
             ],
             [
              0.6666666666666666,
              "#ed7953"
             ],
             [
              0.7777777777777778,
              "#fb9f3a"
             ],
             [
              0.8888888888888888,
              "#fdca26"
             ],
             [
              1,
              "#f0f921"
             ]
            ],
            "type": "histogram2d"
           }
          ],
          "histogram2dcontour": [
           {
            "colorbar": {
             "outlinewidth": 0,
             "ticks": ""
            },
            "colorscale": [
             [
              0,
              "#0d0887"
             ],
             [
              0.1111111111111111,
              "#46039f"
             ],
             [
              0.2222222222222222,
              "#7201a8"
             ],
             [
              0.3333333333333333,
              "#9c179e"
             ],
             [
              0.4444444444444444,
              "#bd3786"
             ],
             [
              0.5555555555555556,
              "#d8576b"
             ],
             [
              0.6666666666666666,
              "#ed7953"
             ],
             [
              0.7777777777777778,
              "#fb9f3a"
             ],
             [
              0.8888888888888888,
              "#fdca26"
             ],
             [
              1,
              "#f0f921"
             ]
            ],
            "type": "histogram2dcontour"
           }
          ],
          "mesh3d": [
           {
            "colorbar": {
             "outlinewidth": 0,
             "ticks": ""
            },
            "type": "mesh3d"
           }
          ],
          "parcoords": [
           {
            "line": {
             "colorbar": {
              "outlinewidth": 0,
              "ticks": ""
             }
            },
            "type": "parcoords"
           }
          ],
          "pie": [
           {
            "automargin": true,
            "type": "pie"
           }
          ],
          "scatter": [
           {
            "marker": {
             "colorbar": {
              "outlinewidth": 0,
              "ticks": ""
             }
            },
            "type": "scatter"
           }
          ],
          "scatter3d": [
           {
            "line": {
             "colorbar": {
              "outlinewidth": 0,
              "ticks": ""
             }
            },
            "marker": {
             "colorbar": {
              "outlinewidth": 0,
              "ticks": ""
             }
            },
            "type": "scatter3d"
           }
          ],
          "scattercarpet": [
           {
            "marker": {
             "colorbar": {
              "outlinewidth": 0,
              "ticks": ""
             }
            },
            "type": "scattercarpet"
           }
          ],
          "scattergeo": [
           {
            "marker": {
             "colorbar": {
              "outlinewidth": 0,
              "ticks": ""
             }
            },
            "type": "scattergeo"
           }
          ],
          "scattergl": [
           {
            "marker": {
             "colorbar": {
              "outlinewidth": 0,
              "ticks": ""
             }
            },
            "type": "scattergl"
           }
          ],
          "scattermapbox": [
           {
            "marker": {
             "colorbar": {
              "outlinewidth": 0,
              "ticks": ""
             }
            },
            "type": "scattermapbox"
           }
          ],
          "scatterpolar": [
           {
            "marker": {
             "colorbar": {
              "outlinewidth": 0,
              "ticks": ""
             }
            },
            "type": "scatterpolar"
           }
          ],
          "scatterpolargl": [
           {
            "marker": {
             "colorbar": {
              "outlinewidth": 0,
              "ticks": ""
             }
            },
            "type": "scatterpolargl"
           }
          ],
          "scatterternary": [
           {
            "marker": {
             "colorbar": {
              "outlinewidth": 0,
              "ticks": ""
             }
            },
            "type": "scatterternary"
           }
          ],
          "surface": [
           {
            "colorbar": {
             "outlinewidth": 0,
             "ticks": ""
            },
            "colorscale": [
             [
              0,
              "#0d0887"
             ],
             [
              0.1111111111111111,
              "#46039f"
             ],
             [
              0.2222222222222222,
              "#7201a8"
             ],
             [
              0.3333333333333333,
              "#9c179e"
             ],
             [
              0.4444444444444444,
              "#bd3786"
             ],
             [
              0.5555555555555556,
              "#d8576b"
             ],
             [
              0.6666666666666666,
              "#ed7953"
             ],
             [
              0.7777777777777778,
              "#fb9f3a"
             ],
             [
              0.8888888888888888,
              "#fdca26"
             ],
             [
              1,
              "#f0f921"
             ]
            ],
            "type": "surface"
           }
          ],
          "table": [
           {
            "cells": {
             "fill": {
              "color": "#EBF0F8"
             },
             "line": {
              "color": "white"
             }
            },
            "header": {
             "fill": {
              "color": "#C8D4E3"
             },
             "line": {
              "color": "white"
             }
            },
            "type": "table"
           }
          ]
         },
         "layout": {
          "annotationdefaults": {
           "arrowcolor": "#2a3f5f",
           "arrowhead": 0,
           "arrowwidth": 1
          },
          "coloraxis": {
           "colorbar": {
            "outlinewidth": 0,
            "ticks": ""
           }
          },
          "colorscale": {
           "diverging": [
            [
             0,
             "#8e0152"
            ],
            [
             0.1,
             "#c51b7d"
            ],
            [
             0.2,
             "#de77ae"
            ],
            [
             0.3,
             "#f1b6da"
            ],
            [
             0.4,
             "#fde0ef"
            ],
            [
             0.5,
             "#f7f7f7"
            ],
            [
             0.6,
             "#e6f5d0"
            ],
            [
             0.7,
             "#b8e186"
            ],
            [
             0.8,
             "#7fbc41"
            ],
            [
             0.9,
             "#4d9221"
            ],
            [
             1,
             "#276419"
            ]
           ],
           "sequential": [
            [
             0,
             "#0d0887"
            ],
            [
             0.1111111111111111,
             "#46039f"
            ],
            [
             0.2222222222222222,
             "#7201a8"
            ],
            [
             0.3333333333333333,
             "#9c179e"
            ],
            [
             0.4444444444444444,
             "#bd3786"
            ],
            [
             0.5555555555555556,
             "#d8576b"
            ],
            [
             0.6666666666666666,
             "#ed7953"
            ],
            [
             0.7777777777777778,
             "#fb9f3a"
            ],
            [
             0.8888888888888888,
             "#fdca26"
            ],
            [
             1,
             "#f0f921"
            ]
           ],
           "sequentialminus": [
            [
             0,
             "#0d0887"
            ],
            [
             0.1111111111111111,
             "#46039f"
            ],
            [
             0.2222222222222222,
             "#7201a8"
            ],
            [
             0.3333333333333333,
             "#9c179e"
            ],
            [
             0.4444444444444444,
             "#bd3786"
            ],
            [
             0.5555555555555556,
             "#d8576b"
            ],
            [
             0.6666666666666666,
             "#ed7953"
            ],
            [
             0.7777777777777778,
             "#fb9f3a"
            ],
            [
             0.8888888888888888,
             "#fdca26"
            ],
            [
             1,
             "#f0f921"
            ]
           ]
          },
          "colorway": [
           "#636efa",
           "#EF553B",
           "#00cc96",
           "#ab63fa",
           "#FFA15A",
           "#19d3f3",
           "#FF6692",
           "#B6E880",
           "#FF97FF",
           "#FECB52"
          ],
          "font": {
           "color": "#2a3f5f"
          },
          "geo": {
           "bgcolor": "white",
           "lakecolor": "white",
           "landcolor": "#E5ECF6",
           "showlakes": true,
           "showland": true,
           "subunitcolor": "white"
          },
          "hoverlabel": {
           "align": "left"
          },
          "hovermode": "closest",
          "mapbox": {
           "style": "light"
          },
          "paper_bgcolor": "white",
          "plot_bgcolor": "#E5ECF6",
          "polar": {
           "angularaxis": {
            "gridcolor": "white",
            "linecolor": "white",
            "ticks": ""
           },
           "bgcolor": "#E5ECF6",
           "radialaxis": {
            "gridcolor": "white",
            "linecolor": "white",
            "ticks": ""
           }
          },
          "scene": {
           "xaxis": {
            "backgroundcolor": "#E5ECF6",
            "gridcolor": "white",
            "gridwidth": 2,
            "linecolor": "white",
            "showbackground": true,
            "ticks": "",
            "zerolinecolor": "white"
           },
           "yaxis": {
            "backgroundcolor": "#E5ECF6",
            "gridcolor": "white",
            "gridwidth": 2,
            "linecolor": "white",
            "showbackground": true,
            "ticks": "",
            "zerolinecolor": "white"
           },
           "zaxis": {
            "backgroundcolor": "#E5ECF6",
            "gridcolor": "white",
            "gridwidth": 2,
            "linecolor": "white",
            "showbackground": true,
            "ticks": "",
            "zerolinecolor": "white"
           }
          },
          "shapedefaults": {
           "line": {
            "color": "#2a3f5f"
           }
          },
          "ternary": {
           "aaxis": {
            "gridcolor": "white",
            "linecolor": "white",
            "ticks": ""
           },
           "baxis": {
            "gridcolor": "white",
            "linecolor": "white",
            "ticks": ""
           },
           "bgcolor": "#E5ECF6",
           "caxis": {
            "gridcolor": "white",
            "linecolor": "white",
            "ticks": ""
           }
          },
          "title": {
           "x": 0.05
          },
          "xaxis": {
           "automargin": true,
           "gridcolor": "white",
           "linecolor": "white",
           "ticks": "",
           "title": {
            "standoff": 15
           },
           "zerolinecolor": "white",
           "zerolinewidth": 2
          },
          "yaxis": {
           "automargin": true,
           "gridcolor": "white",
           "linecolor": "white",
           "ticks": "",
           "title": {
            "standoff": 15
           },
           "zerolinecolor": "white",
           "zerolinewidth": 2
          }
         }
        },
        "title": {
         "text": "Vehicle Anti Theft Device"
        }
       }
      },
      "text/html": [
       "<div>\n",
       "        \n",
       "        \n",
       "            <div id=\"21a846bc-355b-4ad4-91db-65ea0f38dd9b\" class=\"plotly-graph-div\" style=\"height:525px; width:100%;\"></div>\n",
       "            <script type=\"text/javascript\">\n",
       "                require([\"plotly\"], function(Plotly) {\n",
       "                    window.PLOTLYENV=window.PLOTLYENV || {};\n",
       "                    \n",
       "                if (document.getElementById(\"21a846bc-355b-4ad4-91db-65ea0f38dd9b\")) {\n",
       "                    Plotly.newPlot(\n",
       "                        '21a846bc-355b-4ad4-91db-65ea0f38dd9b',\n",
       "                        [{\"domain\": {\"x\": [0, 1]}, \"hole\": 0.6, \"labels\": [\"Not Applicable\", \"Passive Disabling-Vehicle Recovery\", \"Alarm Only\", \"Active Disabling\", \"Unknown\"], \"type\": \"pie\", \"values\": [248634, 133362, 31852, 10578, 5]}],\n",
       "                        {\"annotations\": [{\"font\": {\"size\": 17}, \"showarrow\": false, \"text\": \"VATD\", \"x\": 0.5, \"y\": 0.5}], \"template\": {\"data\": {\"bar\": [{\"error_x\": {\"color\": \"#2a3f5f\"}, \"error_y\": {\"color\": \"#2a3f5f\"}, \"marker\": {\"line\": {\"color\": \"#E5ECF6\", \"width\": 0.5}}, \"type\": \"bar\"}], \"barpolar\": [{\"marker\": {\"line\": {\"color\": \"#E5ECF6\", \"width\": 0.5}}, \"type\": \"barpolar\"}], \"carpet\": [{\"aaxis\": {\"endlinecolor\": \"#2a3f5f\", \"gridcolor\": \"white\", \"linecolor\": \"white\", \"minorgridcolor\": \"white\", \"startlinecolor\": \"#2a3f5f\"}, \"baxis\": {\"endlinecolor\": \"#2a3f5f\", \"gridcolor\": \"white\", \"linecolor\": \"white\", \"minorgridcolor\": \"white\", \"startlinecolor\": \"#2a3f5f\"}, \"type\": \"carpet\"}], \"choropleth\": [{\"colorbar\": {\"outlinewidth\": 0, \"ticks\": \"\"}, \"type\": \"choropleth\"}], \"contour\": [{\"colorbar\": {\"outlinewidth\": 0, \"ticks\": \"\"}, \"colorscale\": [[0.0, \"#0d0887\"], [0.1111111111111111, \"#46039f\"], [0.2222222222222222, \"#7201a8\"], [0.3333333333333333, \"#9c179e\"], [0.4444444444444444, \"#bd3786\"], [0.5555555555555556, \"#d8576b\"], [0.6666666666666666, \"#ed7953\"], [0.7777777777777778, \"#fb9f3a\"], [0.8888888888888888, \"#fdca26\"], [1.0, \"#f0f921\"]], \"type\": \"contour\"}], \"contourcarpet\": [{\"colorbar\": {\"outlinewidth\": 0, \"ticks\": \"\"}, \"type\": \"contourcarpet\"}], \"heatmap\": [{\"colorbar\": {\"outlinewidth\": 0, \"ticks\": \"\"}, \"colorscale\": [[0.0, \"#0d0887\"], [0.1111111111111111, \"#46039f\"], [0.2222222222222222, \"#7201a8\"], [0.3333333333333333, \"#9c179e\"], [0.4444444444444444, \"#bd3786\"], [0.5555555555555556, \"#d8576b\"], [0.6666666666666666, \"#ed7953\"], [0.7777777777777778, \"#fb9f3a\"], [0.8888888888888888, \"#fdca26\"], [1.0, \"#f0f921\"]], \"type\": \"heatmap\"}], \"heatmapgl\": [{\"colorbar\": {\"outlinewidth\": 0, \"ticks\": \"\"}, \"colorscale\": [[0.0, \"#0d0887\"], [0.1111111111111111, \"#46039f\"], [0.2222222222222222, \"#7201a8\"], [0.3333333333333333, \"#9c179e\"], [0.4444444444444444, \"#bd3786\"], [0.5555555555555556, \"#d8576b\"], [0.6666666666666666, \"#ed7953\"], [0.7777777777777778, \"#fb9f3a\"], [0.8888888888888888, \"#fdca26\"], [1.0, \"#f0f921\"]], \"type\": \"heatmapgl\"}], \"histogram\": [{\"marker\": {\"colorbar\": {\"outlinewidth\": 0, \"ticks\": \"\"}}, \"type\": \"histogram\"}], \"histogram2d\": [{\"colorbar\": {\"outlinewidth\": 0, \"ticks\": \"\"}, \"colorscale\": [[0.0, \"#0d0887\"], [0.1111111111111111, \"#46039f\"], [0.2222222222222222, \"#7201a8\"], [0.3333333333333333, \"#9c179e\"], [0.4444444444444444, \"#bd3786\"], [0.5555555555555556, \"#d8576b\"], [0.6666666666666666, \"#ed7953\"], [0.7777777777777778, \"#fb9f3a\"], [0.8888888888888888, \"#fdca26\"], [1.0, \"#f0f921\"]], \"type\": \"histogram2d\"}], \"histogram2dcontour\": [{\"colorbar\": {\"outlinewidth\": 0, \"ticks\": \"\"}, \"colorscale\": [[0.0, \"#0d0887\"], [0.1111111111111111, \"#46039f\"], [0.2222222222222222, \"#7201a8\"], [0.3333333333333333, \"#9c179e\"], [0.4444444444444444, \"#bd3786\"], [0.5555555555555556, \"#d8576b\"], [0.6666666666666666, \"#ed7953\"], [0.7777777777777778, \"#fb9f3a\"], [0.8888888888888888, \"#fdca26\"], [1.0, \"#f0f921\"]], \"type\": \"histogram2dcontour\"}], \"mesh3d\": [{\"colorbar\": {\"outlinewidth\": 0, \"ticks\": \"\"}, \"type\": \"mesh3d\"}], \"parcoords\": [{\"line\": {\"colorbar\": {\"outlinewidth\": 0, \"ticks\": \"\"}}, \"type\": \"parcoords\"}], \"pie\": [{\"automargin\": true, \"type\": \"pie\"}], \"scatter\": [{\"marker\": {\"colorbar\": {\"outlinewidth\": 0, \"ticks\": \"\"}}, \"type\": \"scatter\"}], \"scatter3d\": [{\"line\": {\"colorbar\": {\"outlinewidth\": 0, \"ticks\": \"\"}}, \"marker\": {\"colorbar\": {\"outlinewidth\": 0, \"ticks\": \"\"}}, \"type\": \"scatter3d\"}], \"scattercarpet\": [{\"marker\": {\"colorbar\": {\"outlinewidth\": 0, \"ticks\": \"\"}}, \"type\": \"scattercarpet\"}], \"scattergeo\": [{\"marker\": {\"colorbar\": {\"outlinewidth\": 0, \"ticks\": \"\"}}, \"type\": \"scattergeo\"}], \"scattergl\": [{\"marker\": {\"colorbar\": {\"outlinewidth\": 0, \"ticks\": \"\"}}, \"type\": \"scattergl\"}], \"scattermapbox\": [{\"marker\": {\"colorbar\": {\"outlinewidth\": 0, \"ticks\": \"\"}}, \"type\": \"scattermapbox\"}], \"scatterpolar\": [{\"marker\": {\"colorbar\": {\"outlinewidth\": 0, \"ticks\": \"\"}}, \"type\": \"scatterpolar\"}], \"scatterpolargl\": [{\"marker\": {\"colorbar\": {\"outlinewidth\": 0, \"ticks\": \"\"}}, \"type\": \"scatterpolargl\"}], \"scatterternary\": [{\"marker\": {\"colorbar\": {\"outlinewidth\": 0, \"ticks\": \"\"}}, \"type\": \"scatterternary\"}], \"surface\": [{\"colorbar\": {\"outlinewidth\": 0, \"ticks\": \"\"}, \"colorscale\": [[0.0, \"#0d0887\"], [0.1111111111111111, \"#46039f\"], [0.2222222222222222, \"#7201a8\"], [0.3333333333333333, \"#9c179e\"], [0.4444444444444444, \"#bd3786\"], [0.5555555555555556, \"#d8576b\"], [0.6666666666666666, \"#ed7953\"], [0.7777777777777778, \"#fb9f3a\"], [0.8888888888888888, \"#fdca26\"], [1.0, \"#f0f921\"]], \"type\": \"surface\"}], \"table\": [{\"cells\": {\"fill\": {\"color\": \"#EBF0F8\"}, \"line\": {\"color\": \"white\"}}, \"header\": {\"fill\": {\"color\": \"#C8D4E3\"}, \"line\": {\"color\": \"white\"}}, \"type\": \"table\"}]}, \"layout\": {\"annotationdefaults\": {\"arrowcolor\": \"#2a3f5f\", \"arrowhead\": 0, \"arrowwidth\": 1}, \"coloraxis\": {\"colorbar\": {\"outlinewidth\": 0, \"ticks\": \"\"}}, \"colorscale\": {\"diverging\": [[0, \"#8e0152\"], [0.1, \"#c51b7d\"], [0.2, \"#de77ae\"], [0.3, \"#f1b6da\"], [0.4, \"#fde0ef\"], [0.5, \"#f7f7f7\"], [0.6, \"#e6f5d0\"], [0.7, \"#b8e186\"], [0.8, \"#7fbc41\"], [0.9, \"#4d9221\"], [1, \"#276419\"]], \"sequential\": [[0.0, \"#0d0887\"], [0.1111111111111111, \"#46039f\"], [0.2222222222222222, \"#7201a8\"], [0.3333333333333333, \"#9c179e\"], [0.4444444444444444, \"#bd3786\"], [0.5555555555555556, \"#d8576b\"], [0.6666666666666666, \"#ed7953\"], [0.7777777777777778, \"#fb9f3a\"], [0.8888888888888888, \"#fdca26\"], [1.0, \"#f0f921\"]], \"sequentialminus\": [[0.0, \"#0d0887\"], [0.1111111111111111, \"#46039f\"], [0.2222222222222222, \"#7201a8\"], [0.3333333333333333, \"#9c179e\"], [0.4444444444444444, \"#bd3786\"], [0.5555555555555556, \"#d8576b\"], [0.6666666666666666, \"#ed7953\"], [0.7777777777777778, \"#fb9f3a\"], [0.8888888888888888, \"#fdca26\"], [1.0, \"#f0f921\"]]}, \"colorway\": [\"#636efa\", \"#EF553B\", \"#00cc96\", \"#ab63fa\", \"#FFA15A\", \"#19d3f3\", \"#FF6692\", \"#B6E880\", \"#FF97FF\", \"#FECB52\"], \"font\": {\"color\": \"#2a3f5f\"}, \"geo\": {\"bgcolor\": \"white\", \"lakecolor\": \"white\", \"landcolor\": \"#E5ECF6\", \"showlakes\": true, \"showland\": true, \"subunitcolor\": \"white\"}, \"hoverlabel\": {\"align\": \"left\"}, \"hovermode\": \"closest\", \"mapbox\": {\"style\": \"light\"}, \"paper_bgcolor\": \"white\", \"plot_bgcolor\": \"#E5ECF6\", \"polar\": {\"angularaxis\": {\"gridcolor\": \"white\", \"linecolor\": \"white\", \"ticks\": \"\"}, \"bgcolor\": \"#E5ECF6\", \"radialaxis\": {\"gridcolor\": \"white\", \"linecolor\": \"white\", \"ticks\": \"\"}}, \"scene\": {\"xaxis\": {\"backgroundcolor\": \"#E5ECF6\", \"gridcolor\": \"white\", \"gridwidth\": 2, \"linecolor\": \"white\", \"showbackground\": true, \"ticks\": \"\", \"zerolinecolor\": \"white\"}, \"yaxis\": {\"backgroundcolor\": \"#E5ECF6\", \"gridcolor\": \"white\", \"gridwidth\": 2, \"linecolor\": \"white\", \"showbackground\": true, \"ticks\": \"\", \"zerolinecolor\": \"white\"}, \"zaxis\": {\"backgroundcolor\": \"#E5ECF6\", \"gridcolor\": \"white\", \"gridwidth\": 2, \"linecolor\": \"white\", \"showbackground\": true, \"ticks\": \"\", \"zerolinecolor\": \"white\"}}, \"shapedefaults\": {\"line\": {\"color\": \"#2a3f5f\"}}, \"ternary\": {\"aaxis\": {\"gridcolor\": \"white\", \"linecolor\": \"white\", \"ticks\": \"\"}, \"baxis\": {\"gridcolor\": \"white\", \"linecolor\": \"white\", \"ticks\": \"\"}, \"bgcolor\": \"#E5ECF6\", \"caxis\": {\"gridcolor\": \"white\", \"linecolor\": \"white\", \"ticks\": \"\"}}, \"title\": {\"x\": 0.05}, \"xaxis\": {\"automargin\": true, \"gridcolor\": \"white\", \"linecolor\": \"white\", \"ticks\": \"\", \"title\": {\"standoff\": 15}, \"zerolinecolor\": \"white\", \"zerolinewidth\": 2}, \"yaxis\": {\"automargin\": true, \"gridcolor\": \"white\", \"linecolor\": \"white\", \"ticks\": \"\", \"title\": {\"standoff\": 15}, \"zerolinecolor\": \"white\", \"zerolinewidth\": 2}}}, \"title\": {\"text\": \"Vehicle Anti Theft Device\"}},\n",
       "                        {\"responsive\": true}\n",
       "                    ).then(function(){\n",
       "                            \n",
       "var gd = document.getElementById('21a846bc-355b-4ad4-91db-65ea0f38dd9b');\n",
       "var x = new MutationObserver(function (mutations, observer) {{\n",
       "        var display = window.getComputedStyle(gd).display;\n",
       "        if (!display || display === 'none') {{\n",
       "            console.log([gd, 'removed!']);\n",
       "            Plotly.purge(gd);\n",
       "            observer.disconnect();\n",
       "        }}\n",
       "}});\n",
       "\n",
       "// Listen for the removal of the full notebook cells\n",
       "var notebookContainer = gd.closest('#notebook-container');\n",
       "if (notebookContainer) {{\n",
       "    x.observe(notebookContainer, {childList: true});\n",
       "}}\n",
       "\n",
       "// Listen for the clearing of the current output cell\n",
       "var outputEl = gd.closest('.output');\n",
       "if (outputEl) {{\n",
       "    x.observe(outputEl, {childList: true});\n",
       "}}\n",
       "\n",
       "                        })\n",
       "                };\n",
       "                });\n",
       "            </script>\n",
       "        </div>"
      ]
     },
     "metadata": {},
     "output_type": "display_data"
    }
   ],
   "source": [
    "from plotly.offline  import download_plotlyjs,init_notebook_mode,plot, iplot\n",
    "from plotly.offline import init_notebook_mode, iplot\n",
    "init_notebook_mode(connected=True)\n",
    "temp = df.Vehicle_Anti_Theft_Device.value_counts()\n",
    "fig = {\n",
    "  \"data\": [\n",
    "    {\n",
    "      \"values\": temp.values,\n",
    "      \"labels\": temp.index,\n",
    "      \"domain\": {\"x\": [0, 1]},\n",
    "      \"hole\": .6,\n",
    "      \"type\": \"pie\"\n",
    "    },\n",
    "    \n",
    "    ],\n",
    "  \"layout\": {\n",
    "        \"title\":\"Vehicle Anti Theft Device\",\n",
    "        \"annotations\": [\n",
    "            {\n",
    "                \"font\": {\n",
    "                    \"size\": 17\n",
    "                },\n",
    "                \"showarrow\": False,\n",
    "                \"text\": \"VATD\",\n",
    "                \"x\": 0.5,\n",
    "                \"y\": 0.5\n",
    "            }\n",
    "            \n",
    "        ]\n",
    "    }\n",
    "}\n",
    "iplot(fig, filename='donut')"
   ]
  },
  {
   "cell_type": "code",
   "execution_count": 15,
   "metadata": {},
   "outputs": [
    {
     "data": {
      "text/html": [
       "        <script type=\"text/javascript\">\n",
       "        window.PlotlyConfig = {MathJaxConfig: 'local'};\n",
       "        if (window.MathJax) {MathJax.Hub.Config({SVG: {font: \"STIX-Web\"}});}\n",
       "        if (typeof require !== 'undefined') {\n",
       "        require.undef(\"plotly\");\n",
       "        requirejs.config({\n",
       "            paths: {\n",
       "                'plotly': ['https://cdn.plot.ly/plotly-latest.min']\n",
       "            }\n",
       "        });\n",
       "        require(['plotly'], function(Plotly) {\n",
       "            window._Plotly = Plotly;\n",
       "        });\n",
       "        }\n",
       "        </script>\n",
       "        "
      ]
     },
     "metadata": {},
     "output_type": "display_data"
    },
    {
     "data": {
      "application/vnd.plotly.v1+json": {
       "config": {
        "linkText": "Export to plot.ly",
        "plotlyServerURL": "https://plot.ly",
        "showLink": false
       },
       "data": [
        {
         "domain": {
          "x": [
           0,
           1
          ]
         },
         "hole": 0.6,
         "labels": [
          "Standard",
          "Intermediate",
          "High",
          "Sports Premium",
          "Sports"
         ],
         "type": "pie",
         "values": [
          404713,
          11381,
          5386,
          1870,
          1081
         ]
        }
       ],
       "layout": {
        "annotations": [
         {
          "font": {
           "size": 17
          },
          "showarrow": false,
          "text": "Vehicle Performance",
          "x": 0.5,
          "y": 0.5
         }
        ],
        "template": {
         "data": {
          "bar": [
           {
            "error_x": {
             "color": "#2a3f5f"
            },
            "error_y": {
             "color": "#2a3f5f"
            },
            "marker": {
             "line": {
              "color": "#E5ECF6",
              "width": 0.5
             }
            },
            "type": "bar"
           }
          ],
          "barpolar": [
           {
            "marker": {
             "line": {
              "color": "#E5ECF6",
              "width": 0.5
             }
            },
            "type": "barpolar"
           }
          ],
          "carpet": [
           {
            "aaxis": {
             "endlinecolor": "#2a3f5f",
             "gridcolor": "white",
             "linecolor": "white",
             "minorgridcolor": "white",
             "startlinecolor": "#2a3f5f"
            },
            "baxis": {
             "endlinecolor": "#2a3f5f",
             "gridcolor": "white",
             "linecolor": "white",
             "minorgridcolor": "white",
             "startlinecolor": "#2a3f5f"
            },
            "type": "carpet"
           }
          ],
          "choropleth": [
           {
            "colorbar": {
             "outlinewidth": 0,
             "ticks": ""
            },
            "type": "choropleth"
           }
          ],
          "contour": [
           {
            "colorbar": {
             "outlinewidth": 0,
             "ticks": ""
            },
            "colorscale": [
             [
              0,
              "#0d0887"
             ],
             [
              0.1111111111111111,
              "#46039f"
             ],
             [
              0.2222222222222222,
              "#7201a8"
             ],
             [
              0.3333333333333333,
              "#9c179e"
             ],
             [
              0.4444444444444444,
              "#bd3786"
             ],
             [
              0.5555555555555556,
              "#d8576b"
             ],
             [
              0.6666666666666666,
              "#ed7953"
             ],
             [
              0.7777777777777778,
              "#fb9f3a"
             ],
             [
              0.8888888888888888,
              "#fdca26"
             ],
             [
              1,
              "#f0f921"
             ]
            ],
            "type": "contour"
           }
          ],
          "contourcarpet": [
           {
            "colorbar": {
             "outlinewidth": 0,
             "ticks": ""
            },
            "type": "contourcarpet"
           }
          ],
          "heatmap": [
           {
            "colorbar": {
             "outlinewidth": 0,
             "ticks": ""
            },
            "colorscale": [
             [
              0,
              "#0d0887"
             ],
             [
              0.1111111111111111,
              "#46039f"
             ],
             [
              0.2222222222222222,
              "#7201a8"
             ],
             [
              0.3333333333333333,
              "#9c179e"
             ],
             [
              0.4444444444444444,
              "#bd3786"
             ],
             [
              0.5555555555555556,
              "#d8576b"
             ],
             [
              0.6666666666666666,
              "#ed7953"
             ],
             [
              0.7777777777777778,
              "#fb9f3a"
             ],
             [
              0.8888888888888888,
              "#fdca26"
             ],
             [
              1,
              "#f0f921"
             ]
            ],
            "type": "heatmap"
           }
          ],
          "heatmapgl": [
           {
            "colorbar": {
             "outlinewidth": 0,
             "ticks": ""
            },
            "colorscale": [
             [
              0,
              "#0d0887"
             ],
             [
              0.1111111111111111,
              "#46039f"
             ],
             [
              0.2222222222222222,
              "#7201a8"
             ],
             [
              0.3333333333333333,
              "#9c179e"
             ],
             [
              0.4444444444444444,
              "#bd3786"
             ],
             [
              0.5555555555555556,
              "#d8576b"
             ],
             [
              0.6666666666666666,
              "#ed7953"
             ],
             [
              0.7777777777777778,
              "#fb9f3a"
             ],
             [
              0.8888888888888888,
              "#fdca26"
             ],
             [
              1,
              "#f0f921"
             ]
            ],
            "type": "heatmapgl"
           }
          ],
          "histogram": [
           {
            "marker": {
             "colorbar": {
              "outlinewidth": 0,
              "ticks": ""
             }
            },
            "type": "histogram"
           }
          ],
          "histogram2d": [
           {
            "colorbar": {
             "outlinewidth": 0,
             "ticks": ""
            },
            "colorscale": [
             [
              0,
              "#0d0887"
             ],
             [
              0.1111111111111111,
              "#46039f"
             ],
             [
              0.2222222222222222,
              "#7201a8"
             ],
             [
              0.3333333333333333,
              "#9c179e"
             ],
             [
              0.4444444444444444,
              "#bd3786"
             ],
             [
              0.5555555555555556,
              "#d8576b"
             ],
             [
              0.6666666666666666,
              "#ed7953"
             ],
             [
              0.7777777777777778,
              "#fb9f3a"
             ],
             [
              0.8888888888888888,
              "#fdca26"
             ],
             [
              1,
              "#f0f921"
             ]
            ],
            "type": "histogram2d"
           }
          ],
          "histogram2dcontour": [
           {
            "colorbar": {
             "outlinewidth": 0,
             "ticks": ""
            },
            "colorscale": [
             [
              0,
              "#0d0887"
             ],
             [
              0.1111111111111111,
              "#46039f"
             ],
             [
              0.2222222222222222,
              "#7201a8"
             ],
             [
              0.3333333333333333,
              "#9c179e"
             ],
             [
              0.4444444444444444,
              "#bd3786"
             ],
             [
              0.5555555555555556,
              "#d8576b"
             ],
             [
              0.6666666666666666,
              "#ed7953"
             ],
             [
              0.7777777777777778,
              "#fb9f3a"
             ],
             [
              0.8888888888888888,
              "#fdca26"
             ],
             [
              1,
              "#f0f921"
             ]
            ],
            "type": "histogram2dcontour"
           }
          ],
          "mesh3d": [
           {
            "colorbar": {
             "outlinewidth": 0,
             "ticks": ""
            },
            "type": "mesh3d"
           }
          ],
          "parcoords": [
           {
            "line": {
             "colorbar": {
              "outlinewidth": 0,
              "ticks": ""
             }
            },
            "type": "parcoords"
           }
          ],
          "pie": [
           {
            "automargin": true,
            "type": "pie"
           }
          ],
          "scatter": [
           {
            "marker": {
             "colorbar": {
              "outlinewidth": 0,
              "ticks": ""
             }
            },
            "type": "scatter"
           }
          ],
          "scatter3d": [
           {
            "line": {
             "colorbar": {
              "outlinewidth": 0,
              "ticks": ""
             }
            },
            "marker": {
             "colorbar": {
              "outlinewidth": 0,
              "ticks": ""
             }
            },
            "type": "scatter3d"
           }
          ],
          "scattercarpet": [
           {
            "marker": {
             "colorbar": {
              "outlinewidth": 0,
              "ticks": ""
             }
            },
            "type": "scattercarpet"
           }
          ],
          "scattergeo": [
           {
            "marker": {
             "colorbar": {
              "outlinewidth": 0,
              "ticks": ""
             }
            },
            "type": "scattergeo"
           }
          ],
          "scattergl": [
           {
            "marker": {
             "colorbar": {
              "outlinewidth": 0,
              "ticks": ""
             }
            },
            "type": "scattergl"
           }
          ],
          "scattermapbox": [
           {
            "marker": {
             "colorbar": {
              "outlinewidth": 0,
              "ticks": ""
             }
            },
            "type": "scattermapbox"
           }
          ],
          "scatterpolar": [
           {
            "marker": {
             "colorbar": {
              "outlinewidth": 0,
              "ticks": ""
             }
            },
            "type": "scatterpolar"
           }
          ],
          "scatterpolargl": [
           {
            "marker": {
             "colorbar": {
              "outlinewidth": 0,
              "ticks": ""
             }
            },
            "type": "scatterpolargl"
           }
          ],
          "scatterternary": [
           {
            "marker": {
             "colorbar": {
              "outlinewidth": 0,
              "ticks": ""
             }
            },
            "type": "scatterternary"
           }
          ],
          "surface": [
           {
            "colorbar": {
             "outlinewidth": 0,
             "ticks": ""
            },
            "colorscale": [
             [
              0,
              "#0d0887"
             ],
             [
              0.1111111111111111,
              "#46039f"
             ],
             [
              0.2222222222222222,
              "#7201a8"
             ],
             [
              0.3333333333333333,
              "#9c179e"
             ],
             [
              0.4444444444444444,
              "#bd3786"
             ],
             [
              0.5555555555555556,
              "#d8576b"
             ],
             [
              0.6666666666666666,
              "#ed7953"
             ],
             [
              0.7777777777777778,
              "#fb9f3a"
             ],
             [
              0.8888888888888888,
              "#fdca26"
             ],
             [
              1,
              "#f0f921"
             ]
            ],
            "type": "surface"
           }
          ],
          "table": [
           {
            "cells": {
             "fill": {
              "color": "#EBF0F8"
             },
             "line": {
              "color": "white"
             }
            },
            "header": {
             "fill": {
              "color": "#C8D4E3"
             },
             "line": {
              "color": "white"
             }
            },
            "type": "table"
           }
          ]
         },
         "layout": {
          "annotationdefaults": {
           "arrowcolor": "#2a3f5f",
           "arrowhead": 0,
           "arrowwidth": 1
          },
          "coloraxis": {
           "colorbar": {
            "outlinewidth": 0,
            "ticks": ""
           }
          },
          "colorscale": {
           "diverging": [
            [
             0,
             "#8e0152"
            ],
            [
             0.1,
             "#c51b7d"
            ],
            [
             0.2,
             "#de77ae"
            ],
            [
             0.3,
             "#f1b6da"
            ],
            [
             0.4,
             "#fde0ef"
            ],
            [
             0.5,
             "#f7f7f7"
            ],
            [
             0.6,
             "#e6f5d0"
            ],
            [
             0.7,
             "#b8e186"
            ],
            [
             0.8,
             "#7fbc41"
            ],
            [
             0.9,
             "#4d9221"
            ],
            [
             1,
             "#276419"
            ]
           ],
           "sequential": [
            [
             0,
             "#0d0887"
            ],
            [
             0.1111111111111111,
             "#46039f"
            ],
            [
             0.2222222222222222,
             "#7201a8"
            ],
            [
             0.3333333333333333,
             "#9c179e"
            ],
            [
             0.4444444444444444,
             "#bd3786"
            ],
            [
             0.5555555555555556,
             "#d8576b"
            ],
            [
             0.6666666666666666,
             "#ed7953"
            ],
            [
             0.7777777777777778,
             "#fb9f3a"
            ],
            [
             0.8888888888888888,
             "#fdca26"
            ],
            [
             1,
             "#f0f921"
            ]
           ],
           "sequentialminus": [
            [
             0,
             "#0d0887"
            ],
            [
             0.1111111111111111,
             "#46039f"
            ],
            [
             0.2222222222222222,
             "#7201a8"
            ],
            [
             0.3333333333333333,
             "#9c179e"
            ],
            [
             0.4444444444444444,
             "#bd3786"
            ],
            [
             0.5555555555555556,
             "#d8576b"
            ],
            [
             0.6666666666666666,
             "#ed7953"
            ],
            [
             0.7777777777777778,
             "#fb9f3a"
            ],
            [
             0.8888888888888888,
             "#fdca26"
            ],
            [
             1,
             "#f0f921"
            ]
           ]
          },
          "colorway": [
           "#636efa",
           "#EF553B",
           "#00cc96",
           "#ab63fa",
           "#FFA15A",
           "#19d3f3",
           "#FF6692",
           "#B6E880",
           "#FF97FF",
           "#FECB52"
          ],
          "font": {
           "color": "#2a3f5f"
          },
          "geo": {
           "bgcolor": "white",
           "lakecolor": "white",
           "landcolor": "#E5ECF6",
           "showlakes": true,
           "showland": true,
           "subunitcolor": "white"
          },
          "hoverlabel": {
           "align": "left"
          },
          "hovermode": "closest",
          "mapbox": {
           "style": "light"
          },
          "paper_bgcolor": "white",
          "plot_bgcolor": "#E5ECF6",
          "polar": {
           "angularaxis": {
            "gridcolor": "white",
            "linecolor": "white",
            "ticks": ""
           },
           "bgcolor": "#E5ECF6",
           "radialaxis": {
            "gridcolor": "white",
            "linecolor": "white",
            "ticks": ""
           }
          },
          "scene": {
           "xaxis": {
            "backgroundcolor": "#E5ECF6",
            "gridcolor": "white",
            "gridwidth": 2,
            "linecolor": "white",
            "showbackground": true,
            "ticks": "",
            "zerolinecolor": "white"
           },
           "yaxis": {
            "backgroundcolor": "#E5ECF6",
            "gridcolor": "white",
            "gridwidth": 2,
            "linecolor": "white",
            "showbackground": true,
            "ticks": "",
            "zerolinecolor": "white"
           },
           "zaxis": {
            "backgroundcolor": "#E5ECF6",
            "gridcolor": "white",
            "gridwidth": 2,
            "linecolor": "white",
            "showbackground": true,
            "ticks": "",
            "zerolinecolor": "white"
           }
          },
          "shapedefaults": {
           "line": {
            "color": "#2a3f5f"
           }
          },
          "ternary": {
           "aaxis": {
            "gridcolor": "white",
            "linecolor": "white",
            "ticks": ""
           },
           "baxis": {
            "gridcolor": "white",
            "linecolor": "white",
            "ticks": ""
           },
           "bgcolor": "#E5ECF6",
           "caxis": {
            "gridcolor": "white",
            "linecolor": "white",
            "ticks": ""
           }
          },
          "title": {
           "x": 0.05
          },
          "xaxis": {
           "automargin": true,
           "gridcolor": "white",
           "linecolor": "white",
           "ticks": "",
           "title": {
            "standoff": 15
           },
           "zerolinecolor": "white",
           "zerolinewidth": 2
          },
          "yaxis": {
           "automargin": true,
           "gridcolor": "white",
           "linecolor": "white",
           "ticks": "",
           "title": {
            "standoff": 15
           },
           "zerolinecolor": "white",
           "zerolinewidth": 2
          }
         }
        },
        "title": {
         "text": "Vehicle Performance"
        }
       }
      },
      "text/html": [
       "<div>\n",
       "        \n",
       "        \n",
       "            <div id=\"8686e3ab-286c-40f2-a47f-f6937270c3b2\" class=\"plotly-graph-div\" style=\"height:525px; width:100%;\"></div>\n",
       "            <script type=\"text/javascript\">\n",
       "                require([\"plotly\"], function(Plotly) {\n",
       "                    window.PLOTLYENV=window.PLOTLYENV || {};\n",
       "                    \n",
       "                if (document.getElementById(\"8686e3ab-286c-40f2-a47f-f6937270c3b2\")) {\n",
       "                    Plotly.newPlot(\n",
       "                        '8686e3ab-286c-40f2-a47f-f6937270c3b2',\n",
       "                        [{\"domain\": {\"x\": [0, 1]}, \"hole\": 0.6, \"labels\": [\"Standard\", \"Intermediate\", \"High\", \"Sports Premium\", \"Sports\"], \"type\": \"pie\", \"values\": [404713, 11381, 5386, 1870, 1081]}],\n",
       "                        {\"annotations\": [{\"font\": {\"size\": 17}, \"showarrow\": false, \"text\": \"Vehicle Performance\", \"x\": 0.5, \"y\": 0.5}], \"template\": {\"data\": {\"bar\": [{\"error_x\": {\"color\": \"#2a3f5f\"}, \"error_y\": {\"color\": \"#2a3f5f\"}, \"marker\": {\"line\": {\"color\": \"#E5ECF6\", \"width\": 0.5}}, \"type\": \"bar\"}], \"barpolar\": [{\"marker\": {\"line\": {\"color\": \"#E5ECF6\", \"width\": 0.5}}, \"type\": \"barpolar\"}], \"carpet\": [{\"aaxis\": {\"endlinecolor\": \"#2a3f5f\", \"gridcolor\": \"white\", \"linecolor\": \"white\", \"minorgridcolor\": \"white\", \"startlinecolor\": \"#2a3f5f\"}, \"baxis\": {\"endlinecolor\": \"#2a3f5f\", \"gridcolor\": \"white\", \"linecolor\": \"white\", \"minorgridcolor\": \"white\", \"startlinecolor\": \"#2a3f5f\"}, \"type\": \"carpet\"}], \"choropleth\": [{\"colorbar\": {\"outlinewidth\": 0, \"ticks\": \"\"}, \"type\": \"choropleth\"}], \"contour\": [{\"colorbar\": {\"outlinewidth\": 0, \"ticks\": \"\"}, \"colorscale\": [[0.0, \"#0d0887\"], [0.1111111111111111, \"#46039f\"], [0.2222222222222222, \"#7201a8\"], [0.3333333333333333, \"#9c179e\"], [0.4444444444444444, \"#bd3786\"], [0.5555555555555556, \"#d8576b\"], [0.6666666666666666, \"#ed7953\"], [0.7777777777777778, \"#fb9f3a\"], [0.8888888888888888, \"#fdca26\"], [1.0, \"#f0f921\"]], \"type\": \"contour\"}], \"contourcarpet\": [{\"colorbar\": {\"outlinewidth\": 0, \"ticks\": \"\"}, \"type\": \"contourcarpet\"}], \"heatmap\": [{\"colorbar\": {\"outlinewidth\": 0, \"ticks\": \"\"}, \"colorscale\": [[0.0, \"#0d0887\"], [0.1111111111111111, \"#46039f\"], [0.2222222222222222, \"#7201a8\"], [0.3333333333333333, \"#9c179e\"], [0.4444444444444444, \"#bd3786\"], [0.5555555555555556, \"#d8576b\"], [0.6666666666666666, \"#ed7953\"], [0.7777777777777778, \"#fb9f3a\"], [0.8888888888888888, \"#fdca26\"], [1.0, \"#f0f921\"]], \"type\": \"heatmap\"}], \"heatmapgl\": [{\"colorbar\": {\"outlinewidth\": 0, \"ticks\": \"\"}, \"colorscale\": [[0.0, \"#0d0887\"], [0.1111111111111111, \"#46039f\"], [0.2222222222222222, \"#7201a8\"], [0.3333333333333333, \"#9c179e\"], [0.4444444444444444, \"#bd3786\"], [0.5555555555555556, \"#d8576b\"], [0.6666666666666666, \"#ed7953\"], [0.7777777777777778, \"#fb9f3a\"], [0.8888888888888888, \"#fdca26\"], [1.0, \"#f0f921\"]], \"type\": \"heatmapgl\"}], \"histogram\": [{\"marker\": {\"colorbar\": {\"outlinewidth\": 0, \"ticks\": \"\"}}, \"type\": \"histogram\"}], \"histogram2d\": [{\"colorbar\": {\"outlinewidth\": 0, \"ticks\": \"\"}, \"colorscale\": [[0.0, \"#0d0887\"], [0.1111111111111111, \"#46039f\"], [0.2222222222222222, \"#7201a8\"], [0.3333333333333333, \"#9c179e\"], [0.4444444444444444, \"#bd3786\"], [0.5555555555555556, \"#d8576b\"], [0.6666666666666666, \"#ed7953\"], [0.7777777777777778, \"#fb9f3a\"], [0.8888888888888888, \"#fdca26\"], [1.0, \"#f0f921\"]], \"type\": \"histogram2d\"}], \"histogram2dcontour\": [{\"colorbar\": {\"outlinewidth\": 0, \"ticks\": \"\"}, \"colorscale\": [[0.0, \"#0d0887\"], [0.1111111111111111, \"#46039f\"], [0.2222222222222222, \"#7201a8\"], [0.3333333333333333, \"#9c179e\"], [0.4444444444444444, \"#bd3786\"], [0.5555555555555556, \"#d8576b\"], [0.6666666666666666, \"#ed7953\"], [0.7777777777777778, \"#fb9f3a\"], [0.8888888888888888, \"#fdca26\"], [1.0, \"#f0f921\"]], \"type\": \"histogram2dcontour\"}], \"mesh3d\": [{\"colorbar\": {\"outlinewidth\": 0, \"ticks\": \"\"}, \"type\": \"mesh3d\"}], \"parcoords\": [{\"line\": {\"colorbar\": {\"outlinewidth\": 0, \"ticks\": \"\"}}, \"type\": \"parcoords\"}], \"pie\": [{\"automargin\": true, \"type\": \"pie\"}], \"scatter\": [{\"marker\": {\"colorbar\": {\"outlinewidth\": 0, \"ticks\": \"\"}}, \"type\": \"scatter\"}], \"scatter3d\": [{\"line\": {\"colorbar\": {\"outlinewidth\": 0, \"ticks\": \"\"}}, \"marker\": {\"colorbar\": {\"outlinewidth\": 0, \"ticks\": \"\"}}, \"type\": \"scatter3d\"}], \"scattercarpet\": [{\"marker\": {\"colorbar\": {\"outlinewidth\": 0, \"ticks\": \"\"}}, \"type\": \"scattercarpet\"}], \"scattergeo\": [{\"marker\": {\"colorbar\": {\"outlinewidth\": 0, \"ticks\": \"\"}}, \"type\": \"scattergeo\"}], \"scattergl\": [{\"marker\": {\"colorbar\": {\"outlinewidth\": 0, \"ticks\": \"\"}}, \"type\": \"scattergl\"}], \"scattermapbox\": [{\"marker\": {\"colorbar\": {\"outlinewidth\": 0, \"ticks\": \"\"}}, \"type\": \"scattermapbox\"}], \"scatterpolar\": [{\"marker\": {\"colorbar\": {\"outlinewidth\": 0, \"ticks\": \"\"}}, \"type\": \"scatterpolar\"}], \"scatterpolargl\": [{\"marker\": {\"colorbar\": {\"outlinewidth\": 0, \"ticks\": \"\"}}, \"type\": \"scatterpolargl\"}], \"scatterternary\": [{\"marker\": {\"colorbar\": {\"outlinewidth\": 0, \"ticks\": \"\"}}, \"type\": \"scatterternary\"}], \"surface\": [{\"colorbar\": {\"outlinewidth\": 0, \"ticks\": \"\"}, \"colorscale\": [[0.0, \"#0d0887\"], [0.1111111111111111, \"#46039f\"], [0.2222222222222222, \"#7201a8\"], [0.3333333333333333, \"#9c179e\"], [0.4444444444444444, \"#bd3786\"], [0.5555555555555556, \"#d8576b\"], [0.6666666666666666, \"#ed7953\"], [0.7777777777777778, \"#fb9f3a\"], [0.8888888888888888, \"#fdca26\"], [1.0, \"#f0f921\"]], \"type\": \"surface\"}], \"table\": [{\"cells\": {\"fill\": {\"color\": \"#EBF0F8\"}, \"line\": {\"color\": \"white\"}}, \"header\": {\"fill\": {\"color\": \"#C8D4E3\"}, \"line\": {\"color\": \"white\"}}, \"type\": \"table\"}]}, \"layout\": {\"annotationdefaults\": {\"arrowcolor\": \"#2a3f5f\", \"arrowhead\": 0, \"arrowwidth\": 1}, \"coloraxis\": {\"colorbar\": {\"outlinewidth\": 0, \"ticks\": \"\"}}, \"colorscale\": {\"diverging\": [[0, \"#8e0152\"], [0.1, \"#c51b7d\"], [0.2, \"#de77ae\"], [0.3, \"#f1b6da\"], [0.4, \"#fde0ef\"], [0.5, \"#f7f7f7\"], [0.6, \"#e6f5d0\"], [0.7, \"#b8e186\"], [0.8, \"#7fbc41\"], [0.9, \"#4d9221\"], [1, \"#276419\"]], \"sequential\": [[0.0, \"#0d0887\"], [0.1111111111111111, \"#46039f\"], [0.2222222222222222, \"#7201a8\"], [0.3333333333333333, \"#9c179e\"], [0.4444444444444444, \"#bd3786\"], [0.5555555555555556, \"#d8576b\"], [0.6666666666666666, \"#ed7953\"], [0.7777777777777778, \"#fb9f3a\"], [0.8888888888888888, \"#fdca26\"], [1.0, \"#f0f921\"]], \"sequentialminus\": [[0.0, \"#0d0887\"], [0.1111111111111111, \"#46039f\"], [0.2222222222222222, \"#7201a8\"], [0.3333333333333333, \"#9c179e\"], [0.4444444444444444, \"#bd3786\"], [0.5555555555555556, \"#d8576b\"], [0.6666666666666666, \"#ed7953\"], [0.7777777777777778, \"#fb9f3a\"], [0.8888888888888888, \"#fdca26\"], [1.0, \"#f0f921\"]]}, \"colorway\": [\"#636efa\", \"#EF553B\", \"#00cc96\", \"#ab63fa\", \"#FFA15A\", \"#19d3f3\", \"#FF6692\", \"#B6E880\", \"#FF97FF\", \"#FECB52\"], \"font\": {\"color\": \"#2a3f5f\"}, \"geo\": {\"bgcolor\": \"white\", \"lakecolor\": \"white\", \"landcolor\": \"#E5ECF6\", \"showlakes\": true, \"showland\": true, \"subunitcolor\": \"white\"}, \"hoverlabel\": {\"align\": \"left\"}, \"hovermode\": \"closest\", \"mapbox\": {\"style\": \"light\"}, \"paper_bgcolor\": \"white\", \"plot_bgcolor\": \"#E5ECF6\", \"polar\": {\"angularaxis\": {\"gridcolor\": \"white\", \"linecolor\": \"white\", \"ticks\": \"\"}, \"bgcolor\": \"#E5ECF6\", \"radialaxis\": {\"gridcolor\": \"white\", \"linecolor\": \"white\", \"ticks\": \"\"}}, \"scene\": {\"xaxis\": {\"backgroundcolor\": \"#E5ECF6\", \"gridcolor\": \"white\", \"gridwidth\": 2, \"linecolor\": \"white\", \"showbackground\": true, \"ticks\": \"\", \"zerolinecolor\": \"white\"}, \"yaxis\": {\"backgroundcolor\": \"#E5ECF6\", \"gridcolor\": \"white\", \"gridwidth\": 2, \"linecolor\": \"white\", \"showbackground\": true, \"ticks\": \"\", \"zerolinecolor\": \"white\"}, \"zaxis\": {\"backgroundcolor\": \"#E5ECF6\", \"gridcolor\": \"white\", \"gridwidth\": 2, \"linecolor\": \"white\", \"showbackground\": true, \"ticks\": \"\", \"zerolinecolor\": \"white\"}}, \"shapedefaults\": {\"line\": {\"color\": \"#2a3f5f\"}}, \"ternary\": {\"aaxis\": {\"gridcolor\": \"white\", \"linecolor\": \"white\", \"ticks\": \"\"}, \"baxis\": {\"gridcolor\": \"white\", \"linecolor\": \"white\", \"ticks\": \"\"}, \"bgcolor\": \"#E5ECF6\", \"caxis\": {\"gridcolor\": \"white\", \"linecolor\": \"white\", \"ticks\": \"\"}}, \"title\": {\"x\": 0.05}, \"xaxis\": {\"automargin\": true, \"gridcolor\": \"white\", \"linecolor\": \"white\", \"ticks\": \"\", \"title\": {\"standoff\": 15}, \"zerolinecolor\": \"white\", \"zerolinewidth\": 2}, \"yaxis\": {\"automargin\": true, \"gridcolor\": \"white\", \"linecolor\": \"white\", \"ticks\": \"\", \"title\": {\"standoff\": 15}, \"zerolinecolor\": \"white\", \"zerolinewidth\": 2}}}, \"title\": {\"text\": \"Vehicle Performance\"}},\n",
       "                        {\"responsive\": true}\n",
       "                    ).then(function(){\n",
       "                            \n",
       "var gd = document.getElementById('8686e3ab-286c-40f2-a47f-f6937270c3b2');\n",
       "var x = new MutationObserver(function (mutations, observer) {{\n",
       "        var display = window.getComputedStyle(gd).display;\n",
       "        if (!display || display === 'none') {{\n",
       "            console.log([gd, 'removed!']);\n",
       "            Plotly.purge(gd);\n",
       "            observer.disconnect();\n",
       "        }}\n",
       "}});\n",
       "\n",
       "// Listen for the removal of the full notebook cells\n",
       "var notebookContainer = gd.closest('#notebook-container');\n",
       "if (notebookContainer) {{\n",
       "    x.observe(notebookContainer, {childList: true});\n",
       "}}\n",
       "\n",
       "// Listen for the clearing of the current output cell\n",
       "var outputEl = gd.closest('.output');\n",
       "if (outputEl) {{\n",
       "    x.observe(outputEl, {childList: true});\n",
       "}}\n",
       "\n",
       "                        })\n",
       "                };\n",
       "                });\n",
       "            </script>\n",
       "        </div>"
      ]
     },
     "metadata": {},
     "output_type": "display_data"
    }
   ],
   "source": [
    "from plotly.offline  import download_plotlyjs,init_notebook_mode,plot, iplot\n",
    "from plotly.offline import init_notebook_mode, iplot\n",
    "init_notebook_mode(connected=True)\n",
    "temp = df.Vehicle_Performance.value_counts()\n",
    "fig = {\n",
    "  \"data\": [\n",
    "    {\n",
    "      \"values\": temp.values,\n",
    "      \"labels\": temp.index,\n",
    "      \"domain\": {\"x\": [0, 1]},\n",
    "      \"hole\": .6,\n",
    "      \"type\": \"pie\"\n",
    "    },\n",
    "    \n",
    "    ],\n",
    "  \"layout\": {\n",
    "        \"title\":\"Vehicle Performance\",\n",
    "        \"annotations\": [\n",
    "            {\n",
    "                \"font\": {\n",
    "                    \"size\": 17\n",
    "                },\n",
    "                \"showarrow\": False,\n",
    "                \"text\": \"Vehicle Performance\",\n",
    "                \"x\": 0.5,\n",
    "                \"y\": 0.5\n",
    "            }\n",
    "            \n",
    "        ]\n",
    "    }\n",
    "}\n",
    "iplot(fig, filename='donut')"
   ]
  },
  {
   "cell_type": "code",
   "execution_count": 16,
   "metadata": {},
   "outputs": [
    {
     "data": {
      "text/plain": [
       "Text(-15.075000000000003, 0.5, 'Miles')"
      ]
     },
     "execution_count": 16,
     "metadata": {},
     "output_type": "execute_result"
    },
    {
     "data": {
      "image/png": "[encoded data removed]",
      "text/plain": [
       "<Figure size 360x360 with 1 Axes>"
      ]
     },
     "metadata": {
      "needs_background": "light"
     },
     "output_type": "display_data"
    }
   ],
   "source": [
    "sns.displot(df, x=\"Vehicle_Usage\")\n",
    "plt.title('Vehicle Usage')\n",
    "plt.xlabel('Vehicle Usage')\n",
    "plt.ylabel('Miles')"
   ]
  },
  {
   "cell_type": "code",
   "execution_count": 17,
   "metadata": {},
   "outputs": [
    {
     "data": {
      "text/html": [
       "        <script type=\"text/javascript\">\n",
       "        window.PlotlyConfig = {MathJaxConfig: 'local'};\n",
       "        if (window.MathJax) {MathJax.Hub.Config({SVG: {font: \"STIX-Web\"}});}\n",
       "        if (typeof require !== 'undefined') {\n",
       "        require.undef(\"plotly\");\n",
       "        requirejs.config({\n",
       "            paths: {\n",
       "                'plotly': ['https://cdn.plot.ly/plotly-latest.min']\n",
       "            }\n",
       "        });\n",
       "        require(['plotly'], function(Plotly) {\n",
       "            window._Plotly = Plotly;\n",
       "        });\n",
       "        }\n",
       "        </script>\n",
       "        "
      ]
     },
     "metadata": {},
     "output_type": "display_data"
    },
    {
     "data": {
      "application/vnd.plotly.v1+json": {
       "config": {
        "linkText": "Export to plot.ly",
        "plotlyServerURL": "https://plot.ly",
        "showLink": false
       },
       "data": [
        {
         "domain": {
          "x": [
           0,
           1
          ]
         },
         "hole": 0.6,
         "labels": [
          "Pleasure",
          "Work    ",
          "Farm    ",
          "Business"
         ],
         "type": "pie",
         "values": [
          227389,
          155103,
          39141,
          2798
         ]
        }
       ],
       "layout": {
        "annotations": [
         {
          "font": {
           "size": 17
          },
          "showarrow": false,
          "text": "Vehicle Usage",
          "x": 0.5,
          "y": 0.5
         }
        ],
        "template": {
         "data": {
          "bar": [
           {
            "error_x": {
             "color": "#2a3f5f"
            },
            "error_y": {
             "color": "#2a3f5f"
            },
            "marker": {
             "line": {
              "color": "#E5ECF6",
              "width": 0.5
             }
            },
            "type": "bar"
           }
          ],
          "barpolar": [
           {
            "marker": {
             "line": {
              "color": "#E5ECF6",
              "width": 0.5
             }
            },
            "type": "barpolar"
           }
          ],
          "carpet": [
           {
            "aaxis": {
             "endlinecolor": "#2a3f5f",
             "gridcolor": "white",
             "linecolor": "white",
             "minorgridcolor": "white",
             "startlinecolor": "#2a3f5f"
            },
            "baxis": {
             "endlinecolor": "#2a3f5f",
             "gridcolor": "white",
             "linecolor": "white",
             "minorgridcolor": "white",
             "startlinecolor": "#2a3f5f"
            },
            "type": "carpet"
           }
          ],
          "choropleth": [
           {
            "colorbar": {
             "outlinewidth": 0,
             "ticks": ""
            },
            "type": "choropleth"
           }
          ],
          "contour": [
           {
            "colorbar": {
             "outlinewidth": 0,
             "ticks": ""
            },
            "colorscale": [
             [
              0,
              "#0d0887"
             ],
             [
              0.1111111111111111,
              "#46039f"
             ],
             [
              0.2222222222222222,
              "#7201a8"
             ],
             [
              0.3333333333333333,
              "#9c179e"
             ],
             [
              0.4444444444444444,
              "#bd3786"
             ],
             [
              0.5555555555555556,
              "#d8576b"
             ],
             [
              0.6666666666666666,
              "#ed7953"
             ],
             [
              0.7777777777777778,
              "#fb9f3a"
             ],
             [
              0.8888888888888888,
              "#fdca26"
             ],
             [
              1,
              "#f0f921"
             ]
            ],
            "type": "contour"
           }
          ],
          "contourcarpet": [
           {
            "colorbar": {
             "outlinewidth": 0,
             "ticks": ""
            },
            "type": "contourcarpet"
           }
          ],
          "heatmap": [
           {
            "colorbar": {
             "outlinewidth": 0,
             "ticks": ""
            },
            "colorscale": [
             [
              0,
              "#0d0887"
             ],
             [
              0.1111111111111111,
              "#46039f"
             ],
             [
              0.2222222222222222,
              "#7201a8"
             ],
             [
              0.3333333333333333,
              "#9c179e"
             ],
             [
              0.4444444444444444,
              "#bd3786"
             ],
             [
              0.5555555555555556,
              "#d8576b"
             ],
             [
              0.6666666666666666,
              "#ed7953"
             ],
             [
              0.7777777777777778,
              "#fb9f3a"
             ],
             [
              0.8888888888888888,
              "#fdca26"
             ],
             [
              1,
              "#f0f921"
             ]
            ],
            "type": "heatmap"
           }
          ],
          "heatmapgl": [
           {
            "colorbar": {
             "outlinewidth": 0,
             "ticks": ""
            },
            "colorscale": [
             [
              0,
              "#0d0887"
             ],
             [
              0.1111111111111111,
              "#46039f"
             ],
             [
              0.2222222222222222,
              "#7201a8"
             ],
             [
              0.3333333333333333,
              "#9c179e"
             ],
             [
              0.4444444444444444,
              "#bd3786"
             ],
             [
              0.5555555555555556,
              "#d8576b"
             ],
             [
              0.6666666666666666,
              "#ed7953"
             ],
             [
              0.7777777777777778,
              "#fb9f3a"
             ],
             [
              0.8888888888888888,
              "#fdca26"
             ],
             [
              1,
              "#f0f921"
             ]
            ],
            "type": "heatmapgl"
           }
          ],
          "histogram": [
           {
            "marker": {
             "colorbar": {
              "outlinewidth": 0,
              "ticks": ""
             }
            },
            "type": "histogram"
           }
          ],
          "histogram2d": [
           {
            "colorbar": {
             "outlinewidth": 0,
             "ticks": ""
            },
            "colorscale": [
             [
              0,
              "#0d0887"
             ],
             [
              0.1111111111111111,
              "#46039f"
             ],
             [
              0.2222222222222222,
              "#7201a8"
             ],
             [
              0.3333333333333333,
              "#9c179e"
             ],
             [
              0.4444444444444444,
              "#bd3786"
             ],
             [
              0.5555555555555556,
              "#d8576b"
             ],
             [
              0.6666666666666666,
              "#ed7953"
             ],
             [
              0.7777777777777778,
              "#fb9f3a"
             ],
             [
              0.8888888888888888,
              "#fdca26"
             ],
             [
              1,
              "#f0f921"
             ]
            ],
            "type": "histogram2d"
           }
          ],
          "histogram2dcontour": [
           {
            "colorbar": {
             "outlinewidth": 0,
             "ticks": ""
            },
            "colorscale": [
             [
              0,
              "#0d0887"
             ],
             [
              0.1111111111111111,
              "#46039f"
             ],
             [
              0.2222222222222222,
              "#7201a8"
             ],
             [
              0.3333333333333333,
              "#9c179e"
             ],
             [
              0.4444444444444444,
              "#bd3786"
             ],
             [
              0.5555555555555556,
              "#d8576b"
             ],
             [
              0.6666666666666666,
              "#ed7953"
             ],
             [
              0.7777777777777778,
              "#fb9f3a"
             ],
             [
              0.8888888888888888,
              "#fdca26"
             ],
             [
              1,
              "#f0f921"
             ]
            ],
            "type": "histogram2dcontour"
           }
          ],
          "mesh3d": [
           {
            "colorbar": {
             "outlinewidth": 0,
             "ticks": ""
            },
            "type": "mesh3d"
           }
          ],
          "parcoords": [
           {
            "line": {
             "colorbar": {
              "outlinewidth": 0,
              "ticks": ""
             }
            },
            "type": "parcoords"
           }
          ],
          "pie": [
           {
            "automargin": true,
            "type": "pie"
           }
          ],
          "scatter": [
           {
            "marker": {
             "colorbar": {
              "outlinewidth": 0,
              "ticks": ""
             }
            },
            "type": "scatter"
           }
          ],
          "scatter3d": [
           {
            "line": {
             "colorbar": {
              "outlinewidth": 0,
              "ticks": ""
             }
            },
            "marker": {
             "colorbar": {
              "outlinewidth": 0,
              "ticks": ""
             }
            },
            "type": "scatter3d"
           }
          ],
          "scattercarpet": [
           {
            "marker": {
             "colorbar": {
              "outlinewidth": 0,
              "ticks": ""
             }
            },
            "type": "scattercarpet"
           }
          ],
          "scattergeo": [
           {
            "marker": {
             "colorbar": {
              "outlinewidth": 0,
              "ticks": ""
             }
            },
            "type": "scattergeo"
           }
          ],
          "scattergl": [
           {
            "marker": {
             "colorbar": {
              "outlinewidth": 0,
              "ticks": ""
             }
            },
            "type": "scattergl"
           }
          ],
          "scattermapbox": [
           {
            "marker": {
             "colorbar": {
              "outlinewidth": 0,
              "ticks": ""
             }
            },
            "type": "scattermapbox"
           }
          ],
          "scatterpolar": [
           {
            "marker": {
             "colorbar": {
              "outlinewidth": 0,
              "ticks": ""
             }
            },
            "type": "scatterpolar"
           }
          ],
          "scatterpolargl": [
           {
            "marker": {
             "colorbar": {
              "outlinewidth": 0,
              "ticks": ""
             }
            },
            "type": "scatterpolargl"
           }
          ],
          "scatterternary": [
           {
            "marker": {
             "colorbar": {
              "outlinewidth": 0,
              "ticks": ""
             }
            },
            "type": "scatterternary"
           }
          ],
          "surface": [
           {
            "colorbar": {
             "outlinewidth": 0,
             "ticks": ""
            },
            "colorscale": [
             [
              0,
              "#0d0887"
             ],
             [
              0.1111111111111111,
              "#46039f"
             ],
             [
              0.2222222222222222,
              "#7201a8"
             ],
             [
              0.3333333333333333,
              "#9c179e"
             ],
             [
              0.4444444444444444,
              "#bd3786"
             ],
             [
              0.5555555555555556,
              "#d8576b"
             ],
             [
              0.6666666666666666,
              "#ed7953"
             ],
             [
              0.7777777777777778,
              "#fb9f3a"
             ],
             [
              0.8888888888888888,
              "#fdca26"
             ],
             [
              1,
              "#f0f921"
             ]
            ],
            "type": "surface"
           }
          ],
          "table": [
           {
            "cells": {
             "fill": {
              "color": "#EBF0F8"
             },
             "line": {
              "color": "white"
             }
            },
            "header": {
             "fill": {
              "color": "#C8D4E3"
             },
             "line": {
              "color": "white"
             }
            },
            "type": "table"
           }
          ]
         },
         "layout": {
          "annotationdefaults": {
           "arrowcolor": "#2a3f5f",
           "arrowhead": 0,
           "arrowwidth": 1
          },
          "coloraxis": {
           "colorbar": {
            "outlinewidth": 0,
            "ticks": ""
           }
          },
          "colorscale": {
           "diverging": [
            [
             0,
             "#8e0152"
            ],
            [
             0.1,
             "#c51b7d"
            ],
            [
             0.2,
             "#de77ae"
            ],
            [
             0.3,
             "#f1b6da"
            ],
            [
             0.4,
             "#fde0ef"
            ],
            [
             0.5,
             "#f7f7f7"
            ],
            [
             0.6,
             "#e6f5d0"
            ],
            [
             0.7,
             "#b8e186"
            ],
            [
             0.8,
             "#7fbc41"
            ],
            [
             0.9,
             "#4d9221"
            ],
            [
             1,
             "#276419"
            ]
           ],
           "sequential": [
            [
             0,
             "#0d0887"
            ],
            [
             0.1111111111111111,
             "#46039f"
            ],
            [
             0.2222222222222222,
             "#7201a8"
            ],
            [
             0.3333333333333333,
             "#9c179e"
            ],
            [
             0.4444444444444444,
             "#bd3786"
            ],
            [
             0.5555555555555556,
             "#d8576b"
            ],
            [
             0.6666666666666666,
             "#ed7953"
            ],
            [
             0.7777777777777778,
             "#fb9f3a"
            ],
            [
             0.8888888888888888,
             "#fdca26"
            ],
            [
             1,
             "#f0f921"
            ]
           ],
           "sequentialminus": [
            [
             0,
             "#0d0887"
            ],
            [
             0.1111111111111111,
             "#46039f"
            ],
            [
             0.2222222222222222,
             "#7201a8"
            ],
            [
             0.3333333333333333,
             "#9c179e"
            ],
            [
             0.4444444444444444,
             "#bd3786"
            ],
            [
             0.5555555555555556,
             "#d8576b"
            ],
            [
             0.6666666666666666,
             "#ed7953"
            ],
            [
             0.7777777777777778,
             "#fb9f3a"
            ],
            [
             0.8888888888888888,
             "#fdca26"
            ],
            [
             1,
             "#f0f921"
            ]
           ]
          },
          "colorway": [
           "#636efa",
           "#EF553B",
           "#00cc96",
           "#ab63fa",
           "#FFA15A",
           "#19d3f3",
           "#FF6692",
           "#B6E880",
           "#FF97FF",
           "#FECB52"
          ],
          "font": {
           "color": "#2a3f5f"
          },
          "geo": {
           "bgcolor": "white",
           "lakecolor": "white",
           "landcolor": "#E5ECF6",
           "showlakes": true,
           "showland": true,
           "subunitcolor": "white"
          },
          "hoverlabel": {
           "align": "left"
          },
          "hovermode": "closest",
          "mapbox": {
           "style": "light"
          },
          "paper_bgcolor": "white",
          "plot_bgcolor": "#E5ECF6",
          "polar": {
           "angularaxis": {
            "gridcolor": "white",
            "linecolor": "white",
            "ticks": ""
           },
           "bgcolor": "#E5ECF6",
           "radialaxis": {
            "gridcolor": "white",
            "linecolor": "white",
            "ticks": ""
           }
          },
          "scene": {
           "xaxis": {
            "backgroundcolor": "#E5ECF6",
            "gridcolor": "white",
            "gridwidth": 2,
            "linecolor": "white",
            "showbackground": true,
            "ticks": "",
            "zerolinecolor": "white"
           },
           "yaxis": {
            "backgroundcolor": "#E5ECF6",
            "gridcolor": "white",
            "gridwidth": 2,
            "linecolor": "white",
            "showbackground": true,
            "ticks": "",
            "zerolinecolor": "white"
           },
           "zaxis": {
            "backgroundcolor": "#E5ECF6",
            "gridcolor": "white",
            "gridwidth": 2,
            "linecolor": "white",
            "showbackground": true,
            "ticks": "",
            "zerolinecolor": "white"
           }
          },
          "shapedefaults": {
           "line": {
            "color": "#2a3f5f"
           }
          },
          "ternary": {
           "aaxis": {
            "gridcolor": "white",
            "linecolor": "white",
            "ticks": ""
           },
           "baxis": {
            "gridcolor": "white",
            "linecolor": "white",
            "ticks": ""
           },
           "bgcolor": "#E5ECF6",
           "caxis": {
            "gridcolor": "white",
            "linecolor": "white",
            "ticks": ""
           }
          },
          "title": {
           "x": 0.05
          },
          "xaxis": {
           "automargin": true,
           "gridcolor": "white",
           "linecolor": "white",
           "ticks": "",
           "title": {
            "standoff": 15
           },
           "zerolinecolor": "white",
           "zerolinewidth": 2
          },
          "yaxis": {
           "automargin": true,
           "gridcolor": "white",
           "linecolor": "white",
           "ticks": "",
           "title": {
            "standoff": 15
           },
           "zerolinecolor": "white",
           "zerolinewidth": 2
          }
         }
        },
        "title": {
         "text": "Vehicle Usage in Miles"
        }
       }
      },
      "text/html": [
       "<div>\n",
       "        \n",
       "        \n",
       "            <div id=\"22381dc3-0541-42ee-bf8b-0ebcadc29632\" class=\"plotly-graph-div\" style=\"height:525px; width:100%;\"></div>\n",
       "            <script type=\"text/javascript\">\n",
       "                require([\"plotly\"], function(Plotly) {\n",
       "                    window.PLOTLYENV=window.PLOTLYENV || {};\n",
       "                    \n",
       "                if (document.getElementById(\"22381dc3-0541-42ee-bf8b-0ebcadc29632\")) {\n",
       "                    Plotly.newPlot(\n",
       "                        '22381dc3-0541-42ee-bf8b-0ebcadc29632',\n",
       "                        [{\"domain\": {\"x\": [0, 1]}, \"hole\": 0.6, \"labels\": [\"Pleasure\", \"Work    \", \"Farm    \", \"Business\"], \"type\": \"pie\", \"values\": [227389, 155103, 39141, 2798]}],\n",
       "                        {\"annotations\": [{\"font\": {\"size\": 17}, \"showarrow\": false, \"text\": \"Vehicle Usage\", \"x\": 0.5, \"y\": 0.5}], \"template\": {\"data\": {\"bar\": [{\"error_x\": {\"color\": \"#2a3f5f\"}, \"error_y\": {\"color\": \"#2a3f5f\"}, \"marker\": {\"line\": {\"color\": \"#E5ECF6\", \"width\": 0.5}}, \"type\": \"bar\"}], \"barpolar\": [{\"marker\": {\"line\": {\"color\": \"#E5ECF6\", \"width\": 0.5}}, \"type\": \"barpolar\"}], \"carpet\": [{\"aaxis\": {\"endlinecolor\": \"#2a3f5f\", \"gridcolor\": \"white\", \"linecolor\": \"white\", \"minorgridcolor\": \"white\", \"startlinecolor\": \"#2a3f5f\"}, \"baxis\": {\"endlinecolor\": \"#2a3f5f\", \"gridcolor\": \"white\", \"linecolor\": \"white\", \"minorgridcolor\": \"white\", \"startlinecolor\": \"#2a3f5f\"}, \"type\": \"carpet\"}], \"choropleth\": [{\"colorbar\": {\"outlinewidth\": 0, \"ticks\": \"\"}, \"type\": \"choropleth\"}], \"contour\": [{\"colorbar\": {\"outlinewidth\": 0, \"ticks\": \"\"}, \"colorscale\": [[0.0, \"#0d0887\"], [0.1111111111111111, \"#46039f\"], [0.2222222222222222, \"#7201a8\"], [0.3333333333333333, \"#9c179e\"], [0.4444444444444444, \"#bd3786\"], [0.5555555555555556, \"#d8576b\"], [0.6666666666666666, \"#ed7953\"], [0.7777777777777778, \"#fb9f3a\"], [0.8888888888888888, \"#fdca26\"], [1.0, \"#f0f921\"]], \"type\": \"contour\"}], \"contourcarpet\": [{\"colorbar\": {\"outlinewidth\": 0, \"ticks\": \"\"}, \"type\": \"contourcarpet\"}], \"heatmap\": [{\"colorbar\": {\"outlinewidth\": 0, \"ticks\": \"\"}, \"colorscale\": [[0.0, \"#0d0887\"], [0.1111111111111111, \"#46039f\"], [0.2222222222222222, \"#7201a8\"], [0.3333333333333333, \"#9c179e\"], [0.4444444444444444, \"#bd3786\"], [0.5555555555555556, \"#d8576b\"], [0.6666666666666666, \"#ed7953\"], [0.7777777777777778, \"#fb9f3a\"], [0.8888888888888888, \"#fdca26\"], [1.0, \"#f0f921\"]], \"type\": \"heatmap\"}], \"heatmapgl\": [{\"colorbar\": {\"outlinewidth\": 0, \"ticks\": \"\"}, \"colorscale\": [[0.0, \"#0d0887\"], [0.1111111111111111, \"#46039f\"], [0.2222222222222222, \"#7201a8\"], [0.3333333333333333, \"#9c179e\"], [0.4444444444444444, \"#bd3786\"], [0.5555555555555556, \"#d8576b\"], [0.6666666666666666, \"#ed7953\"], [0.7777777777777778, \"#fb9f3a\"], [0.8888888888888888, \"#fdca26\"], [1.0, \"#f0f921\"]], \"type\": \"heatmapgl\"}], \"histogram\": [{\"marker\": {\"colorbar\": {\"outlinewidth\": 0, \"ticks\": \"\"}}, \"type\": \"histogram\"}], \"histogram2d\": [{\"colorbar\": {\"outlinewidth\": 0, \"ticks\": \"\"}, \"colorscale\": [[0.0, \"#0d0887\"], [0.1111111111111111, \"#46039f\"], [0.2222222222222222, \"#7201a8\"], [0.3333333333333333, \"#9c179e\"], [0.4444444444444444, \"#bd3786\"], [0.5555555555555556, \"#d8576b\"], [0.6666666666666666, \"#ed7953\"], [0.7777777777777778, \"#fb9f3a\"], [0.8888888888888888, \"#fdca26\"], [1.0, \"#f0f921\"]], \"type\": \"histogram2d\"}], \"histogram2dcontour\": [{\"colorbar\": {\"outlinewidth\": 0, \"ticks\": \"\"}, \"colorscale\": [[0.0, \"#0d0887\"], [0.1111111111111111, \"#46039f\"], [0.2222222222222222, \"#7201a8\"], [0.3333333333333333, \"#9c179e\"], [0.4444444444444444, \"#bd3786\"], [0.5555555555555556, \"#d8576b\"], [0.6666666666666666, \"#ed7953\"], [0.7777777777777778, \"#fb9f3a\"], [0.8888888888888888, \"#fdca26\"], [1.0, \"#f0f921\"]], \"type\": \"histogram2dcontour\"}], \"mesh3d\": [{\"colorbar\": {\"outlinewidth\": 0, \"ticks\": \"\"}, \"type\": \"mesh3d\"}], \"parcoords\": [{\"line\": {\"colorbar\": {\"outlinewidth\": 0, \"ticks\": \"\"}}, \"type\": \"parcoords\"}], \"pie\": [{\"automargin\": true, \"type\": \"pie\"}], \"scatter\": [{\"marker\": {\"colorbar\": {\"outlinewidth\": 0, \"ticks\": \"\"}}, \"type\": \"scatter\"}], \"scatter3d\": [{\"line\": {\"colorbar\": {\"outlinewidth\": 0, \"ticks\": \"\"}}, \"marker\": {\"colorbar\": {\"outlinewidth\": 0, \"ticks\": \"\"}}, \"type\": \"scatter3d\"}], \"scattercarpet\": [{\"marker\": {\"colorbar\": {\"outlinewidth\": 0, \"ticks\": \"\"}}, \"type\": \"scattercarpet\"}], \"scattergeo\": [{\"marker\": {\"colorbar\": {\"outlinewidth\": 0, \"ticks\": \"\"}}, \"type\": \"scattergeo\"}], \"scattergl\": [{\"marker\": {\"colorbar\": {\"outlinewidth\": 0, \"ticks\": \"\"}}, \"type\": \"scattergl\"}], \"scattermapbox\": [{\"marker\": {\"colorbar\": {\"outlinewidth\": 0, \"ticks\": \"\"}}, \"type\": \"scattermapbox\"}], \"scatterpolar\": [{\"marker\": {\"colorbar\": {\"outlinewidth\": 0, \"ticks\": \"\"}}, \"type\": \"scatterpolar\"}], \"scatterpolargl\": [{\"marker\": {\"colorbar\": {\"outlinewidth\": 0, \"ticks\": \"\"}}, \"type\": \"scatterpolargl\"}], \"scatterternary\": [{\"marker\": {\"colorbar\": {\"outlinewidth\": 0, \"ticks\": \"\"}}, \"type\": \"scatterternary\"}], \"surface\": [{\"colorbar\": {\"outlinewidth\": 0, \"ticks\": \"\"}, \"colorscale\": [[0.0, \"#0d0887\"], [0.1111111111111111, \"#46039f\"], [0.2222222222222222, \"#7201a8\"], [0.3333333333333333, \"#9c179e\"], [0.4444444444444444, \"#bd3786\"], [0.5555555555555556, \"#d8576b\"], [0.6666666666666666, \"#ed7953\"], [0.7777777777777778, \"#fb9f3a\"], [0.8888888888888888, \"#fdca26\"], [1.0, \"#f0f921\"]], \"type\": \"surface\"}], \"table\": [{\"cells\": {\"fill\": {\"color\": \"#EBF0F8\"}, \"line\": {\"color\": \"white\"}}, \"header\": {\"fill\": {\"color\": \"#C8D4E3\"}, \"line\": {\"color\": \"white\"}}, \"type\": \"table\"}]}, \"layout\": {\"annotationdefaults\": {\"arrowcolor\": \"#2a3f5f\", \"arrowhead\": 0, \"arrowwidth\": 1}, \"coloraxis\": {\"colorbar\": {\"outlinewidth\": 0, \"ticks\": \"\"}}, \"colorscale\": {\"diverging\": [[0, \"#8e0152\"], [0.1, \"#c51b7d\"], [0.2, \"#de77ae\"], [0.3, \"#f1b6da\"], [0.4, \"#fde0ef\"], [0.5, \"#f7f7f7\"], [0.6, \"#e6f5d0\"], [0.7, \"#b8e186\"], [0.8, \"#7fbc41\"], [0.9, \"#4d9221\"], [1, \"#276419\"]], \"sequential\": [[0.0, \"#0d0887\"], [0.1111111111111111, \"#46039f\"], [0.2222222222222222, \"#7201a8\"], [0.3333333333333333, \"#9c179e\"], [0.4444444444444444, \"#bd3786\"], [0.5555555555555556, \"#d8576b\"], [0.6666666666666666, \"#ed7953\"], [0.7777777777777778, \"#fb9f3a\"], [0.8888888888888888, \"#fdca26\"], [1.0, \"#f0f921\"]], \"sequentialminus\": [[0.0, \"#0d0887\"], [0.1111111111111111, \"#46039f\"], [0.2222222222222222, \"#7201a8\"], [0.3333333333333333, \"#9c179e\"], [0.4444444444444444, \"#bd3786\"], [0.5555555555555556, \"#d8576b\"], [0.6666666666666666, \"#ed7953\"], [0.7777777777777778, \"#fb9f3a\"], [0.8888888888888888, \"#fdca26\"], [1.0, \"#f0f921\"]]}, \"colorway\": [\"#636efa\", \"#EF553B\", \"#00cc96\", \"#ab63fa\", \"#FFA15A\", \"#19d3f3\", \"#FF6692\", \"#B6E880\", \"#FF97FF\", \"#FECB52\"], \"font\": {\"color\": \"#2a3f5f\"}, \"geo\": {\"bgcolor\": \"white\", \"lakecolor\": \"white\", \"landcolor\": \"#E5ECF6\", \"showlakes\": true, \"showland\": true, \"subunitcolor\": \"white\"}, \"hoverlabel\": {\"align\": \"left\"}, \"hovermode\": \"closest\", \"mapbox\": {\"style\": \"light\"}, \"paper_bgcolor\": \"white\", \"plot_bgcolor\": \"#E5ECF6\", \"polar\": {\"angularaxis\": {\"gridcolor\": \"white\", \"linecolor\": \"white\", \"ticks\": \"\"}, \"bgcolor\": \"#E5ECF6\", \"radialaxis\": {\"gridcolor\": \"white\", \"linecolor\": \"white\", \"ticks\": \"\"}}, \"scene\": {\"xaxis\": {\"backgroundcolor\": \"#E5ECF6\", \"gridcolor\": \"white\", \"gridwidth\": 2, \"linecolor\": \"white\", \"showbackground\": true, \"ticks\": \"\", \"zerolinecolor\": \"white\"}, \"yaxis\": {\"backgroundcolor\": \"#E5ECF6\", \"gridcolor\": \"white\", \"gridwidth\": 2, \"linecolor\": \"white\", \"showbackground\": true, \"ticks\": \"\", \"zerolinecolor\": \"white\"}, \"zaxis\": {\"backgroundcolor\": \"#E5ECF6\", \"gridcolor\": \"white\", \"gridwidth\": 2, \"linecolor\": \"white\", \"showbackground\": true, \"ticks\": \"\", \"zerolinecolor\": \"white\"}}, \"shapedefaults\": {\"line\": {\"color\": \"#2a3f5f\"}}, \"ternary\": {\"aaxis\": {\"gridcolor\": \"white\", \"linecolor\": \"white\", \"ticks\": \"\"}, \"baxis\": {\"gridcolor\": \"white\", \"linecolor\": \"white\", \"ticks\": \"\"}, \"bgcolor\": \"#E5ECF6\", \"caxis\": {\"gridcolor\": \"white\", \"linecolor\": \"white\", \"ticks\": \"\"}}, \"title\": {\"x\": 0.05}, \"xaxis\": {\"automargin\": true, \"gridcolor\": \"white\", \"linecolor\": \"white\", \"ticks\": \"\", \"title\": {\"standoff\": 15}, \"zerolinecolor\": \"white\", \"zerolinewidth\": 2}, \"yaxis\": {\"automargin\": true, \"gridcolor\": \"white\", \"linecolor\": \"white\", \"ticks\": \"\", \"title\": {\"standoff\": 15}, \"zerolinecolor\": \"white\", \"zerolinewidth\": 2}}}, \"title\": {\"text\": \"Vehicle Usage in Miles\"}},\n",
       "                        {\"responsive\": true}\n",
       "                    ).then(function(){\n",
       "                            \n",
       "var gd = document.getElementById('22381dc3-0541-42ee-bf8b-0ebcadc29632');\n",
       "var x = new MutationObserver(function (mutations, observer) {{\n",
       "        var display = window.getComputedStyle(gd).display;\n",
       "        if (!display || display === 'none') {{\n",
       "            console.log([gd, 'removed!']);\n",
       "            Plotly.purge(gd);\n",
       "            observer.disconnect();\n",
       "        }}\n",
       "}});\n",
       "\n",
       "// Listen for the removal of the full notebook cells\n",
       "var notebookContainer = gd.closest('#notebook-container');\n",
       "if (notebookContainer) {{\n",
       "    x.observe(notebookContainer, {childList: true});\n",
       "}}\n",
       "\n",
       "// Listen for the clearing of the current output cell\n",
       "var outputEl = gd.closest('.output');\n",
       "if (outputEl) {{\n",
       "    x.observe(outputEl, {childList: true});\n",
       "}}\n",
       "\n",
       "                        })\n",
       "                };\n",
       "                });\n",
       "            </script>\n",
       "        </div>"
      ]
     },
     "metadata": {},
     "output_type": "display_data"
    }
   ],
   "source": [
    "from plotly.offline  import download_plotlyjs,init_notebook_mode,plot, iplot\n",
    "from plotly.offline import init_notebook_mode, iplot\n",
    "init_notebook_mode(connected=True)\n",
    "temp = df.Vehicle_Usage.value_counts()\n",
    "fig = {\n",
    "  \"data\": [\n",
    "    {\n",
    "      \"values\": temp.values,\n",
    "      \"labels\": temp.index,\n",
    "      \"domain\": {\"x\": [0, 1]},\n",
    "      \"hole\": .6,\n",
    "      \"type\": \"pie\"\n",
    "    },\n",
    "    \n",
    "    ],\n",
    "  \"layout\": {\n",
    "        \"title\":\"Vehicle Usage in Miles\",\n",
    "        \"annotations\": [\n",
    "            {\n",
    "                \"font\": {\n",
    "                    \"size\": 17\n",
    "                },\n",
    "                \"showarrow\": False,\n",
    "                \"text\": \"Vehicle Usage\",\n",
    "                \"x\": 0.5,\n",
    "                \"y\": 0.5\n",
    "            }\n",
    "            \n",
    "        ]\n",
    "    }\n",
    "}\n",
    "iplot(fig, filename='donut')"
   ]
  },
  {
   "cell_type": "code",
   "execution_count": 18,
   "metadata": {},
   "outputs": [
    {
     "data": {
      "image/png": "[encoded data removed]",
      "text/plain": [
       "<Figure size 2304x2304 with 42 Axes>"
      ]
     },
     "metadata": {
      "needs_background": "light"
     },
     "output_type": "display_data"
    }
   ],
   "source": [
    "df.hist(figsize=(32,32))\n",
    "plt.show()"
   ]
  },
  {
   "cell_type": "code",
   "execution_count": null,
   "metadata": {},
   "outputs": [],
   "source": []
  },
  {
   "cell_type": "code",
   "execution_count": null,
   "metadata": {},
   "outputs": [],
   "source": []
  },
  {
   "cell_type": "code",
   "execution_count": null,
   "metadata": {},
   "outputs": [],
   "source": []
  },
  {
   "cell_type": "code",
   "execution_count": null,
   "metadata": {},
   "outputs": [],
   "source": []
  }
 ],
 "metadata": {
  "kernelspec": {
   "display_name": "Python 3",
   "language": "python",
   "name": "python3"
  },
  "language_info": {
   "codemirror_mode": {
    "name": "ipython",
    "version": 3
   },
   "file_extension": ".py",
   "mimetype": "text/x-python",
   "name": "python",
   "nbconvert_exporter": "python",
   "pygments_lexer": "ipython3",
   "version": "3.7.4"
  }
 },
 "nbformat": 4,
 "nbformat_minor": 2
}
